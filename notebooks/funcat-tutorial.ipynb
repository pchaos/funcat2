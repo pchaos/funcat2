{
 "cells": [
  {
   "cell_type": "code",
   "execution_count": 1,
   "metadata": {},
   "outputs": [],
   "source": [
    "from matplotlib import rcParams\n",
    "import matplotlib.pyplot as plt\n",
    "import numpy as np\n",
    "\n",
    "np.seterr(all='ignore')\n",
    "rcParams['figure.figsize'] = (14, 6)"
   ]
  },
  {
   "cell_type": "code",
   "execution_count": 2,
   "metadata": {},
   "outputs": [
    {
     "name": "stdout",
     "output_type": "stream",
     "text": [
      "jqdatasdk not installed\n"
     ]
    }
   ],
   "source": [
    "from funcat import *"
   ]
  },
  {
   "cell_type": "code",
   "execution_count": 9,
   "metadata": {},
   "outputs": [],
   "source": [
    "from funcat.data.tushare_backend import TushareDataBackend\n",
    "from funcat.data.rqalpha_data_backend import RQAlphaDataBackend\n",
    "from funcat.data.quantaxis_backend import QuantaxisDataBackend\n",
    "\n",
    "backend = \"quantaxis\"\n",
    "\n",
    "if backend == \"rqalpha\":\n",
    "    set_data_backend(RQAlphaDataBackend(\"~/.rqalpha/bundle\"))\n",
    "elif backend == \"tushare\":\n",
    "    set_data_backend(TushareDataBackend())\n",
    "elif backend == \"quantaxis\":\n",
    "    set_data_backend(QuantaxisDataBackend())\n",
    "set_start_date(\"2019-01-01\")\n",
    "S(\"000001.XSHG\")  # 设置当前关注股票\n",
    "T(\"2020-06-01\")   # 设置当前观察日期"
   ]
  },
  {
   "cell_type": "markdown",
   "metadata": {},
   "source": [
    "## 基本API"
   ]
  },
  {
   "cell_type": "code",
   "execution_count": 10,
   "metadata": {},
   "outputs": [
    {
     "name": "stdout",
     "output_type": "stream",
     "text": [
      "2871.96 2917.15 2871.96 2915.43 2601960.0\n"
     ]
    }
   ],
   "source": [
    "print(O, H, L, C, V)  # 打印 Open High Low Close"
   ]
  },
  {
   "cell_type": "code",
   "execution_count": 11,
   "metadata": {},
   "outputs": [
    {
     "data": {
      "text/plain": [
       "0.022115098077024165"
      ]
     },
     "execution_count": 11,
     "metadata": {},
     "output_type": "execute_result"
    }
   ],
   "source": [
    "C / C[1] - 1  # 当天涨幅"
   ]
  },
  {
   "cell_type": "code",
   "execution_count": 12,
   "metadata": {},
   "outputs": [
    {
     "data": {
      "text/plain": [
       "2840.014499999998"
      ]
     },
     "execution_count": 12,
     "metadata": {},
     "output_type": "execute_result"
    }
   ],
   "source": [
    "MA(C, 60)  # 打印60日均线"
   ]
  },
  {
   "cell_type": "code",
   "execution_count": 13,
   "metadata": {},
   "outputs": [
    {
     "data": {
      "text/plain": [
       "True"
      ]
     },
     "execution_count": 13,
     "metadata": {},
     "output_type": "execute_result"
    }
   ],
   "source": [
    "C > MA(C, 60)  # 判断收盘价是否大于60日均线"
   ]
  },
  {
   "cell_type": "code",
   "execution_count": 14,
   "metadata": {},
   "outputs": [
    {
     "data": {
      "text/plain": [
       "2917.15"
      ]
     },
     "execution_count": 14,
     "metadata": {},
     "output_type": "execute_result"
    }
   ],
   "source": [
    "HHV(H, 30)  # 30日最高价"
   ]
  },
  {
   "cell_type": "code",
   "execution_count": 15,
   "metadata": {},
   "outputs": [
    {
     "data": {
      "text/plain": [
       "16"
      ]
     },
     "execution_count": 15,
     "metadata": {},
     "output_type": "execute_result"
    }
   ],
   "source": [
    "COUNT(C > MA(C, 60), 30)  # 最近30日，收盘价 Close 大于60日均线的天数"
   ]
  },
  {
   "cell_type": "code",
   "execution_count": 16,
   "metadata": {},
   "outputs": [
    {
     "data": {
      "text/plain": [
       "False"
      ]
     },
     "execution_count": 16,
     "metadata": {},
     "output_type": "execute_result"
    }
   ],
   "source": [
    "CROSS(MA(C, 10), MA(C, 20))  # 10日均线上穿"
   ]
  },
  {
   "cell_type": "code",
   "execution_count": 17,
   "metadata": {},
   "outputs": [
    {
     "data": {
      "text/plain": [
       "6"
      ]
     },
     "execution_count": 17,
     "metadata": {},
     "output_type": "execute_result"
    }
   ],
   "source": [
    "COUNT(C > O, 10)  # 最近10天收阳线的天数"
   ]
  },
  {
   "cell_type": "code",
   "execution_count": 18,
   "metadata": {},
   "outputs": [
    {
     "data": {
      "text/plain": [
       "3071.68"
      ]
     },
     "execution_count": 18,
     "metadata": {},
     "output_type": "execute_result"
    }
   ],
   "source": [
    "HHV(MAX(O, C), 60)  # 最近60天K线实体的最高价"
   ]
  },
  {
   "cell_type": "code",
   "execution_count": 19,
   "metadata": {},
   "outputs": [
    {
     "data": {
      "text/plain": [
       "True"
      ]
     },
     "execution_count": 19,
     "metadata": {},
     "output_type": "execute_result"
    }
   ],
   "source": [
    "CROSS(MA(C, 5), MA(C, 10))  # 5日均线上穿10日均线"
   ]
  },
  {
   "cell_type": "markdown",
   "metadata": {},
   "source": [
    "## 自定义公式"
   ]
  },
  {
   "cell_type": "markdown",
   "metadata": {},
   "source": [
    "### 0x01 KDJ指标"
   ]
  },
  {
   "cell_type": "code",
   "execution_count": 20,
   "metadata": {},
   "outputs": [
    {
     "name": "stdout",
     "output_type": "stream",
     "text": [
      "60.565364004600184 45.61968070224749 90.45673060930557\n"
     ]
    },
    {
     "data": {
      "text/plain": [
       "<matplotlib.legend.Legend at 0x7fae1c294160>"
      ]
     },
     "execution_count": 20,
     "metadata": {},
     "output_type": "execute_result"
    },
    {
     "data": {
      "image/png": "[encoded data removed]",
      "text/plain": [
       "<Figure size 1008x432 with 1 Axes>"
      ]
     },
     "metadata": {
      "needs_background": "light"
     },
     "output_type": "display_data"
    }
   ],
   "source": [
    "N, M1, M2 = 9, 3, 3\n",
    "\n",
    "RSV = (CLOSE - LLV(LOW, N)) / (HHV(HIGH, N) - LLV(LOW, N)) * 100\n",
    "K = EMA(RSV, (M1 * 2 - 1))\n",
    "D = EMA(K, (M2 * 2 - 1))\n",
    "J = K * 3 - D * 2\n",
    "\n",
    "ax = plt.subplot()\n",
    "\n",
    "plt.plot(K.series, label=\"K\", linewidth=2)\n",
    "plt.plot(D.series, label=\"D\", alpha=0.7)\n",
    "plt.plot(J.series, label=\"J\", alpha=0.7)\n",
    "\n",
    "print(K, D, J)\n",
    "plt.legend(loc=\"best\")"
   ]
  },
  {
   "cell_type": "markdown",
   "metadata": {},
   "source": [
    "### 0x02 均线金叉死叉"
   ]
  },
  {
   "cell_type": "code",
   "execution_count": 21,
   "metadata": {},
   "outputs": [
    {
     "data": {
      "text/plain": [
       "<matplotlib.legend.Legend at 0x7fae1a16e9d0>"
      ]
     },
     "execution_count": 21,
     "metadata": {},
     "output_type": "execute_result"
    },
    {
     "data": {
      "image/png": "[encoded data removed]",
      "text/plain": [
       "<Figure size 1008x432 with 1 Axes>"
      ]
     },
     "metadata": {
      "needs_background": "light"
     },
     "output_type": "display_data"
    }
   ],
   "source": [
    "ax = plt.subplot()\n",
    "\n",
    "ma10 = MA(C, 10)\n",
    "ma30 = MA(C, 30)\n",
    "buy_signal = CROSS(ma10, ma30)\n",
    "sell_signal = CROSS(ma30, ma10)\n",
    "\n",
    "plt.plot(C.series, label=\"close\", linewidth=2)\n",
    "plt.plot(ma10.series, label=\"ma10\", alpha=0.7)\n",
    "plt.plot(ma30.series, label=\"ma30\", alpha=0.7)\n",
    "\n",
    "plt.plot(np.where(buy_signal.series)[0], C.series[np.where(buy_signal.series)[0]], \"^\", label=\"buy\", markersize=12, color=\"red\")\n",
    "plt.plot(np.where(sell_signal.series)[0], C.series[np.where(sell_signal.series)[0]], \"v\", label=\"sell\", markersize=12, color=\"green\")\n",
    "plt.legend(loc=\"best\")"
   ]
  },
  {
   "cell_type": "markdown",
   "metadata": {},
   "source": [
    "### 0x03 DMA指标（Different of Moving Average）\n",
    "[DMA指标](http://wiki.mbalib.com/wiki/DMA)。DMA指标（Different of Moving Average）又叫平行线差指标，是目前股市分析技术指标中的一种中短期指标，它常用于大盘指数和个股的研判。"
   ]
  },
  {
   "cell_type": "code",
   "execution_count": 22,
   "metadata": {},
   "outputs": [
    {
     "name": "stdout",
     "output_type": "stream",
     "text": [
      "38.04040000000259 46.24572000000239\n"
     ]
    },
    {
     "data": {
      "text/plain": [
       "<matplotlib.legend.Legend at 0x7fae188ed4c0>"
      ]
     },
     "execution_count": 22,
     "metadata": {},
     "output_type": "execute_result"
    },
    {
     "data": {
      "image/png": "[encoded data removed]",
      "text/plain": [
       "<Figure size 1008x432 with 2 Axes>"
      ]
     },
     "metadata": {
      "needs_background": "light"
     },
     "output_type": "display_data"
    }
   ],
   "source": [
    "M1 = 10\n",
    "M2 = 50\n",
    "M3 = 10\n",
    "\n",
    "DDD = MA(CLOSE, M1) - MA(CLOSE, M2)\n",
    "AMA = MA(DDD, M3)\n",
    "\n",
    "print(DDD, AMA)\n",
    "\n",
    "f, (ax1, ax2) = plt.subplots(2, 1)\n",
    "\n",
    "ax1.plot(C.series, label=\"close\")\n",
    "ax1.plot(MA(C, 30).series, label=\"ma60\")\n",
    "ax1.set_xlim(50)\n",
    "\n",
    "ax2.plot(DDD.series, label=\"DDD\")\n",
    "ax2.plot(AMA.series, label=\"AMA\")\n",
    "ax2.set_xlim(50)\n",
    "\n",
    "plt.legend(loc=\"best\")"
   ]
  },
  {
   "cell_type": "markdown",
   "metadata": {},
   "source": [
    "## 选股"
   ]
  },
  {
   "cell_type": "code",
   "execution_count": 23,
   "metadata": {},
   "outputs": [
    {
     "name": "stderr",
     "output_type": "stream",
     "text": [
      "\r",
      "  0%|          | 0/4328 [00:00<?, ?it/s]"
     ]
    },
    {
     "name": "stdout",
     "output_type": "stream",
     "text": [
      "lambda : C / C[1] - 1 >= 0.0995,\n",
      "[20170104]\n"
     ]
    },
    {
     "name": "stderr",
     "output_type": "stream",
     "text": [
      "Processing 000023:   0%|          | 17/4328 [00:00<02:59, 24.04it/s]"
     ]
    },
    {
     "name": "stdout",
     "output_type": "stream",
     "text": [
      "20170104 000017 *ST中华A\n"
     ]
    },
    {
     "name": "stderr",
     "output_type": "stream",
     "text": [
      "Processing 000029:   1%|          | 23/4328 [00:01<03:19, 21.63it/s]"
     ]
    },
    {
     "name": "stdout",
     "output_type": "stream",
     "text": [
      "20170104 000026 飞亚达\n"
     ]
    },
    {
     "name": "stderr",
     "output_type": "stream",
     "text": [
      "Processing 000055:   1%|          | 38/4328 [00:01<02:54, 24.52it/s]"
     ]
    },
    {
     "name": "stdout",
     "output_type": "stream",
     "text": [
      "20170104 000045 深纺织Ａ\n"
     ]
    },
    {
     "name": "stderr",
     "output_type": "stream",
     "text": [
      "Processing 000591:   4%|▍         | 167/4328 [00:06<02:37, 26.35it/s]"
     ]
    },
    {
     "name": "stdout",
     "output_type": "stream",
     "text": [
      "20170104 000585 *ST东电\n"
     ]
    },
    {
     "name": "stderr",
     "output_type": "stream",
     "text": [
      "Processing 000600:   4%|▍         | 174/4328 [00:06<02:31, 27.37it/s]"
     ]
    },
    {
     "name": "stdout",
     "output_type": "stream",
     "text": [
      "20170104 000595 *ST宝实\n"
     ]
    },
    {
     "name": "stderr",
     "output_type": "stream",
     "text": [
      "Processing 000683:   5%|▌         | 232/4328 [00:09<02:35, 26.32it/s]"
     ]
    },
    {
     "name": "stdout",
     "output_type": "stream",
     "text": [
      "20170104 000678 襄阳轴承\n"
     ]
    },
    {
     "name": "stderr",
     "output_type": "stream",
     "text": [
      "Processing 000701:   6%|▌         | 245/4328 [00:09<02:37, 25.94it/s]"
     ]
    },
    {
     "name": "stdout",
     "output_type": "stream",
     "text": [
      "20170104 000695 滨海能源\n"
     ]
    },
    {
     "name": "stderr",
     "output_type": "stream",
     "text": [
      "Processing 000716:   6%|▌         | 257/4328 [00:10<02:45, 24.55it/s]"
     ]
    },
    {
     "name": "stdout",
     "output_type": "stream",
     "text": [
      "20170104 000710 贝瑞基因\n"
     ]
    },
    {
     "name": "stderr",
     "output_type": "stream",
     "text": [
      "Processing 000760:   7%|▋         | 288/4328 [00:11<02:36, 25.85it/s]"
     ]
    },
    {
     "name": "stdout",
     "output_type": "stream",
     "text": [
      "20170104 000755 山西路桥\n"
     ]
    },
    {
     "name": "stderr",
     "output_type": "stream",
     "text": [
      "Processing 000890:   9%|▊         | 369/4328 [00:14<02:28, 26.70it/s]"
     ]
    },
    {
     "name": "stdout",
     "output_type": "stream",
     "text": [
      "20170104 000885 城发环境\n"
     ]
    },
    {
     "name": "stderr",
     "output_type": "stream",
     "text": [
      "Processing 000965:  10%|▉         | 425/4328 [00:16<02:34, 25.21it/s]"
     ]
    },
    {
     "name": "stdout",
     "output_type": "stream",
     "text": [
      "20170104 000959 首钢股份\n"
     ]
    },
    {
     "name": "stderr",
     "output_type": "stream",
     "text": [
      "Processing 001914:  11%|█         | 460/4328 [00:18<01:56, 33.06it/s]"
     ]
    },
    {
     "name": "stdout",
     "output_type": "stream",
     "text": [
      "QA Error QA_fetch_stock_day_adv parameter code=001201 , start=2016-01-04, end=2017-01-04 call QA_fetch_stock_day return None\n",
      "QA Error QA_fetch_stock_day_adv parameter code=001202 , start=2016-01-04, end=2017-01-04 call QA_fetch_stock_day return None\n",
      "QA Error QA_fetch_stock_day_adv parameter code=001203 , start=2016-01-04, end=2017-01-04 call QA_fetch_stock_day return None\n",
      "QA Error QA_fetch_stock_day_adv parameter code=001205 , start=2016-01-04, end=2017-01-04 call QA_fetch_stock_day return None\n",
      "QA Error QA_fetch_stock_day_adv parameter code=001206 , start=2016-01-04, end=2017-01-04 call QA_fetch_stock_day return None\n"
     ]
    },
    {
     "name": "stderr",
     "output_type": "stream",
     "text": [
      "Processing 002003:  11%|█         | 464/4328 [00:18<01:58, 32.66it/s]"
     ]
    },
    {
     "name": "stdout",
     "output_type": "stream",
     "text": [
      "QA Error QA_fetch_stock_day_adv parameter code=001965 , start=2016-01-04, end=2017-01-04 call QA_fetch_stock_day return None\n"
     ]
    },
    {
     "name": "stderr",
     "output_type": "stream",
     "text": [
      "Processing 002247:  16%|█▋        | 705/4328 [00:27<02:40, 22.57it/s]"
     ]
    },
    {
     "name": "stdout",
     "output_type": "stream",
     "text": [
      "20170104 002245 蔚蓝锂芯\n"
     ]
    },
    {
     "name": "stderr",
     "output_type": "stream",
     "text": [
      "Processing 002302:  17%|█▋        | 757/4328 [00:30<02:12, 26.96it/s]"
     ]
    },
    {
     "name": "stdout",
     "output_type": "stream",
     "text": [
      "20170104 002297 博云新材\n",
      "20170104 002300 太阳电缆\n"
     ]
    },
    {
     "name": "stderr",
     "output_type": "stream",
     "text": [
      "Processing 002466:  21%|██▏       | 920/4328 [00:36<02:09, 26.24it/s]"
     ]
    },
    {
     "name": "stdout",
     "output_type": "stream",
     "text": [
      "20170104 002461 珠江啤酒\n"
     ]
    },
    {
     "name": "stderr",
     "output_type": "stream",
     "text": [
      "Processing 002535:  23%|██▎       | 988/4328 [00:39<02:14, 24.82it/s]"
     ]
    },
    {
     "name": "stdout",
     "output_type": "stream",
     "text": [
      "20170104 002530 金财互联\n"
     ]
    },
    {
     "name": "stderr",
     "output_type": "stream",
     "text": [
      "Processing 002708:  27%|██▋       | 1157/4328 [00:46<01:58, 26.71it/s]"
     ]
    },
    {
     "name": "stdout",
     "output_type": "stream",
     "text": [
      "20170104 002703 浙江世宝\n"
     ]
    },
    {
     "name": "stderr",
     "output_type": "stream",
     "text": [
      "Processing 002714:  27%|██▋       | 1164/4328 [00:46<01:54, 27.61it/s]"
     ]
    },
    {
     "name": "stdout",
     "output_type": "stream",
     "text": [
      "20170104 002709 天赐材料\n",
      "QA Error QA_fetch_stock_day_adv parameter code=002710 , start=2016-01-04, end=2017-01-04 call QA_fetch_stock_day return None\n"
     ]
    },
    {
     "name": "stderr",
     "output_type": "stream",
     "text": [
      "Processing 002725:  27%|██▋       | 1174/4328 [00:47<01:52, 28.03it/s]"
     ]
    },
    {
     "name": "stdout",
     "output_type": "stream",
     "text": [
      "QA Error QA_fetch_stock_day_adv parameter code=002720 , start=2016-01-04, end=2017-01-04 call QA_fetch_stock_day return None\n"
     ]
    },
    {
     "name": "stderr",
     "output_type": "stream",
     "text": [
      "Processing 002743:  28%|██▊       | 1194/4328 [00:48<02:42, 19.28it/s]"
     ]
    },
    {
     "name": "stdout",
     "output_type": "stream",
     "text": [
      "20170104 002738 中矿资源\n"
     ]
    },
    {
     "name": "stderr",
     "output_type": "stream",
     "text": [
      "Processing 002779:  28%|██▊       | 1225/4328 [00:49<02:19, 22.24it/s]"
     ]
    },
    {
     "name": "stdout",
     "output_type": "stream",
     "text": [
      "QA Error QA_fetch_stock_day_adv parameter code=002774 , start=2016-01-04, end=2017-01-04 call QA_fetch_stock_day return None\n"
     ]
    },
    {
     "name": "stderr",
     "output_type": "stream",
     "text": [
      "Processing 002828:  29%|██▉       | 1270/4328 [00:51<01:55, 26.58it/s]"
     ]
    },
    {
     "name": "stdout",
     "output_type": "stream",
     "text": [
      "QA Error QA_fetch_stock_day_adv parameter code=002824 , start=2016-01-04, end=2017-01-04 call QA_fetch_stock_day return None\n"
     ]
    },
    {
     "name": "stderr",
     "output_type": "stream",
     "text": [
      "Processing 002852:  30%|██▉       | 1280/4328 [00:52<01:51, 27.44it/s]"
     ]
    },
    {
     "name": "stdout",
     "output_type": "stream",
     "text": [
      "20170104 002833 弘亚数控\n",
      "20170104 002835 同为股份\n",
      "20170104 002836 新宏泽\n",
      "20170104 002837 英维克\n",
      "QA Error QA_fetch_stock_day_adv parameter code=002838 , start=2016-01-04, end=2017-01-04 call QA_fetch_stock_day return None\n",
      "QA Error QA_fetch_stock_day_adv parameter code=002839 , start=2016-01-04, end=2017-01-04 call QA_fetch_stock_day return None\n",
      "QA Error QA_fetch_stock_day_adv parameter code=002840 , start=2016-01-04, end=2017-01-04 call QA_fetch_stock_day return None\n",
      "QA Error QA_fetch_stock_day_adv parameter code=002841 , start=2016-01-04, end=2017-01-04 call QA_fetch_stock_day return None\n",
      "QA Error QA_fetch_stock_day_adv parameter code=002842 , start=2016-01-04, end=2017-01-04 call QA_fetch_stock_day return None\n",
      "QA Error QA_fetch_stock_day_adv parameter code=002843 , start=2016-01-04, end=2017-01-04 call QA_fetch_stock_day return None\n",
      "QA Error QA_fetch_stock_day_adv parameter code=002845 , start=2016-01-04, end=2017-01-04 call QA_fetch_stock_day return None\n",
      "QA Error QA_fetch_stock_day_adv parameter code=002846 , start=2016-01-04, end=2017-01-04 call QA_fetch_stock_day return None\n",
      "QA Error QA_fetch_stock_day_adv parameter code=002847 , start=2016-01-04, end=2017-01-04 call QA_fetch_stock_day return None\n",
      "QA Error QA_fetch_stock_day_adv parameter code=002848 , start=2016-01-04, end=2017-01-04 call QA_fetch_stock_day return None\n",
      "QA Error QA_fetch_stock_day_adv parameter code=002849 , start=2016-01-04, end=2017-01-04 call QA_fetch_stock_day return None\n",
      "QA Error QA_fetch_stock_day_adv parameter code=002850 , start=2016-01-04, end=2017-01-04 call QA_fetch_stock_day return None\n",
      "QA Error QA_fetch_stock_day_adv parameter code=002851 , start=2016-01-04, end=2017-01-04 call QA_fetch_stock_day return None\n",
      "QA Error QA_fetch_stock_day_adv parameter code=002852 , start=2016-01-04, end=2017-01-04 call QA_fetch_stock_day return None\n"
     ]
    },
    {
     "name": "stderr",
     "output_type": "stream",
     "text": [
      "Processing 002886:  30%|███       | 1315/4328 [00:52<00:31, 94.30it/s]"
     ]
    },
    {
     "name": "stdout",
     "output_type": "stream",
     "text": [
      "QA Error QA_fetch_stock_day_adv parameter code=002853 , start=2016-01-04, end=2017-01-04 call QA_fetch_stock_day return None\n",
      "QA Error QA_fetch_stock_day_adv parameter code=002855 , start=2016-01-04, end=2017-01-04 call QA_fetch_stock_day return None\n",
      "QA Error QA_fetch_stock_day_adv parameter code=002856 , start=2016-01-04, end=2017-01-04 call QA_fetch_stock_day return None\n",
      "QA Error QA_fetch_stock_day_adv parameter code=002857 , start=2016-01-04, end=2017-01-04 call QA_fetch_stock_day return None\n",
      "QA Error QA_fetch_stock_day_adv parameter code=002858 , start=2016-01-04, end=2017-01-04 call QA_fetch_stock_day return None\n",
      "QA Error QA_fetch_stock_day_adv parameter code=002859 , start=2016-01-04, end=2017-01-04 call QA_fetch_stock_day return None\n",
      "QA Error QA_fetch_stock_day_adv parameter code=002860 , start=2016-01-04, end=2017-01-04 call QA_fetch_stock_day return None\n",
      "QA Error QA_fetch_stock_day_adv parameter code=002861 , start=2016-01-04, end=2017-01-04 call QA_fetch_stock_day return None\n",
      "QA Error QA_fetch_stock_day_adv parameter code=002862 , start=2016-01-04, end=2017-01-04 call QA_fetch_stock_day return None\n",
      "QA Error QA_fetch_stock_day_adv parameter code=002863 , start=2016-01-04, end=2017-01-04 call QA_fetch_stock_day return None\n",
      "QA Error QA_fetch_stock_day_adv parameter code=002864 , start=2016-01-04, end=2017-01-04 call QA_fetch_stock_day return None\n",
      "QA Error QA_fetch_stock_day_adv parameter code=002865 , start=2016-01-04, end=2017-01-04 call QA_fetch_stock_day return None\n",
      "QA Error QA_fetch_stock_day_adv parameter code=002866 , start=2016-01-04, end=2017-01-04 call QA_fetch_stock_day return None\n",
      "QA Error QA_fetch_stock_day_adv parameter code=002867 , start=2016-01-04, end=2017-01-04 call QA_fetch_stock_day return None\n",
      "QA Error QA_fetch_stock_day_adv parameter code=002868 , start=2016-01-04, end=2017-01-04 call QA_fetch_stock_day return None\n",
      "QA Error QA_fetch_stock_day_adv parameter code=002869 , start=2016-01-04, end=2017-01-04 call QA_fetch_stock_day return None\n",
      "QA Error QA_fetch_stock_day_adv parameter code=002870 , start=2016-01-04, end=2017-01-04 call QA_fetch_stock_day return None\n",
      "QA Error QA_fetch_stock_day_adv parameter code=002871 , start=2016-01-04, end=2017-01-04 call QA_fetch_stock_day return None\n",
      "QA Error QA_fetch_stock_day_adv parameter code=002872 , start=2016-01-04, end=2017-01-04 call QA_fetch_stock_day return None\n",
      "QA Error QA_fetch_stock_day_adv parameter code=002873 , start=2016-01-04, end=2017-01-04 call QA_fetch_stock_day return None\n",
      "QA Error QA_fetch_stock_day_adv parameter code=002875 , start=2016-01-04, end=2017-01-04 call QA_fetch_stock_day return None\n",
      "QA Error QA_fetch_stock_day_adv parameter code=002876 , start=2016-01-04, end=2017-01-04 call QA_fetch_stock_day return None\n",
      "QA Error QA_fetch_stock_day_adv parameter code=002877 , start=2016-01-04, end=2017-01-04 call QA_fetch_stock_day return None\n",
      "QA Error QA_fetch_stock_day_adv parameter code=002878 , start=2016-01-04, end=2017-01-04 call QA_fetch_stock_day return None\n",
      "QA Error QA_fetch_stock_day_adv parameter code=002879 , start=2016-01-04, end=2017-01-04 call QA_fetch_stock_day return None\n",
      "QA Error QA_fetch_stock_day_adv parameter code=002880 , start=2016-01-04, end=2017-01-04 call QA_fetch_stock_day return None\n",
      "QA Error QA_fetch_stock_day_adv parameter code=002881 , start=2016-01-04, end=2017-01-04 call QA_fetch_stock_day return None\n",
      "QA Error QA_fetch_stock_day_adv parameter code=002882 , start=2016-01-04, end=2017-01-04 call QA_fetch_stock_day return None\n",
      "QA Error QA_fetch_stock_day_adv parameter code=002883 , start=2016-01-04, end=2017-01-04 call QA_fetch_stock_day return None\n",
      "QA Error QA_fetch_stock_day_adv parameter code=002884 , start=2016-01-04, end=2017-01-04 call QA_fetch_stock_day return None\n",
      "QA Error QA_fetch_stock_day_adv parameter code=002885 , start=2016-01-04, end=2017-01-04 call QA_fetch_stock_day return None\n",
      "QA Error QA_fetch_stock_day_adv parameter code=002886 , start=2016-01-04, end=2017-01-04 call QA_fetch_stock_day return None\n"
     ]
    },
    {
     "name": "stderr",
     "output_type": "stream",
     "text": [
      "Processing 002922:  31%|███       | 1345/4328 [00:52<00:24, 119.54it/s]"
     ]
    },
    {
     "name": "stdout",
     "output_type": "stream",
     "text": [
      "QA Error QA_fetch_stock_day_adv parameter code=002887 , start=2016-01-04, end=2017-01-04 call QA_fetch_stock_day return None\n",
      "QA Error QA_fetch_stock_day_adv parameter code=002888 , start=2016-01-04, end=2017-01-04 call QA_fetch_stock_day return None\n",
      "QA Error QA_fetch_stock_day_adv parameter code=002889 , start=2016-01-04, end=2017-01-04 call QA_fetch_stock_day return None\n",
      "QA Error QA_fetch_stock_day_adv parameter code=002890 , start=2016-01-04, end=2017-01-04 call QA_fetch_stock_day return None\n",
      "QA Error QA_fetch_stock_day_adv parameter code=002891 , start=2016-01-04, end=2017-01-04 call QA_fetch_stock_day return None\n",
      "QA Error QA_fetch_stock_day_adv parameter code=002892 , start=2016-01-04, end=2017-01-04 call QA_fetch_stock_day return None\n",
      "QA Error QA_fetch_stock_day_adv parameter code=002893 , start=2016-01-04, end=2017-01-04 call QA_fetch_stock_day return None\n",
      "QA Error QA_fetch_stock_day_adv parameter code=002895 , start=2016-01-04, end=2017-01-04 call QA_fetch_stock_day return None\n",
      "QA Error QA_fetch_stock_day_adv parameter code=002896 , start=2016-01-04, end=2017-01-04 call QA_fetch_stock_day return None\n",
      "QA Error QA_fetch_stock_day_adv parameter code=002897 , start=2016-01-04, end=2017-01-04 call QA_fetch_stock_day return None\n",
      "QA Error QA_fetch_stock_day_adv parameter code=002898 , start=2016-01-04, end=2017-01-04 call QA_fetch_stock_day return None\n",
      "QA Error QA_fetch_stock_day_adv parameter code=002899 , start=2016-01-04, end=2017-01-04 call QA_fetch_stock_day return None\n",
      "QA Error QA_fetch_stock_day_adv parameter code=002900 , start=2016-01-04, end=2017-01-04 call QA_fetch_stock_day return None\n",
      "QA Error QA_fetch_stock_day_adv parameter code=002901 , start=2016-01-04, end=2017-01-04 call QA_fetch_stock_day return None\n",
      "QA Error QA_fetch_stock_day_adv parameter code=002902 , start=2016-01-04, end=2017-01-04 call QA_fetch_stock_day return None\n",
      "QA Error QA_fetch_stock_day_adv parameter code=002903 , start=2016-01-04, end=2017-01-04 call QA_fetch_stock_day return None\n",
      "QA Error QA_fetch_stock_day_adv parameter code=002905 , start=2016-01-04, end=2017-01-04 call QA_fetch_stock_day return None\n",
      "QA Error QA_fetch_stock_day_adv parameter code=002906 , start=2016-01-04, end=2017-01-04 call QA_fetch_stock_day return None\n",
      "QA Error QA_fetch_stock_day_adv parameter code=002907 , start=2016-01-04, end=2017-01-04 call QA_fetch_stock_day return None\n",
      "QA Error QA_fetch_stock_day_adv parameter code=002908 , start=2016-01-04, end=2017-01-04 call QA_fetch_stock_day return None\n",
      "QA Error QA_fetch_stock_day_adv parameter code=002909 , start=2016-01-04, end=2017-01-04 call QA_fetch_stock_day return None\n",
      "QA Error QA_fetch_stock_day_adv parameter code=002910 , start=2016-01-04, end=2017-01-04 call QA_fetch_stock_day return None\n",
      "QA Error QA_fetch_stock_day_adv parameter code=002911 , start=2016-01-04, end=2017-01-04 call QA_fetch_stock_day return None\n",
      "QA Error QA_fetch_stock_day_adv parameter code=002912 , start=2016-01-04, end=2017-01-04 call QA_fetch_stock_day return None\n",
      "QA Error QA_fetch_stock_day_adv parameter code=002913 , start=2016-01-04, end=2017-01-04 call QA_fetch_stock_day return None\n",
      "QA Error QA_fetch_stock_day_adv parameter code=002915 , start=2016-01-04, end=2017-01-04 call QA_fetch_stock_day return None\n",
      "QA Error QA_fetch_stock_day_adv parameter code=002916 , start=2016-01-04, end=2017-01-04 call QA_fetch_stock_day return None\n",
      "QA Error QA_fetch_stock_day_adv parameter code=002917 , start=2016-01-04, end=2017-01-04 call QA_fetch_stock_day return None\n",
      "QA Error QA_fetch_stock_day_adv parameter code=002918 , start=2016-01-04, end=2017-01-04 call QA_fetch_stock_day return None\n",
      "QA Error QA_fetch_stock_day_adv parameter code=002919 , start=2016-01-04, end=2017-01-04 call QA_fetch_stock_day return None\n",
      "QA Error QA_fetch_stock_day_adv parameter code=002920 , start=2016-01-04, end=2017-01-04 call QA_fetch_stock_day return None\n",
      "QA Error QA_fetch_stock_day_adv parameter code=002921 , start=2016-01-04, end=2017-01-04 call QA_fetch_stock_day return None\n",
      "QA Error QA_fetch_stock_day_adv parameter code=002922 , start=2016-01-04, end=2017-01-04 call QA_fetch_stock_day return None\n"
     ]
    },
    {
     "name": "stderr",
     "output_type": "stream",
     "text": [
      "Processing 002956:  32%|███▏      | 1375/4328 [00:52<00:22, 129.91it/s]"
     ]
    },
    {
     "name": "stdout",
     "output_type": "stream",
     "text": [
      "QA Error QA_fetch_stock_day_adv parameter code=002923 , start=2016-01-04, end=2017-01-04 call QA_fetch_stock_day return None\n",
      "QA Error QA_fetch_stock_day_adv parameter code=002925 , start=2016-01-04, end=2017-01-04 call QA_fetch_stock_day return None\n",
      "QA Error QA_fetch_stock_day_adv parameter code=002926 , start=2016-01-04, end=2017-01-04 call QA_fetch_stock_day return None\n",
      "QA Error QA_fetch_stock_day_adv parameter code=002927 , start=2016-01-04, end=2017-01-04 call QA_fetch_stock_day return None\n",
      "QA Error QA_fetch_stock_day_adv parameter code=002928 , start=2016-01-04, end=2017-01-04 call QA_fetch_stock_day return None\n",
      "QA Error QA_fetch_stock_day_adv parameter code=002929 , start=2016-01-04, end=2017-01-04 call QA_fetch_stock_day return None\n",
      "QA Error QA_fetch_stock_day_adv parameter code=002930 , start=2016-01-04, end=2017-01-04 call QA_fetch_stock_day return None\n",
      "QA Error QA_fetch_stock_day_adv parameter code=002931 , start=2016-01-04, end=2017-01-04 call QA_fetch_stock_day return None\n",
      "QA Error QA_fetch_stock_day_adv parameter code=002932 , start=2016-01-04, end=2017-01-04 call QA_fetch_stock_day return None\n",
      "QA Error QA_fetch_stock_day_adv parameter code=002933 , start=2016-01-04, end=2017-01-04 call QA_fetch_stock_day return None\n",
      "QA Error QA_fetch_stock_day_adv parameter code=002935 , start=2016-01-04, end=2017-01-04 call QA_fetch_stock_day return None\n",
      "QA Error QA_fetch_stock_day_adv parameter code=002936 , start=2016-01-04, end=2017-01-04 call QA_fetch_stock_day return None\n",
      "QA Error QA_fetch_stock_day_adv parameter code=002937 , start=2016-01-04, end=2017-01-04 call QA_fetch_stock_day return None\n",
      "QA Error QA_fetch_stock_day_adv parameter code=002938 , start=2016-01-04, end=2017-01-04 call QA_fetch_stock_day return None\n",
      "QA Error QA_fetch_stock_day_adv parameter code=002939 , start=2016-01-04, end=2017-01-04 call QA_fetch_stock_day return None\n",
      "QA Error QA_fetch_stock_day_adv parameter code=002940 , start=2016-01-04, end=2017-01-04 call QA_fetch_stock_day return None\n",
      "QA Error QA_fetch_stock_day_adv parameter code=002941 , start=2016-01-04, end=2017-01-04 call QA_fetch_stock_day return None\n",
      "QA Error QA_fetch_stock_day_adv parameter code=002942 , start=2016-01-04, end=2017-01-04 call QA_fetch_stock_day return None\n",
      "QA Error QA_fetch_stock_day_adv parameter code=002943 , start=2016-01-04, end=2017-01-04 call QA_fetch_stock_day return None\n",
      "QA Error QA_fetch_stock_day_adv parameter code=002945 , start=2016-01-04, end=2017-01-04 call QA_fetch_stock_day return None\n",
      "QA Error QA_fetch_stock_day_adv parameter code=002946 , start=2016-01-04, end=2017-01-04 call QA_fetch_stock_day return None\n",
      "QA Error QA_fetch_stock_day_adv parameter code=002947 , start=2016-01-04, end=2017-01-04 call QA_fetch_stock_day return None\n",
      "QA Error QA_fetch_stock_day_adv parameter code=002948 , start=2016-01-04, end=2017-01-04 call QA_fetch_stock_day return None\n",
      "QA Error QA_fetch_stock_day_adv parameter code=002949 , start=2016-01-04, end=2017-01-04 call QA_fetch_stock_day return None\n",
      "QA Error QA_fetch_stock_day_adv parameter code=002950 , start=2016-01-04, end=2017-01-04 call QA_fetch_stock_day return None\n",
      "QA Error QA_fetch_stock_day_adv parameter code=002951 , start=2016-01-04, end=2017-01-04 call QA_fetch_stock_day return None\n",
      "QA Error QA_fetch_stock_day_adv parameter code=002952 , start=2016-01-04, end=2017-01-04 call QA_fetch_stock_day return None\n",
      "QA Error QA_fetch_stock_day_adv parameter code=002953 , start=2016-01-04, end=2017-01-04 call QA_fetch_stock_day return None\n",
      "QA Error QA_fetch_stock_day_adv parameter code=002955 , start=2016-01-04, end=2017-01-04 call QA_fetch_stock_day return None\n",
      "QA Error QA_fetch_stock_day_adv parameter code=002956 , start=2016-01-04, end=2017-01-04 call QA_fetch_stock_day return None\n"
     ]
    },
    {
     "name": "stderr",
     "output_type": "stream",
     "text": [
      "Processing 002987:  32%|███▏      | 1405/4328 [00:52<00:22, 130.34it/s]"
     ]
    },
    {
     "name": "stdout",
     "output_type": "stream",
     "text": [
      "QA Error QA_fetch_stock_day_adv parameter code=002957 , start=2016-01-04, end=2017-01-04 call QA_fetch_stock_day return None\n",
      "QA Error QA_fetch_stock_day_adv parameter code=002958 , start=2016-01-04, end=2017-01-04 call QA_fetch_stock_day return None\n",
      "QA Error QA_fetch_stock_day_adv parameter code=002959 , start=2016-01-04, end=2017-01-04 call QA_fetch_stock_day return None\n",
      "QA Error QA_fetch_stock_day_adv parameter code=002960 , start=2016-01-04, end=2017-01-04 call QA_fetch_stock_day return None\n",
      "QA Error QA_fetch_stock_day_adv parameter code=002961 , start=2016-01-04, end=2017-01-04 call QA_fetch_stock_day return None\n",
      "QA Error QA_fetch_stock_day_adv parameter code=002962 , start=2016-01-04, end=2017-01-04 call QA_fetch_stock_day return None\n",
      "QA Error QA_fetch_stock_day_adv parameter code=002963 , start=2016-01-04, end=2017-01-04 call QA_fetch_stock_day return None\n",
      "QA Error QA_fetch_stock_day_adv parameter code=002965 , start=2016-01-04, end=2017-01-04 call QA_fetch_stock_day return None\n",
      "QA Error QA_fetch_stock_day_adv parameter code=002966 , start=2016-01-04, end=2017-01-04 call QA_fetch_stock_day return None\n",
      "QA Error QA_fetch_stock_day_adv parameter code=002967 , start=2016-01-04, end=2017-01-04 call QA_fetch_stock_day return None\n",
      "QA Error QA_fetch_stock_day_adv parameter code=002968 , start=2016-01-04, end=2017-01-04 call QA_fetch_stock_day return None\n",
      "QA Error QA_fetch_stock_day_adv parameter code=002969 , start=2016-01-04, end=2017-01-04 call QA_fetch_stock_day return None\n",
      "QA Error QA_fetch_stock_day_adv parameter code=002970 , start=2016-01-04, end=2017-01-04 call QA_fetch_stock_day return None\n",
      "QA Error QA_fetch_stock_day_adv parameter code=002971 , start=2016-01-04, end=2017-01-04 call QA_fetch_stock_day return None\n",
      "QA Error QA_fetch_stock_day_adv parameter code=002972 , start=2016-01-04, end=2017-01-04 call QA_fetch_stock_day return None\n",
      "QA Error QA_fetch_stock_day_adv parameter code=002973 , start=2016-01-04, end=2017-01-04 call QA_fetch_stock_day return None\n",
      "QA Error QA_fetch_stock_day_adv parameter code=002975 , start=2016-01-04, end=2017-01-04 call QA_fetch_stock_day return None\n",
      "QA Error QA_fetch_stock_day_adv parameter code=002976 , start=2016-01-04, end=2017-01-04 call QA_fetch_stock_day return None\n",
      "QA Error QA_fetch_stock_day_adv parameter code=002977 , start=2016-01-04, end=2017-01-04 call QA_fetch_stock_day return None\n",
      "QA Error QA_fetch_stock_day_adv parameter code=002978 , start=2016-01-04, end=2017-01-04 call QA_fetch_stock_day return None\n",
      "QA Error QA_fetch_stock_day_adv parameter code=002979 , start=2016-01-04, end=2017-01-04 call QA_fetch_stock_day return None\n",
      "QA Error QA_fetch_stock_day_adv parameter code=002980 , start=2016-01-04, end=2017-01-04 call QA_fetch_stock_day return None\n",
      "QA Error QA_fetch_stock_day_adv parameter code=002981 , start=2016-01-04, end=2017-01-04 call QA_fetch_stock_day return None\n",
      "QA Error QA_fetch_stock_day_adv parameter code=002982 , start=2016-01-04, end=2017-01-04 call QA_fetch_stock_day return None\n",
      "QA Error QA_fetch_stock_day_adv parameter code=002983 , start=2016-01-04, end=2017-01-04 call QA_fetch_stock_day return None\n",
      "QA Error QA_fetch_stock_day_adv parameter code=002984 , start=2016-01-04, end=2017-01-04 call QA_fetch_stock_day return None\n",
      "QA Error QA_fetch_stock_day_adv parameter code=002985 , start=2016-01-04, end=2017-01-04 call QA_fetch_stock_day return None\n",
      "QA Error QA_fetch_stock_day_adv parameter code=002986 , start=2016-01-04, end=2017-01-04 call QA_fetch_stock_day return None\n",
      "QA Error QA_fetch_stock_day_adv parameter code=002987 , start=2016-01-04, end=2017-01-04 call QA_fetch_stock_day return None\n"
     ]
    },
    {
     "name": "stderr",
     "output_type": "stream",
     "text": [
      "Processing 003013:  33%|███▎      | 1438/4328 [00:53<00:20, 140.73it/s]"
     ]
    },
    {
     "name": "stdout",
     "output_type": "stream",
     "text": [
      "QA Error QA_fetch_stock_day_adv parameter code=002988 , start=2016-01-04, end=2017-01-04 call QA_fetch_stock_day return None\n",
      "QA Error QA_fetch_stock_day_adv parameter code=002989 , start=2016-01-04, end=2017-01-04 call QA_fetch_stock_day return None\n",
      "QA Error QA_fetch_stock_day_adv parameter code=002990 , start=2016-01-04, end=2017-01-04 call QA_fetch_stock_day return None\n",
      "QA Error QA_fetch_stock_day_adv parameter code=002991 , start=2016-01-04, end=2017-01-04 call QA_fetch_stock_day return None\n",
      "QA Error QA_fetch_stock_day_adv parameter code=002992 , start=2016-01-04, end=2017-01-04 call QA_fetch_stock_day return None\n",
      "QA Error QA_fetch_stock_day_adv parameter code=002993 , start=2016-01-04, end=2017-01-04 call QA_fetch_stock_day return None\n",
      "QA Error QA_fetch_stock_day_adv parameter code=002995 , start=2016-01-04, end=2017-01-04 call QA_fetch_stock_day return None\n",
      "QA Error QA_fetch_stock_day_adv parameter code=002996 , start=2016-01-04, end=2017-01-04 call QA_fetch_stock_day return None\n",
      "QA Error QA_fetch_stock_day_adv parameter code=002997 , start=2016-01-04, end=2017-01-04 call QA_fetch_stock_day return None\n",
      "QA Error QA_fetch_stock_day_adv parameter code=002998 , start=2016-01-04, end=2017-01-04 call QA_fetch_stock_day return None\n",
      "QA Error QA_fetch_stock_day_adv parameter code=002999 , start=2016-01-04, end=2017-01-04 call QA_fetch_stock_day return None\n",
      "QA Error QA_fetch_stock_day_adv parameter code=003000 , start=2016-01-04, end=2017-01-04 call QA_fetch_stock_day return None\n",
      "QA Error QA_fetch_stock_day_adv parameter code=003001 , start=2016-01-04, end=2017-01-04 call QA_fetch_stock_day return None\n",
      "QA Error QA_fetch_stock_day_adv parameter code=003002 , start=2016-01-04, end=2017-01-04 call QA_fetch_stock_day return None\n",
      "QA Error QA_fetch_stock_day_adv parameter code=003003 , start=2016-01-04, end=2017-01-04 call QA_fetch_stock_day return None\n",
      "QA Error QA_fetch_stock_day_adv parameter code=003004 , start=2016-01-04, end=2017-01-04 call QA_fetch_stock_day return None\n",
      "QA Error QA_fetch_stock_day_adv parameter code=003005 , start=2016-01-04, end=2017-01-04 call QA_fetch_stock_day return None\n",
      "QA Error QA_fetch_stock_day_adv parameter code=003006 , start=2016-01-04, end=2017-01-04 call QA_fetch_stock_day return None\n",
      "QA Error QA_fetch_stock_day_adv parameter code=003007 , start=2016-01-04, end=2017-01-04 call QA_fetch_stock_day return None\n",
      "QA Error QA_fetch_stock_day_adv parameter code=003008 , start=2016-01-04, end=2017-01-04 call QA_fetch_stock_day return None\n",
      "QA Error QA_fetch_stock_day_adv parameter code=003009 , start=2016-01-04, end=2017-01-04 call QA_fetch_stock_day return None\n",
      "QA Error QA_fetch_stock_day_adv parameter code=003010 , start=2016-01-04, end=2017-01-04 call QA_fetch_stock_day return None\n",
      "QA Error QA_fetch_stock_day_adv parameter code=003011 , start=2016-01-04, end=2017-01-04 call QA_fetch_stock_day return None\n",
      "QA Error QA_fetch_stock_day_adv parameter code=003012 , start=2016-01-04, end=2017-01-04 call QA_fetch_stock_day return None\n",
      "QA Error QA_fetch_stock_day_adv parameter code=003013 , start=2016-01-04, end=2017-01-04 call QA_fetch_stock_day return None\n"
     ]
    },
    {
     "name": "stderr",
     "output_type": "stream",
     "text": [
      "Processing 003816:  34%|███▎      | 1453/4328 [00:53<00:22, 130.11it/s]"
     ]
    },
    {
     "name": "stdout",
     "output_type": "stream",
     "text": [
      "QA Error QA_fetch_stock_day_adv parameter code=003015 , start=2016-01-04, end=2017-01-04 call QA_fetch_stock_day return None\n",
      "QA Error QA_fetch_stock_day_adv parameter code=003016 , start=2016-01-04, end=2017-01-04 call QA_fetch_stock_day return None\n",
      "QA Error QA_fetch_stock_day_adv parameter code=003017 , start=2016-01-04, end=2017-01-04 call QA_fetch_stock_day return None\n",
      "QA Error QA_fetch_stock_day_adv parameter code=003018 , start=2016-01-04, end=2017-01-04 call QA_fetch_stock_day return None\n",
      "QA Error QA_fetch_stock_day_adv parameter code=003019 , start=2016-01-04, end=2017-01-04 call QA_fetch_stock_day return None\n",
      "QA Error QA_fetch_stock_day_adv parameter code=003020 , start=2016-01-04, end=2017-01-04 call QA_fetch_stock_day return None\n",
      "QA Error QA_fetch_stock_day_adv parameter code=003021 , start=2016-01-04, end=2017-01-04 call QA_fetch_stock_day return None\n",
      "QA Error QA_fetch_stock_day_adv parameter code=003022 , start=2016-01-04, end=2017-01-04 call QA_fetch_stock_day return None\n",
      "QA Error QA_fetch_stock_day_adv parameter code=003023 , start=2016-01-04, end=2017-01-04 call QA_fetch_stock_day return None\n",
      "QA Error QA_fetch_stock_day_adv parameter code=003025 , start=2016-01-04, end=2017-01-04 call QA_fetch_stock_day return None\n",
      "QA Error QA_fetch_stock_day_adv parameter code=003026 , start=2016-01-04, end=2017-01-04 call QA_fetch_stock_day return None\n",
      "QA Error QA_fetch_stock_day_adv parameter code=003027 , start=2016-01-04, end=2017-01-04 call QA_fetch_stock_day return None\n",
      "QA Error QA_fetch_stock_day_adv parameter code=003028 , start=2016-01-04, end=2017-01-04 call QA_fetch_stock_day return None\n",
      "QA Error QA_fetch_stock_day_adv parameter code=003029 , start=2016-01-04, end=2017-01-04 call QA_fetch_stock_day return None\n",
      "QA Error QA_fetch_stock_day_adv parameter code=003030 , start=2016-01-04, end=2017-01-04 call QA_fetch_stock_day return None\n",
      "QA Error QA_fetch_stock_day_adv parameter code=003031 , start=2016-01-04, end=2017-01-04 call QA_fetch_stock_day return None\n",
      "QA Error QA_fetch_stock_day_adv parameter code=003032 , start=2016-01-04, end=2017-01-04 call QA_fetch_stock_day return None\n",
      "QA Error QA_fetch_stock_day_adv parameter code=003033 , start=2016-01-04, end=2017-01-04 call QA_fetch_stock_day return None\n",
      "QA Error QA_fetch_stock_day_adv parameter code=003035 , start=2016-01-04, end=2017-01-04 call QA_fetch_stock_day return None\n",
      "QA Error QA_fetch_stock_day_adv parameter code=003036 , start=2016-01-04, end=2017-01-04 call QA_fetch_stock_day return None\n",
      "QA Error QA_fetch_stock_day_adv parameter code=003037 , start=2016-01-04, end=2017-01-04 call QA_fetch_stock_day return None\n",
      "QA Error QA_fetch_stock_day_adv parameter code=003038 , start=2016-01-04, end=2017-01-04 call QA_fetch_stock_day return None\n",
      "QA Error QA_fetch_stock_day_adv parameter code=003039 , start=2016-01-04, end=2017-01-04 call QA_fetch_stock_day return None\n",
      "QA Error QA_fetch_stock_day_adv parameter code=003040 , start=2016-01-04, end=2017-01-04 call QA_fetch_stock_day return None\n",
      "QA Error QA_fetch_stock_day_adv parameter code=003041 , start=2016-01-04, end=2017-01-04 call QA_fetch_stock_day return None\n",
      "QA Error QA_fetch_stock_day_adv parameter code=003042 , start=2016-01-04, end=2017-01-04 call QA_fetch_stock_day return None\n",
      "QA Error QA_fetch_stock_day_adv parameter code=003043 , start=2016-01-04, end=2017-01-04 call QA_fetch_stock_day return None\n",
      "QA Error QA_fetch_stock_day_adv parameter code=003816 , start=2016-01-04, end=2017-01-04 call QA_fetch_stock_day return None\n"
     ]
    },
    {
     "name": "stderr",
     "output_type": "stream",
     "text": [
      "Processing 300078:  36%|███▌      | 1545/4328 [00:56<01:39, 27.96it/s] "
     ]
    },
    {
     "name": "stdout",
     "output_type": "stream",
     "text": [
      "20170104 300073 当升科技\n"
     ]
    },
    {
     "name": "stderr",
     "output_type": "stream",
     "text": [
      "Processing 300135:  37%|███▋      | 1600/4328 [00:58<01:37, 28.00it/s]"
     ]
    },
    {
     "name": "stdout",
     "output_type": "stream",
     "text": [
      "20170104 300130 新国都\n"
     ]
    },
    {
     "name": "stderr",
     "output_type": "stream",
     "text": [
      "Processing 300181:  38%|███▊      | 1646/4328 [00:59<01:37, 27.38it/s]"
     ]
    },
    {
     "name": "stdout",
     "output_type": "stream",
     "text": [
      "20170104 300175 朗源股份\n"
     ]
    },
    {
     "name": "stderr",
     "output_type": "stream",
     "text": [
      "Processing 300224:  39%|███▉      | 1687/4328 [01:01<01:44, 25.35it/s]"
     ]
    },
    {
     "name": "stdout",
     "output_type": "stream",
     "text": [
      "20170104 300219 鸿利智汇\n"
     ]
    },
    {
     "name": "stderr",
     "output_type": "stream",
     "text": [
      "Processing 300247:  40%|███▉      | 1710/4328 [01:02<01:40, 26.06it/s]"
     ]
    },
    {
     "name": "stdout",
     "output_type": "stream",
     "text": [
      "20170104 300243 瑞丰高材\n"
     ]
    },
    {
     "name": "stderr",
     "output_type": "stream",
     "text": [
      "Processing 300309:  41%|████      | 1773/4328 [01:04<01:38, 26.01it/s]"
     ]
    },
    {
     "name": "stdout",
     "output_type": "stream",
     "text": [
      "20170104 300304 云意电气\n"
     ]
    },
    {
     "name": "stderr",
     "output_type": "stream",
     "text": [
      "Processing 300344:  42%|████▏     | 1806/4328 [01:06<01:36, 26.21it/s]"
     ]
    },
    {
     "name": "stdout",
     "output_type": "stream",
     "text": [
      "20170104 300340 科恒股份\n"
     ]
    },
    {
     "name": "stderr",
     "output_type": "stream",
     "text": [
      "Processing 300407:  43%|████▎     | 1868/4328 [01:08<01:34, 26.13it/s]"
     ]
    },
    {
     "name": "stdout",
     "output_type": "stream",
     "text": [
      "20170104 300402 宝色股份\n"
     ]
    },
    {
     "name": "stderr",
     "output_type": "stream",
     "text": [
      "Processing 300458:  44%|████▍     | 1919/4328 [01:10<01:27, 27.42it/s]"
     ]
    },
    {
     "name": "stdout",
     "output_type": "stream",
     "text": [
      "QA Error QA_fetch_stock_day_adv parameter code=300454 , start=2016-01-04, end=2017-01-04 call QA_fetch_stock_day return None\n"
     ]
    },
    {
     "name": "stderr",
     "output_type": "stream",
     "text": [
      "Processing 300506:  45%|████▌     | 1966/4328 [01:12<02:24, 16.29it/s]"
     ]
    },
    {
     "name": "stdout",
     "output_type": "stream",
     "text": [
      "20170104 300503 昊志机电\n",
      "QA Error QA_fetch_stock_day_adv parameter code=300504 , start=2016-01-04, end=2017-01-04 call QA_fetch_stock_day return None\n"
     ]
    },
    {
     "name": "stderr",
     "output_type": "stream",
     "text": [
      "Processing 300517:  46%|████▌     | 1977/4328 [01:13<02:14, 17.50it/s]"
     ]
    },
    {
     "name": "stdout",
     "output_type": "stream",
     "text": [
      "QA Error QA_fetch_stock_day_adv parameter code=300514 , start=2016-01-04, end=2017-01-04 call QA_fetch_stock_day return None\n"
     ]
    },
    {
     "name": "stderr",
     "output_type": "stream",
     "text": [
      "Processing 300559:  47%|████▋     | 2015/4328 [01:14<01:14, 31.09it/s]"
     ]
    },
    {
     "name": "stdout",
     "output_type": "stream",
     "text": [
      "QA Error QA_fetch_stock_day_adv parameter code=300554 , start=2016-01-04, end=2017-01-04 call QA_fetch_stock_day return None\n"
     ]
    },
    {
     "name": "stderr",
     "output_type": "stream",
     "text": [
      "Processing 300570:  47%|████▋     | 2027/4328 [01:15<01:12, 31.88it/s]"
     ]
    },
    {
     "name": "stdout",
     "output_type": "stream",
     "text": [
      "QA Error QA_fetch_stock_day_adv parameter code=300564 , start=2016-01-04, end=2017-01-04 call QA_fetch_stock_day return None\n"
     ]
    },
    {
     "name": "stderr",
     "output_type": "stream",
     "text": [
      "Processing 300575:  47%|████▋     | 2031/4328 [01:15<01:11, 32.09it/s]"
     ]
    },
    {
     "name": "stdout",
     "output_type": "stream",
     "text": [
      "20170104 300571 平治信息\n",
      "20170104 300573 兴齐眼药\n"
     ]
    },
    {
     "name": "stderr",
     "output_type": "stream",
     "text": [
      "Processing 300580:  47%|████▋     | 2038/4328 [01:15<01:32, 24.67it/s]"
     ]
    },
    {
     "name": "stdout",
     "output_type": "stream",
     "text": [
      "20170104 300576 容大感光\n",
      "20170104 300577 开润股份\n",
      "QA Error QA_fetch_stock_day_adv parameter code=300578 , start=2016-01-04, end=2017-01-04 call QA_fetch_stock_day return None\n",
      "20170104 300579 数字认证\n",
      "QA Error QA_fetch_stock_day_adv parameter code=300580 , start=2016-01-04, end=2017-01-04 call QA_fetch_stock_day return None\n"
     ]
    },
    {
     "name": "stderr",
     "output_type": "stream",
     "text": [
      "Processing 300585:  47%|████▋     | 2041/4328 [01:15<01:42, 22.37it/s]"
     ]
    },
    {
     "name": "stdout",
     "output_type": "stream",
     "text": [
      "20170104 300581 晨曦航空\n",
      "20170104 300582 英飞特\n",
      "QA Error QA_fetch_stock_day_adv parameter code=300583 , start=2016-01-04, end=2017-01-04 call QA_fetch_stock_day return None\n",
      "QA Error QA_fetch_stock_day_adv parameter code=300584 , start=2016-01-04, end=2017-01-04 call QA_fetch_stock_day return None\n",
      "20170104 300585 奥联电子\n"
     ]
    },
    {
     "name": "stderr",
     "output_type": "stream",
     "text": [
      "Processing 300616:  48%|████▊     | 2060/4328 [01:16<00:41, 54.11it/s]"
     ]
    },
    {
     "name": "stdout",
     "output_type": "stream",
     "text": [
      "QA Error QA_fetch_stock_day_adv parameter code=300587 , start=2016-01-04, end=2017-01-04 call QA_fetch_stock_day return None\n",
      "QA Error QA_fetch_stock_day_adv parameter code=300588 , start=2016-01-04, end=2017-01-04 call QA_fetch_stock_day return None\n",
      "QA Error QA_fetch_stock_day_adv parameter code=300589 , start=2016-01-04, end=2017-01-04 call QA_fetch_stock_day return None\n",
      "QA Error QA_fetch_stock_day_adv parameter code=300590 , start=2016-01-04, end=2017-01-04 call QA_fetch_stock_day return None\n",
      "QA Error QA_fetch_stock_day_adv parameter code=300591 , start=2016-01-04, end=2017-01-04 call QA_fetch_stock_day return None\n",
      "QA Error QA_fetch_stock_day_adv parameter code=300592 , start=2016-01-04, end=2017-01-04 call QA_fetch_stock_day return None\n",
      "QA Error QA_fetch_stock_day_adv parameter code=300593 , start=2016-01-04, end=2017-01-04 call QA_fetch_stock_day return None\n",
      "QA Error QA_fetch_stock_day_adv parameter code=300594 , start=2016-01-04, end=2017-01-04 call QA_fetch_stock_day return None\n",
      "QA Error QA_fetch_stock_day_adv parameter code=300595 , start=2016-01-04, end=2017-01-04 call QA_fetch_stock_day return None\n",
      "QA Error QA_fetch_stock_day_adv parameter code=300596 , start=2016-01-04, end=2017-01-04 call QA_fetch_stock_day return None\n",
      "QA Error QA_fetch_stock_day_adv parameter code=300597 , start=2016-01-04, end=2017-01-04 call QA_fetch_stock_day return None\n",
      "QA Error QA_fetch_stock_day_adv parameter code=300598 , start=2016-01-04, end=2017-01-04 call QA_fetch_stock_day return None\n",
      "QA Error QA_fetch_stock_day_adv parameter code=300599 , start=2016-01-04, end=2017-01-04 call QA_fetch_stock_day return None\n",
      "QA Error QA_fetch_stock_day_adv parameter code=300600 , start=2016-01-04, end=2017-01-04 call QA_fetch_stock_day return None\n",
      "QA Error QA_fetch_stock_day_adv parameter code=300601 , start=2016-01-04, end=2017-01-04 call QA_fetch_stock_day return None\n",
      "QA Error QA_fetch_stock_day_adv parameter code=300602 , start=2016-01-04, end=2017-01-04 call QA_fetch_stock_day return None\n",
      "QA Error QA_fetch_stock_day_adv parameter code=300603 , start=2016-01-04, end=2017-01-04 call QA_fetch_stock_day return None\n",
      "QA Error QA_fetch_stock_day_adv parameter code=300604 , start=2016-01-04, end=2017-01-04 call QA_fetch_stock_day return None\n",
      "QA Error QA_fetch_stock_day_adv parameter code=300605 , start=2016-01-04, end=2017-01-04 call QA_fetch_stock_day return None\n",
      "QA Error QA_fetch_stock_day_adv parameter code=300606 , start=2016-01-04, end=2017-01-04 call QA_fetch_stock_day return None\n",
      "QA Error QA_fetch_stock_day_adv parameter code=300607 , start=2016-01-04, end=2017-01-04 call QA_fetch_stock_day return None\n",
      "QA Error QA_fetch_stock_day_adv parameter code=300608 , start=2016-01-04, end=2017-01-04 call QA_fetch_stock_day return None\n",
      "QA Error QA_fetch_stock_day_adv parameter code=300609 , start=2016-01-04, end=2017-01-04 call QA_fetch_stock_day return None\n",
      "QA Error QA_fetch_stock_day_adv parameter code=300610 , start=2016-01-04, end=2017-01-04 call QA_fetch_stock_day return None\n",
      "QA Error QA_fetch_stock_day_adv parameter code=300611 , start=2016-01-04, end=2017-01-04 call QA_fetch_stock_day return None\n",
      "QA Error QA_fetch_stock_day_adv parameter code=300612 , start=2016-01-04, end=2017-01-04 call QA_fetch_stock_day return None\n",
      "QA Error QA_fetch_stock_day_adv parameter code=300613 , start=2016-01-04, end=2017-01-04 call QA_fetch_stock_day return None\n",
      "QA Error QA_fetch_stock_day_adv parameter code=300614 , start=2016-01-04, end=2017-01-04 call QA_fetch_stock_day return None\n",
      "QA Error QA_fetch_stock_day_adv parameter code=300615 , start=2016-01-04, end=2017-01-04 call QA_fetch_stock_day return None\n",
      "QA Error QA_fetch_stock_day_adv parameter code=300616 , start=2016-01-04, end=2017-01-04 call QA_fetch_stock_day return None\n"
     ]
    },
    {
     "name": "stderr",
     "output_type": "stream",
     "text": [
      "Processing 300652:  49%|████▊     | 2109/4328 [01:16<00:18, 118.53it/s]"
     ]
    },
    {
     "name": "stdout",
     "output_type": "stream",
     "text": [
      "QA Error QA_fetch_stock_day_adv parameter code=300617 , start=2016-01-04, end=2017-01-04 call QA_fetch_stock_day return None\n",
      "QA Error QA_fetch_stock_day_adv parameter code=300618 , start=2016-01-04, end=2017-01-04 call QA_fetch_stock_day return None\n",
      "QA Error QA_fetch_stock_day_adv parameter code=300619 , start=2016-01-04, end=2017-01-04 call QA_fetch_stock_day return None\n",
      "QA Error QA_fetch_stock_day_adv parameter code=300620 , start=2016-01-04, end=2017-01-04 call QA_fetch_stock_day return None\n",
      "QA Error QA_fetch_stock_day_adv parameter code=300621 , start=2016-01-04, end=2017-01-04 call QA_fetch_stock_day return None\n",
      "QA Error QA_fetch_stock_day_adv parameter code=300622 , start=2016-01-04, end=2017-01-04 call QA_fetch_stock_day return None\n",
      "QA Error QA_fetch_stock_day_adv parameter code=300623 , start=2016-01-04, end=2017-01-04 call QA_fetch_stock_day return None\n",
      "QA Error QA_fetch_stock_day_adv parameter code=300624 , start=2016-01-04, end=2017-01-04 call QA_fetch_stock_day return None\n",
      "QA Error QA_fetch_stock_day_adv parameter code=300625 , start=2016-01-04, end=2017-01-04 call QA_fetch_stock_day return None\n",
      "QA Error QA_fetch_stock_day_adv parameter code=300626 , start=2016-01-04, end=2017-01-04 call QA_fetch_stock_day return None\n",
      "QA Error QA_fetch_stock_day_adv parameter code=300627 , start=2016-01-04, end=2017-01-04 call QA_fetch_stock_day return None\n",
      "QA Error QA_fetch_stock_day_adv parameter code=300628 , start=2016-01-04, end=2017-01-04 call QA_fetch_stock_day return None\n",
      "QA Error QA_fetch_stock_day_adv parameter code=300629 , start=2016-01-04, end=2017-01-04 call QA_fetch_stock_day return None\n",
      "QA Error QA_fetch_stock_day_adv parameter code=300630 , start=2016-01-04, end=2017-01-04 call QA_fetch_stock_day return None\n",
      "QA Error QA_fetch_stock_day_adv parameter code=300631 , start=2016-01-04, end=2017-01-04 call QA_fetch_stock_day return None\n",
      "QA Error QA_fetch_stock_day_adv parameter code=300632 , start=2016-01-04, end=2017-01-04 call QA_fetch_stock_day return None\n",
      "QA Error QA_fetch_stock_day_adv parameter code=300633 , start=2016-01-04, end=2017-01-04 call QA_fetch_stock_day return None\n",
      "QA Error QA_fetch_stock_day_adv parameter code=300634 , start=2016-01-04, end=2017-01-04 call QA_fetch_stock_day return None\n",
      "QA Error QA_fetch_stock_day_adv parameter code=300635 , start=2016-01-04, end=2017-01-04 call QA_fetch_stock_day return None\n",
      "QA Error QA_fetch_stock_day_adv parameter code=300636 , start=2016-01-04, end=2017-01-04 call QA_fetch_stock_day return None\n",
      "QA Error QA_fetch_stock_day_adv parameter code=300637 , start=2016-01-04, end=2017-01-04 call QA_fetch_stock_day return None\n",
      "QA Error QA_fetch_stock_day_adv parameter code=300638 , start=2016-01-04, end=2017-01-04 call QA_fetch_stock_day return None\n",
      "QA Error QA_fetch_stock_day_adv parameter code=300639 , start=2016-01-04, end=2017-01-04 call QA_fetch_stock_day return None\n",
      "QA Error QA_fetch_stock_day_adv parameter code=300640 , start=2016-01-04, end=2017-01-04 call QA_fetch_stock_day return None\n",
      "QA Error QA_fetch_stock_day_adv parameter code=300641 , start=2016-01-04, end=2017-01-04 call QA_fetch_stock_day return None\n",
      "QA Error QA_fetch_stock_day_adv parameter code=300642 , start=2016-01-04, end=2017-01-04 call QA_fetch_stock_day return None\n",
      "QA Error QA_fetch_stock_day_adv parameter code=300643 , start=2016-01-04, end=2017-01-04 call QA_fetch_stock_day return None\n",
      "QA Error QA_fetch_stock_day_adv parameter code=300644 , start=2016-01-04, end=2017-01-04 call QA_fetch_stock_day return None\n",
      "QA Error QA_fetch_stock_day_adv parameter code=300645 , start=2016-01-04, end=2017-01-04 call QA_fetch_stock_day return None\n",
      "QA Error QA_fetch_stock_day_adv parameter code=300647 , start=2016-01-04, end=2017-01-04 call QA_fetch_stock_day return None\n",
      "QA Error QA_fetch_stock_day_adv parameter code=300648 , start=2016-01-04, end=2017-01-04 call QA_fetch_stock_day return None\n",
      "QA Error QA_fetch_stock_day_adv parameter code=300649 , start=2016-01-04, end=2017-01-04 call QA_fetch_stock_day return None\n",
      "QA Error QA_fetch_stock_day_adv parameter code=300650 , start=2016-01-04, end=2017-01-04 call QA_fetch_stock_day return None\n",
      "QA Error QA_fetch_stock_day_adv parameter code=300651 , start=2016-01-04, end=2017-01-04 call QA_fetch_stock_day return None\n",
      "QA Error QA_fetch_stock_day_adv parameter code=300652 , start=2016-01-04, end=2017-01-04 call QA_fetch_stock_day return None\n"
     ]
    },
    {
     "name": "stderr",
     "output_type": "stream",
     "text": [
      "Processing 300676:  49%|████▉     | 2122/4328 [01:16<00:18, 121.56it/s]"
     ]
    },
    {
     "name": "stdout",
     "output_type": "stream",
     "text": [
      "QA Error QA_fetch_stock_day_adv parameter code=300653 , start=2016-01-04, end=2017-01-04 call QA_fetch_stock_day return None\n",
      "QA Error QA_fetch_stock_day_adv parameter code=300654 , start=2016-01-04, end=2017-01-04 call QA_fetch_stock_day return None\n",
      "QA Error QA_fetch_stock_day_adv parameter code=300655 , start=2016-01-04, end=2017-01-04 call QA_fetch_stock_day return None\n",
      "QA Error QA_fetch_stock_day_adv parameter code=300656 , start=2016-01-04, end=2017-01-04 call QA_fetch_stock_day return None\n",
      "QA Error QA_fetch_stock_day_adv parameter code=300657 , start=2016-01-04, end=2017-01-04 call QA_fetch_stock_day return None\n",
      "QA Error QA_fetch_stock_day_adv parameter code=300658 , start=2016-01-04, end=2017-01-04 call QA_fetch_stock_day return None\n",
      "QA Error QA_fetch_stock_day_adv parameter code=300659 , start=2016-01-04, end=2017-01-04 call QA_fetch_stock_day return None\n",
      "QA Error QA_fetch_stock_day_adv parameter code=300660 , start=2016-01-04, end=2017-01-04 call QA_fetch_stock_day return None\n",
      "QA Error QA_fetch_stock_day_adv parameter code=300661 , start=2016-01-04, end=2017-01-04 call QA_fetch_stock_day return None\n",
      "QA Error QA_fetch_stock_day_adv parameter code=300662 , start=2016-01-04, end=2017-01-04 call QA_fetch_stock_day return None\n",
      "QA Error QA_fetch_stock_day_adv parameter code=300663 , start=2016-01-04, end=2017-01-04 call QA_fetch_stock_day return None\n",
      "QA Error QA_fetch_stock_day_adv parameter code=300664 , start=2016-01-04, end=2017-01-04 call QA_fetch_stock_day return None\n",
      "QA Error QA_fetch_stock_day_adv parameter code=300665 , start=2016-01-04, end=2017-01-04 call QA_fetch_stock_day return None\n",
      "QA Error QA_fetch_stock_day_adv parameter code=300666 , start=2016-01-04, end=2017-01-04 call QA_fetch_stock_day return None\n",
      "QA Error QA_fetch_stock_day_adv parameter code=300667 , start=2016-01-04, end=2017-01-04 call QA_fetch_stock_day return None\n",
      "QA Error QA_fetch_stock_day_adv parameter code=300668 , start=2016-01-04, end=2017-01-04 call QA_fetch_stock_day return None\n",
      "QA Error QA_fetch_stock_day_adv parameter code=300669 , start=2016-01-04, end=2017-01-04 call QA_fetch_stock_day return None\n",
      "QA Error QA_fetch_stock_day_adv parameter code=300670 , start=2016-01-04, end=2017-01-04 call QA_fetch_stock_day return None\n",
      "QA Error QA_fetch_stock_day_adv parameter code=300671 , start=2016-01-04, end=2017-01-04 call QA_fetch_stock_day return None\n",
      "QA Error QA_fetch_stock_day_adv parameter code=300672 , start=2016-01-04, end=2017-01-04 call QA_fetch_stock_day return None\n",
      "QA Error QA_fetch_stock_day_adv parameter code=300673 , start=2016-01-04, end=2017-01-04 call QA_fetch_stock_day return None\n",
      "QA Error QA_fetch_stock_day_adv parameter code=300674 , start=2016-01-04, end=2017-01-04 call QA_fetch_stock_day return None\n",
      "QA Error QA_fetch_stock_day_adv parameter code=300675 , start=2016-01-04, end=2017-01-04 call QA_fetch_stock_day return None\n",
      "QA Error QA_fetch_stock_day_adv parameter code=300676 , start=2016-01-04, end=2017-01-04 call QA_fetch_stock_day return None\n",
      "QA Error QA_fetch_stock_day_adv parameter code=300677 , start=2016-01-04, end=2017-01-04 call QA_fetch_stock_day return None\n"
     ]
    },
    {
     "name": "stderr",
     "output_type": "stream",
     "text": [
      "Processing 300713:  50%|████▉     | 2150/4328 [01:16<00:17, 125.20it/s]"
     ]
    },
    {
     "name": "stdout",
     "output_type": "stream",
     "text": [
      "QA Error QA_fetch_stock_day_adv parameter code=300678 , start=2016-01-04, end=2017-01-04 call QA_fetch_stock_day return None\n",
      "QA Error QA_fetch_stock_day_adv parameter code=300679 , start=2016-01-04, end=2017-01-04 call QA_fetch_stock_day return None\n",
      "QA Error QA_fetch_stock_day_adv parameter code=300680 , start=2016-01-04, end=2017-01-04 call QA_fetch_stock_day return None\n",
      "QA Error QA_fetch_stock_day_adv parameter code=300681 , start=2016-01-04, end=2017-01-04 call QA_fetch_stock_day return None\n",
      "QA Error QA_fetch_stock_day_adv parameter code=300682 , start=2016-01-04, end=2017-01-04 call QA_fetch_stock_day return None\n",
      "QA Error QA_fetch_stock_day_adv parameter code=300683 , start=2016-01-04, end=2017-01-04 call QA_fetch_stock_day return None\n",
      "QA Error QA_fetch_stock_day_adv parameter code=300684 , start=2016-01-04, end=2017-01-04 call QA_fetch_stock_day return None\n",
      "QA Error QA_fetch_stock_day_adv parameter code=300685 , start=2016-01-04, end=2017-01-04 call QA_fetch_stock_day return None\n",
      "QA Error QA_fetch_stock_day_adv parameter code=300686 , start=2016-01-04, end=2017-01-04 call QA_fetch_stock_day return None\n",
      "QA Error QA_fetch_stock_day_adv parameter code=300687 , start=2016-01-04, end=2017-01-04 call QA_fetch_stock_day return None\n",
      "QA Error QA_fetch_stock_day_adv parameter code=300688 , start=2016-01-04, end=2017-01-04 call QA_fetch_stock_day return None\n",
      "QA Error QA_fetch_stock_day_adv parameter code=300689 , start=2016-01-04, end=2017-01-04 call QA_fetch_stock_day return None\n",
      "QA Error QA_fetch_stock_day_adv parameter code=300690 , start=2016-01-04, end=2017-01-04 call QA_fetch_stock_day return None\n",
      "QA Error QA_fetch_stock_day_adv parameter code=300691 , start=2016-01-04, end=2017-01-04 call QA_fetch_stock_day return None\n",
      "QA Error QA_fetch_stock_day_adv parameter code=300692 , start=2016-01-04, end=2017-01-04 call QA_fetch_stock_day return None\n",
      "QA Error QA_fetch_stock_day_adv parameter code=300693 , start=2016-01-04, end=2017-01-04 call QA_fetch_stock_day return None\n",
      "QA Error QA_fetch_stock_day_adv parameter code=300694 , start=2016-01-04, end=2017-01-04 call QA_fetch_stock_day return None\n",
      "QA Error QA_fetch_stock_day_adv parameter code=300695 , start=2016-01-04, end=2017-01-04 call QA_fetch_stock_day return None\n",
      "QA Error QA_fetch_stock_day_adv parameter code=300696 , start=2016-01-04, end=2017-01-04 call QA_fetch_stock_day return None\n",
      "QA Error QA_fetch_stock_day_adv parameter code=300697 , start=2016-01-04, end=2017-01-04 call QA_fetch_stock_day return None\n",
      "QA Error QA_fetch_stock_day_adv parameter code=300698 , start=2016-01-04, end=2017-01-04 call QA_fetch_stock_day return None\n",
      "QA Error QA_fetch_stock_day_adv parameter code=300699 , start=2016-01-04, end=2017-01-04 call QA_fetch_stock_day return None\n",
      "QA Error QA_fetch_stock_day_adv parameter code=300700 , start=2016-01-04, end=2017-01-04 call QA_fetch_stock_day return None\n",
      "QA Error QA_fetch_stock_day_adv parameter code=300701 , start=2016-01-04, end=2017-01-04 call QA_fetch_stock_day return None\n",
      "QA Error QA_fetch_stock_day_adv parameter code=300702 , start=2016-01-04, end=2017-01-04 call QA_fetch_stock_day return None\n",
      "QA Error QA_fetch_stock_day_adv parameter code=300703 , start=2016-01-04, end=2017-01-04 call QA_fetch_stock_day return None\n",
      "QA Error QA_fetch_stock_day_adv parameter code=300705 , start=2016-01-04, end=2017-01-04 call QA_fetch_stock_day return None\n",
      "QA Error QA_fetch_stock_day_adv parameter code=300706 , start=2016-01-04, end=2017-01-04 call QA_fetch_stock_day return None\n",
      "QA Error QA_fetch_stock_day_adv parameter code=300707 , start=2016-01-04, end=2017-01-04 call QA_fetch_stock_day return None\n",
      "QA Error QA_fetch_stock_day_adv parameter code=300708 , start=2016-01-04, end=2017-01-04 call QA_fetch_stock_day return None\n",
      "QA Error QA_fetch_stock_day_adv parameter code=300709 , start=2016-01-04, end=2017-01-04 call QA_fetch_stock_day return None\n",
      "QA Error QA_fetch_stock_day_adv parameter code=300710 , start=2016-01-04, end=2017-01-04 call QA_fetch_stock_day return None\n",
      "QA Error QA_fetch_stock_day_adv parameter code=300711 , start=2016-01-04, end=2017-01-04 call QA_fetch_stock_day return None\n",
      "QA Error QA_fetch_stock_day_adv parameter code=300712 , start=2016-01-04, end=2017-01-04 call QA_fetch_stock_day return None\n",
      "QA Error QA_fetch_stock_day_adv parameter code=300713 , start=2016-01-04, end=2017-01-04 call QA_fetch_stock_day return None\n"
     ]
    },
    {
     "name": "stderr",
     "output_type": "stream",
     "text": [
      "Processing 300753:  51%|█████     | 2191/4328 [01:16<00:13, 160.27it/s]"
     ]
    },
    {
     "name": "stdout",
     "output_type": "stream",
     "text": [
      "QA Error QA_fetch_stock_day_adv parameter code=300715 , start=2016-01-04, end=2017-01-04 call QA_fetch_stock_day return None\n",
      "QA Error QA_fetch_stock_day_adv parameter code=300716 , start=2016-01-04, end=2017-01-04 call QA_fetch_stock_day return None\n",
      "QA Error QA_fetch_stock_day_adv parameter code=300717 , start=2016-01-04, end=2017-01-04 call QA_fetch_stock_day return None\n",
      "QA Error QA_fetch_stock_day_adv parameter code=300718 , start=2016-01-04, end=2017-01-04 call QA_fetch_stock_day return None\n",
      "QA Error QA_fetch_stock_day_adv parameter code=300719 , start=2016-01-04, end=2017-01-04 call QA_fetch_stock_day return None\n",
      "QA Error QA_fetch_stock_day_adv parameter code=300720 , start=2016-01-04, end=2017-01-04 call QA_fetch_stock_day return None\n",
      "QA Error QA_fetch_stock_day_adv parameter code=300721 , start=2016-01-04, end=2017-01-04 call QA_fetch_stock_day return None\n",
      "QA Error QA_fetch_stock_day_adv parameter code=300722 , start=2016-01-04, end=2017-01-04 call QA_fetch_stock_day return None\n",
      "QA Error QA_fetch_stock_day_adv parameter code=300723 , start=2016-01-04, end=2017-01-04 call QA_fetch_stock_day return None\n",
      "QA Error QA_fetch_stock_day_adv parameter code=300724 , start=2016-01-04, end=2017-01-04 call QA_fetch_stock_day return None\n",
      "QA Error QA_fetch_stock_day_adv parameter code=300725 , start=2016-01-04, end=2017-01-04 call QA_fetch_stock_day return None\n",
      "QA Error QA_fetch_stock_day_adv parameter code=300726 , start=2016-01-04, end=2017-01-04 call QA_fetch_stock_day return None\n",
      "QA Error QA_fetch_stock_day_adv parameter code=300727 , start=2016-01-04, end=2017-01-04 call QA_fetch_stock_day return None\n",
      "QA Error QA_fetch_stock_day_adv parameter code=300728 , start=2016-01-04, end=2017-01-04 call QA_fetch_stock_day return None\n",
      "QA Error QA_fetch_stock_day_adv parameter code=300729 , start=2016-01-04, end=2017-01-04 call QA_fetch_stock_day return None\n",
      "QA Error QA_fetch_stock_day_adv parameter code=300730 , start=2016-01-04, end=2017-01-04 call QA_fetch_stock_day return None\n",
      "QA Error QA_fetch_stock_day_adv parameter code=300731 , start=2016-01-04, end=2017-01-04 call QA_fetch_stock_day return None\n",
      "QA Error QA_fetch_stock_day_adv parameter code=300732 , start=2016-01-04, end=2017-01-04 call QA_fetch_stock_day return None\n",
      "QA Error QA_fetch_stock_day_adv parameter code=300733 , start=2016-01-04, end=2017-01-04 call QA_fetch_stock_day return None\n",
      "QA Error QA_fetch_stock_day_adv parameter code=300735 , start=2016-01-04, end=2017-01-04 call QA_fetch_stock_day return None\n",
      "QA Error QA_fetch_stock_day_adv parameter code=300736 , start=2016-01-04, end=2017-01-04 call QA_fetch_stock_day return None\n",
      "QA Error QA_fetch_stock_day_adv parameter code=300737 , start=2016-01-04, end=2017-01-04 call QA_fetch_stock_day return None\n",
      "QA Error QA_fetch_stock_day_adv parameter code=300738 , start=2016-01-04, end=2017-01-04 call QA_fetch_stock_day return None\n",
      "QA Error QA_fetch_stock_day_adv parameter code=300739 , start=2016-01-04, end=2017-01-04 call QA_fetch_stock_day return None\n",
      "QA Error QA_fetch_stock_day_adv parameter code=300740 , start=2016-01-04, end=2017-01-04 call QA_fetch_stock_day return None\n",
      "QA Error QA_fetch_stock_day_adv parameter code=300741 , start=2016-01-04, end=2017-01-04 call QA_fetch_stock_day return None\n",
      "QA Error QA_fetch_stock_day_adv parameter code=300742 , start=2016-01-04, end=2017-01-04 call QA_fetch_stock_day return None\n",
      "QA Error QA_fetch_stock_day_adv parameter code=300743 , start=2016-01-04, end=2017-01-04 call QA_fetch_stock_day return None\n",
      "QA Error QA_fetch_stock_day_adv parameter code=300745 , start=2016-01-04, end=2017-01-04 call QA_fetch_stock_day return None\n",
      "QA Error QA_fetch_stock_day_adv parameter code=300746 , start=2016-01-04, end=2017-01-04 call QA_fetch_stock_day return None\n",
      "QA Error QA_fetch_stock_day_adv parameter code=300747 , start=2016-01-04, end=2017-01-04 call QA_fetch_stock_day return None\n",
      "QA Error QA_fetch_stock_day_adv parameter code=300748 , start=2016-01-04, end=2017-01-04 call QA_fetch_stock_day return None\n",
      "QA Error QA_fetch_stock_day_adv parameter code=300749 , start=2016-01-04, end=2017-01-04 call QA_fetch_stock_day return None\n",
      "QA Error QA_fetch_stock_day_adv parameter code=300750 , start=2016-01-04, end=2017-01-04 call QA_fetch_stock_day return None\n",
      "QA Error QA_fetch_stock_day_adv parameter code=300751 , start=2016-01-04, end=2017-01-04 call QA_fetch_stock_day return None\n",
      "QA Error QA_fetch_stock_day_adv parameter code=300752 , start=2016-01-04, end=2017-01-04 call QA_fetch_stock_day return None\n",
      "QA Error QA_fetch_stock_day_adv parameter code=300753 , start=2016-01-04, end=2017-01-04 call QA_fetch_stock_day return None\n"
     ]
    },
    {
     "name": "stderr",
     "output_type": "stream",
     "text": [
      "Processing 300791:  51%|█████▏    | 2227/4328 [01:17<00:12, 167.27it/s]"
     ]
    },
    {
     "name": "stdout",
     "output_type": "stream",
     "text": [
      "QA Error QA_fetch_stock_day_adv parameter code=300755 , start=2016-01-04, end=2017-01-04 call QA_fetch_stock_day return None\n",
      "QA Error QA_fetch_stock_day_adv parameter code=300756 , start=2016-01-04, end=2017-01-04 call QA_fetch_stock_day return None\n",
      "QA Error QA_fetch_stock_day_adv parameter code=300757 , start=2016-01-04, end=2017-01-04 call QA_fetch_stock_day return None\n",
      "QA Error QA_fetch_stock_day_adv parameter code=300758 , start=2016-01-04, end=2017-01-04 call QA_fetch_stock_day return None\n",
      "QA Error QA_fetch_stock_day_adv parameter code=300759 , start=2016-01-04, end=2017-01-04 call QA_fetch_stock_day return None\n",
      "QA Error QA_fetch_stock_day_adv parameter code=300760 , start=2016-01-04, end=2017-01-04 call QA_fetch_stock_day return None\n",
      "QA Error QA_fetch_stock_day_adv parameter code=300761 , start=2016-01-04, end=2017-01-04 call QA_fetch_stock_day return None\n",
      "QA Error QA_fetch_stock_day_adv parameter code=300762 , start=2016-01-04, end=2017-01-04 call QA_fetch_stock_day return None\n",
      "QA Error QA_fetch_stock_day_adv parameter code=300763 , start=2016-01-04, end=2017-01-04 call QA_fetch_stock_day return None\n",
      "QA Error QA_fetch_stock_day_adv parameter code=300765 , start=2016-01-04, end=2017-01-04 call QA_fetch_stock_day return None\n",
      "QA Error QA_fetch_stock_day_adv parameter code=300766 , start=2016-01-04, end=2017-01-04 call QA_fetch_stock_day return None\n",
      "QA Error QA_fetch_stock_day_adv parameter code=300767 , start=2016-01-04, end=2017-01-04 call QA_fetch_stock_day return None\n",
      "QA Error QA_fetch_stock_day_adv parameter code=300768 , start=2016-01-04, end=2017-01-04 call QA_fetch_stock_day return None\n",
      "QA Error QA_fetch_stock_day_adv parameter code=300769 , start=2016-01-04, end=2017-01-04 call QA_fetch_stock_day return None\n",
      "QA Error QA_fetch_stock_day_adv parameter code=300770 , start=2016-01-04, end=2017-01-04 call QA_fetch_stock_day return None\n",
      "QA Error QA_fetch_stock_day_adv parameter code=300771 , start=2016-01-04, end=2017-01-04 call QA_fetch_stock_day return None\n",
      "QA Error QA_fetch_stock_day_adv parameter code=300772 , start=2016-01-04, end=2017-01-04 call QA_fetch_stock_day return None\n",
      "QA Error QA_fetch_stock_day_adv parameter code=300773 , start=2016-01-04, end=2017-01-04 call QA_fetch_stock_day return None\n",
      "QA Error QA_fetch_stock_day_adv parameter code=300775 , start=2016-01-04, end=2017-01-04 call QA_fetch_stock_day return None\n",
      "QA Error QA_fetch_stock_day_adv parameter code=300776 , start=2016-01-04, end=2017-01-04 call QA_fetch_stock_day return None\n",
      "QA Error QA_fetch_stock_day_adv parameter code=300777 , start=2016-01-04, end=2017-01-04 call QA_fetch_stock_day return None\n",
      "QA Error QA_fetch_stock_day_adv parameter code=300778 , start=2016-01-04, end=2017-01-04 call QA_fetch_stock_day return None\n",
      "QA Error QA_fetch_stock_day_adv parameter code=300779 , start=2016-01-04, end=2017-01-04 call QA_fetch_stock_day return None\n",
      "QA Error QA_fetch_stock_day_adv parameter code=300780 , start=2016-01-04, end=2017-01-04 call QA_fetch_stock_day return None\n",
      "QA Error QA_fetch_stock_day_adv parameter code=300781 , start=2016-01-04, end=2017-01-04 call QA_fetch_stock_day return None\n",
      "QA Error QA_fetch_stock_day_adv parameter code=300782 , start=2016-01-04, end=2017-01-04 call QA_fetch_stock_day return None\n",
      "QA Error QA_fetch_stock_day_adv parameter code=300783 , start=2016-01-04, end=2017-01-04 call QA_fetch_stock_day return None\n",
      "QA Error QA_fetch_stock_day_adv parameter code=300785 , start=2016-01-04, end=2017-01-04 call QA_fetch_stock_day return None\n",
      "QA Error QA_fetch_stock_day_adv parameter code=300786 , start=2016-01-04, end=2017-01-04 call QA_fetch_stock_day return None\n",
      "QA Error QA_fetch_stock_day_adv parameter code=300787 , start=2016-01-04, end=2017-01-04 call QA_fetch_stock_day return None\n",
      "QA Error QA_fetch_stock_day_adv parameter code=300788 , start=2016-01-04, end=2017-01-04 call QA_fetch_stock_day return None\n",
      "QA Error QA_fetch_stock_day_adv parameter code=300789 , start=2016-01-04, end=2017-01-04 call QA_fetch_stock_day return None\n",
      "QA Error QA_fetch_stock_day_adv parameter code=300790 , start=2016-01-04, end=2017-01-04 call QA_fetch_stock_day return None\n",
      "QA Error QA_fetch_stock_day_adv parameter code=300791 , start=2016-01-04, end=2017-01-04 call QA_fetch_stock_day return None\n"
     ]
    },
    {
     "name": "stderr",
     "output_type": "stream",
     "text": [
      "Processing 300830:  52%|█████▏    | 2261/4328 [01:17<00:12, 161.01it/s]"
     ]
    },
    {
     "name": "stdout",
     "output_type": "stream",
     "text": [
      "QA Error QA_fetch_stock_day_adv parameter code=300792 , start=2016-01-04, end=2017-01-04 call QA_fetch_stock_day return None\n",
      "QA Error QA_fetch_stock_day_adv parameter code=300793 , start=2016-01-04, end=2017-01-04 call QA_fetch_stock_day return None\n",
      "QA Error QA_fetch_stock_day_adv parameter code=300795 , start=2016-01-04, end=2017-01-04 call QA_fetch_stock_day return None\n",
      "QA Error QA_fetch_stock_day_adv parameter code=300796 , start=2016-01-04, end=2017-01-04 call QA_fetch_stock_day return None\n",
      "QA Error QA_fetch_stock_day_adv parameter code=300797 , start=2016-01-04, end=2017-01-04 call QA_fetch_stock_day return None\n",
      "QA Error QA_fetch_stock_day_adv parameter code=300798 , start=2016-01-04, end=2017-01-04 call QA_fetch_stock_day return None\n",
      "QA Error QA_fetch_stock_day_adv parameter code=300799 , start=2016-01-04, end=2017-01-04 call QA_fetch_stock_day return None\n",
      "QA Error QA_fetch_stock_day_adv parameter code=300800 , start=2016-01-04, end=2017-01-04 call QA_fetch_stock_day return None\n",
      "QA Error QA_fetch_stock_day_adv parameter code=300801 , start=2016-01-04, end=2017-01-04 call QA_fetch_stock_day return None\n",
      "QA Error QA_fetch_stock_day_adv parameter code=300802 , start=2016-01-04, end=2017-01-04 call QA_fetch_stock_day return None\n",
      "QA Error QA_fetch_stock_day_adv parameter code=300803 , start=2016-01-04, end=2017-01-04 call QA_fetch_stock_day return None\n",
      "QA Error QA_fetch_stock_day_adv parameter code=300805 , start=2016-01-04, end=2017-01-04 call QA_fetch_stock_day return None\n",
      "QA Error QA_fetch_stock_day_adv parameter code=300806 , start=2016-01-04, end=2017-01-04 call QA_fetch_stock_day return None\n",
      "QA Error QA_fetch_stock_day_adv parameter code=300807 , start=2016-01-04, end=2017-01-04 call QA_fetch_stock_day return None\n",
      "QA Error QA_fetch_stock_day_adv parameter code=300808 , start=2016-01-04, end=2017-01-04 call QA_fetch_stock_day return None\n",
      "QA Error QA_fetch_stock_day_adv parameter code=300809 , start=2016-01-04, end=2017-01-04 call QA_fetch_stock_day return None\n",
      "QA Error QA_fetch_stock_day_adv parameter code=300810 , start=2016-01-04, end=2017-01-04 call QA_fetch_stock_day return None\n",
      "QA Error QA_fetch_stock_day_adv parameter code=300811 , start=2016-01-04, end=2017-01-04 call QA_fetch_stock_day return None\n",
      "QA Error QA_fetch_stock_day_adv parameter code=300812 , start=2016-01-04, end=2017-01-04 call QA_fetch_stock_day return None\n",
      "QA Error QA_fetch_stock_day_adv parameter code=300813 , start=2016-01-04, end=2017-01-04 call QA_fetch_stock_day return None\n",
      "QA Error QA_fetch_stock_day_adv parameter code=300815 , start=2016-01-04, end=2017-01-04 call QA_fetch_stock_day return None\n",
      "QA Error QA_fetch_stock_day_adv parameter code=300816 , start=2016-01-04, end=2017-01-04 call QA_fetch_stock_day return None\n",
      "QA Error QA_fetch_stock_day_adv parameter code=300817 , start=2016-01-04, end=2017-01-04 call QA_fetch_stock_day return None\n",
      "QA Error QA_fetch_stock_day_adv parameter code=300818 , start=2016-01-04, end=2017-01-04 call QA_fetch_stock_day return None\n",
      "QA Error QA_fetch_stock_day_adv parameter code=300819 , start=2016-01-04, end=2017-01-04 call QA_fetch_stock_day return None\n",
      "QA Error QA_fetch_stock_day_adv parameter code=300820 , start=2016-01-04, end=2017-01-04 call QA_fetch_stock_day return None\n",
      "QA Error QA_fetch_stock_day_adv parameter code=300821 , start=2016-01-04, end=2017-01-04 call QA_fetch_stock_day return None\n",
      "QA Error QA_fetch_stock_day_adv parameter code=300822 , start=2016-01-04, end=2017-01-04 call QA_fetch_stock_day return None\n",
      "QA Error QA_fetch_stock_day_adv parameter code=300823 , start=2016-01-04, end=2017-01-04 call QA_fetch_stock_day return None\n",
      "QA Error QA_fetch_stock_day_adv parameter code=300824 , start=2016-01-04, end=2017-01-04 call QA_fetch_stock_day return None\n",
      "QA Error QA_fetch_stock_day_adv parameter code=300825 , start=2016-01-04, end=2017-01-04 call QA_fetch_stock_day return None\n",
      "QA Error QA_fetch_stock_day_adv parameter code=300826 , start=2016-01-04, end=2017-01-04 call QA_fetch_stock_day return None\n",
      "QA Error QA_fetch_stock_day_adv parameter code=300827 , start=2016-01-04, end=2017-01-04 call QA_fetch_stock_day return None\n",
      "QA Error QA_fetch_stock_day_adv parameter code=300828 , start=2016-01-04, end=2017-01-04 call QA_fetch_stock_day return None\n",
      "QA Error QA_fetch_stock_day_adv parameter code=300829 , start=2016-01-04, end=2017-01-04 call QA_fetch_stock_day return None\n",
      "QA Error QA_fetch_stock_day_adv parameter code=300830 , start=2016-01-04, end=2017-01-04 call QA_fetch_stock_day return None\n"
     ]
    },
    {
     "name": "stderr",
     "output_type": "stream",
     "text": [
      "Processing 300869:  53%|█████▎    | 2299/4328 [01:17<00:11, 172.22it/s]"
     ]
    },
    {
     "name": "stdout",
     "output_type": "stream",
     "text": [
      "QA Error QA_fetch_stock_day_adv parameter code=300831 , start=2016-01-04, end=2017-01-04 call QA_fetch_stock_day return None\n",
      "QA Error QA_fetch_stock_day_adv parameter code=300832 , start=2016-01-04, end=2017-01-04 call QA_fetch_stock_day return None\n",
      "QA Error QA_fetch_stock_day_adv parameter code=300833 , start=2016-01-04, end=2017-01-04 call QA_fetch_stock_day return None\n",
      "QA Error QA_fetch_stock_day_adv parameter code=300835 , start=2016-01-04, end=2017-01-04 call QA_fetch_stock_day return None\n",
      "QA Error QA_fetch_stock_day_adv parameter code=300836 , start=2016-01-04, end=2017-01-04 call QA_fetch_stock_day return None\n",
      "QA Error QA_fetch_stock_day_adv parameter code=300837 , start=2016-01-04, end=2017-01-04 call QA_fetch_stock_day return None\n",
      "QA Error QA_fetch_stock_day_adv parameter code=300838 , start=2016-01-04, end=2017-01-04 call QA_fetch_stock_day return None\n",
      "QA Error QA_fetch_stock_day_adv parameter code=300839 , start=2016-01-04, end=2017-01-04 call QA_fetch_stock_day return None\n",
      "QA Error QA_fetch_stock_day_adv parameter code=300840 , start=2016-01-04, end=2017-01-04 call QA_fetch_stock_day return None\n",
      "QA Error QA_fetch_stock_day_adv parameter code=300841 , start=2016-01-04, end=2017-01-04 call QA_fetch_stock_day return None\n",
      "QA Error QA_fetch_stock_day_adv parameter code=300842 , start=2016-01-04, end=2017-01-04 call QA_fetch_stock_day return None\n",
      "QA Error QA_fetch_stock_day_adv parameter code=300843 , start=2016-01-04, end=2017-01-04 call QA_fetch_stock_day return None\n",
      "QA Error QA_fetch_stock_day_adv parameter code=300845 , start=2016-01-04, end=2017-01-04 call QA_fetch_stock_day return None\n",
      "QA Error QA_fetch_stock_day_adv parameter code=300846 , start=2016-01-04, end=2017-01-04 call QA_fetch_stock_day return None\n",
      "QA Error QA_fetch_stock_day_adv parameter code=300847 , start=2016-01-04, end=2017-01-04 call QA_fetch_stock_day return None\n",
      "QA Error QA_fetch_stock_day_adv parameter code=300848 , start=2016-01-04, end=2017-01-04 call QA_fetch_stock_day return None\n",
      "QA Error QA_fetch_stock_day_adv parameter code=300849 , start=2016-01-04, end=2017-01-04 call QA_fetch_stock_day return None\n",
      "QA Error QA_fetch_stock_day_adv parameter code=300850 , start=2016-01-04, end=2017-01-04 call QA_fetch_stock_day return None\n",
      "QA Error QA_fetch_stock_day_adv parameter code=300851 , start=2016-01-04, end=2017-01-04 call QA_fetch_stock_day return None\n",
      "QA Error QA_fetch_stock_day_adv parameter code=300852 , start=2016-01-04, end=2017-01-04 call QA_fetch_stock_day return None\n",
      "QA Error QA_fetch_stock_day_adv parameter code=300853 , start=2016-01-04, end=2017-01-04 call QA_fetch_stock_day return None\n",
      "QA Error QA_fetch_stock_day_adv parameter code=300855 , start=2016-01-04, end=2017-01-04 call QA_fetch_stock_day return None\n",
      "QA Error QA_fetch_stock_day_adv parameter code=300856 , start=2016-01-04, end=2017-01-04 call QA_fetch_stock_day return None\n",
      "QA Error QA_fetch_stock_day_adv parameter code=300857 , start=2016-01-04, end=2017-01-04 call QA_fetch_stock_day return None\n",
      "QA Error QA_fetch_stock_day_adv parameter code=300858 , start=2016-01-04, end=2017-01-04 call QA_fetch_stock_day return None\n",
      "QA Error QA_fetch_stock_day_adv parameter code=300859 , start=2016-01-04, end=2017-01-04 call QA_fetch_stock_day return None\n",
      "QA Error QA_fetch_stock_day_adv parameter code=300860 , start=2016-01-04, end=2017-01-04 call QA_fetch_stock_day return None\n",
      "QA Error QA_fetch_stock_day_adv parameter code=300861 , start=2016-01-04, end=2017-01-04 call QA_fetch_stock_day return None\n",
      "QA Error QA_fetch_stock_day_adv parameter code=300862 , start=2016-01-04, end=2017-01-04 call QA_fetch_stock_day return None\n",
      "QA Error QA_fetch_stock_day_adv parameter code=300863 , start=2016-01-04, end=2017-01-04 call QA_fetch_stock_day return None\n",
      "QA Error QA_fetch_stock_day_adv parameter code=300864 , start=2016-01-04, end=2017-01-04 call QA_fetch_stock_day return None\n",
      "QA Error QA_fetch_stock_day_adv parameter code=300865 , start=2016-01-04, end=2017-01-04 call QA_fetch_stock_day return None\n",
      "QA Error QA_fetch_stock_day_adv parameter code=300866 , start=2016-01-04, end=2017-01-04 call QA_fetch_stock_day return None\n",
      "QA Error QA_fetch_stock_day_adv parameter code=300867 , start=2016-01-04, end=2017-01-04 call QA_fetch_stock_day return None\n",
      "QA Error QA_fetch_stock_day_adv parameter code=300868 , start=2016-01-04, end=2017-01-04 call QA_fetch_stock_day return None\n",
      "QA Error QA_fetch_stock_day_adv parameter code=300869 , start=2016-01-04, end=2017-01-04 call QA_fetch_stock_day return None\n"
     ]
    },
    {
     "name": "stderr",
     "output_type": "stream",
     "text": [
      "Processing 300897:  54%|█████▍    | 2334/4328 [01:17<00:12, 162.11it/s]"
     ]
    },
    {
     "name": "stdout",
     "output_type": "stream",
     "text": [
      "QA Error QA_fetch_stock_day_adv parameter code=300870 , start=2016-01-04, end=2017-01-04 call QA_fetch_stock_day return None\n",
      "QA Error QA_fetch_stock_day_adv parameter code=300871 , start=2016-01-04, end=2017-01-04 call QA_fetch_stock_day return None\n",
      "QA Error QA_fetch_stock_day_adv parameter code=300872 , start=2016-01-04, end=2017-01-04 call QA_fetch_stock_day return None\n",
      "QA Error QA_fetch_stock_day_adv parameter code=300873 , start=2016-01-04, end=2017-01-04 call QA_fetch_stock_day return None\n",
      "QA Error QA_fetch_stock_day_adv parameter code=300875 , start=2016-01-04, end=2017-01-04 call QA_fetch_stock_day return None\n",
      "QA Error QA_fetch_stock_day_adv parameter code=300876 , start=2016-01-04, end=2017-01-04 call QA_fetch_stock_day return None\n",
      "QA Error QA_fetch_stock_day_adv parameter code=300877 , start=2016-01-04, end=2017-01-04 call QA_fetch_stock_day return None\n",
      "QA Error QA_fetch_stock_day_adv parameter code=300878 , start=2016-01-04, end=2017-01-04 call QA_fetch_stock_day return None\n",
      "QA Error QA_fetch_stock_day_adv parameter code=300879 , start=2016-01-04, end=2017-01-04 call QA_fetch_stock_day return None\n",
      "QA Error QA_fetch_stock_day_adv parameter code=300880 , start=2016-01-04, end=2017-01-04 call QA_fetch_stock_day return None\n",
      "QA Error QA_fetch_stock_day_adv parameter code=300881 , start=2016-01-04, end=2017-01-04 call QA_fetch_stock_day return None\n",
      "QA Error QA_fetch_stock_day_adv parameter code=300882 , start=2016-01-04, end=2017-01-04 call QA_fetch_stock_day return None\n",
      "QA Error QA_fetch_stock_day_adv parameter code=300883 , start=2016-01-04, end=2017-01-04 call QA_fetch_stock_day return None\n",
      "QA Error QA_fetch_stock_day_adv parameter code=300884 , start=2016-01-04, end=2017-01-04 call QA_fetch_stock_day return None\n",
      "QA Error QA_fetch_stock_day_adv parameter code=300885 , start=2016-01-04, end=2017-01-04 call QA_fetch_stock_day return None\n",
      "QA Error QA_fetch_stock_day_adv parameter code=300886 , start=2016-01-04, end=2017-01-04 call QA_fetch_stock_day return None\n",
      "QA Error QA_fetch_stock_day_adv parameter code=300887 , start=2016-01-04, end=2017-01-04 call QA_fetch_stock_day return None\n",
      "QA Error QA_fetch_stock_day_adv parameter code=300888 , start=2016-01-04, end=2017-01-04 call QA_fetch_stock_day return None\n",
      "QA Error QA_fetch_stock_day_adv parameter code=300889 , start=2016-01-04, end=2017-01-04 call QA_fetch_stock_day return None\n",
      "QA Error QA_fetch_stock_day_adv parameter code=300890 , start=2016-01-04, end=2017-01-04 call QA_fetch_stock_day return None\n",
      "QA Error QA_fetch_stock_day_adv parameter code=300891 , start=2016-01-04, end=2017-01-04 call QA_fetch_stock_day return None\n",
      "QA Error QA_fetch_stock_day_adv parameter code=300892 , start=2016-01-04, end=2017-01-04 call QA_fetch_stock_day return None\n",
      "QA Error QA_fetch_stock_day_adv parameter code=300893 , start=2016-01-04, end=2017-01-04 call QA_fetch_stock_day return None\n",
      "QA Error QA_fetch_stock_day_adv parameter code=300894 , start=2016-01-04, end=2017-01-04 call QA_fetch_stock_day return None\n",
      "QA Error QA_fetch_stock_day_adv parameter code=300895 , start=2016-01-04, end=2017-01-04 call QA_fetch_stock_day return None\n",
      "QA Error QA_fetch_stock_day_adv parameter code=300896 , start=2016-01-04, end=2017-01-04 call QA_fetch_stock_day return None\n",
      "QA Error QA_fetch_stock_day_adv parameter code=300897 , start=2016-01-04, end=2017-01-04 call QA_fetch_stock_day return None\n"
     ]
    },
    {
     "name": "stderr",
     "output_type": "stream",
     "text": [
      "Processing 300923:  54%|█████▍    | 2351/4328 [01:17<00:14, 137.03it/s]"
     ]
    },
    {
     "name": "stdout",
     "output_type": "stream",
     "text": [
      "QA Error QA_fetch_stock_day_adv parameter code=300898 , start=2016-01-04, end=2017-01-04 call QA_fetch_stock_day return None\n",
      "QA Error QA_fetch_stock_day_adv parameter code=300899 , start=2016-01-04, end=2017-01-04 call QA_fetch_stock_day return None\n",
      "QA Error QA_fetch_stock_day_adv parameter code=300900 , start=2016-01-04, end=2017-01-04 call QA_fetch_stock_day return None\n",
      "QA Error QA_fetch_stock_day_adv parameter code=300901 , start=2016-01-04, end=2017-01-04 call QA_fetch_stock_day return None\n",
      "QA Error QA_fetch_stock_day_adv parameter code=300902 , start=2016-01-04, end=2017-01-04 call QA_fetch_stock_day return None\n",
      "QA Error QA_fetch_stock_day_adv parameter code=300903 , start=2016-01-04, end=2017-01-04 call QA_fetch_stock_day return None\n",
      "QA Error QA_fetch_stock_day_adv parameter code=300905 , start=2016-01-04, end=2017-01-04 call QA_fetch_stock_day return None\n",
      "QA Error QA_fetch_stock_day_adv parameter code=300906 , start=2016-01-04, end=2017-01-04 call QA_fetch_stock_day return None\n",
      "QA Error QA_fetch_stock_day_adv parameter code=300907 , start=2016-01-04, end=2017-01-04 call QA_fetch_stock_day return None\n",
      "QA Error QA_fetch_stock_day_adv parameter code=300908 , start=2016-01-04, end=2017-01-04 call QA_fetch_stock_day return None\n",
      "QA Error QA_fetch_stock_day_adv parameter code=300909 , start=2016-01-04, end=2017-01-04 call QA_fetch_stock_day return None\n",
      "QA Error QA_fetch_stock_day_adv parameter code=300910 , start=2016-01-04, end=2017-01-04 call QA_fetch_stock_day return None\n",
      "QA Error QA_fetch_stock_day_adv parameter code=300911 , start=2016-01-04, end=2017-01-04 call QA_fetch_stock_day return None\n",
      "QA Error QA_fetch_stock_day_adv parameter code=300912 , start=2016-01-04, end=2017-01-04 call QA_fetch_stock_day return None\n",
      "QA Error QA_fetch_stock_day_adv parameter code=300913 , start=2016-01-04, end=2017-01-04 call QA_fetch_stock_day return None\n",
      "QA Error QA_fetch_stock_day_adv parameter code=300915 , start=2016-01-04, end=2017-01-04 call QA_fetch_stock_day return None\n",
      "QA Error QA_fetch_stock_day_adv parameter code=300916 , start=2016-01-04, end=2017-01-04 call QA_fetch_stock_day return None\n",
      "QA Error QA_fetch_stock_day_adv parameter code=300917 , start=2016-01-04, end=2017-01-04 call QA_fetch_stock_day return None\n",
      "QA Error QA_fetch_stock_day_adv parameter code=300918 , start=2016-01-04, end=2017-01-04 call QA_fetch_stock_day return None\n",
      "QA Error QA_fetch_stock_day_adv parameter code=300919 , start=2016-01-04, end=2017-01-04 call QA_fetch_stock_day return None\n",
      "QA Error QA_fetch_stock_day_adv parameter code=300920 , start=2016-01-04, end=2017-01-04 call QA_fetch_stock_day return None\n",
      "QA Error QA_fetch_stock_day_adv parameter code=300921 , start=2016-01-04, end=2017-01-04 call QA_fetch_stock_day return None\n",
      "QA Error QA_fetch_stock_day_adv parameter code=300922 , start=2016-01-04, end=2017-01-04 call QA_fetch_stock_day return None\n",
      "QA Error QA_fetch_stock_day_adv parameter code=300923 , start=2016-01-04, end=2017-01-04 call QA_fetch_stock_day return None\n"
     ]
    },
    {
     "name": "stderr",
     "output_type": "stream",
     "text": [
      "Processing 300953:  55%|█████▍    | 2380/4328 [01:18<00:15, 127.70it/s]"
     ]
    },
    {
     "name": "stdout",
     "output_type": "stream",
     "text": [
      "QA Error QA_fetch_stock_day_adv parameter code=300925 , start=2016-01-04, end=2017-01-04 call QA_fetch_stock_day return None\n",
      "QA Error QA_fetch_stock_day_adv parameter code=300926 , start=2016-01-04, end=2017-01-04 call QA_fetch_stock_day return None\n",
      "QA Error QA_fetch_stock_day_adv parameter code=300927 , start=2016-01-04, end=2017-01-04 call QA_fetch_stock_day return None\n",
      "QA Error QA_fetch_stock_day_adv parameter code=300928 , start=2016-01-04, end=2017-01-04 call QA_fetch_stock_day return None\n",
      "QA Error QA_fetch_stock_day_adv parameter code=300929 , start=2016-01-04, end=2017-01-04 call QA_fetch_stock_day return None\n",
      "QA Error QA_fetch_stock_day_adv parameter code=300930 , start=2016-01-04, end=2017-01-04 call QA_fetch_stock_day return None\n",
      "QA Error QA_fetch_stock_day_adv parameter code=300931 , start=2016-01-04, end=2017-01-04 call QA_fetch_stock_day return None\n",
      "QA Error QA_fetch_stock_day_adv parameter code=300932 , start=2016-01-04, end=2017-01-04 call QA_fetch_stock_day return None\n",
      "QA Error QA_fetch_stock_day_adv parameter code=300933 , start=2016-01-04, end=2017-01-04 call QA_fetch_stock_day return None\n",
      "QA Error QA_fetch_stock_day_adv parameter code=300935 , start=2016-01-04, end=2017-01-04 call QA_fetch_stock_day return None\n",
      "QA Error QA_fetch_stock_day_adv parameter code=300936 , start=2016-01-04, end=2017-01-04 call QA_fetch_stock_day return None\n",
      "QA Error QA_fetch_stock_day_adv parameter code=300937 , start=2016-01-04, end=2017-01-04 call QA_fetch_stock_day return None\n",
      "QA Error QA_fetch_stock_day_adv parameter code=300938 , start=2016-01-04, end=2017-01-04 call QA_fetch_stock_day return None\n",
      "QA Error QA_fetch_stock_day_adv parameter code=300939 , start=2016-01-04, end=2017-01-04 call QA_fetch_stock_day return None\n",
      "QA Error QA_fetch_stock_day_adv parameter code=300940 , start=2016-01-04, end=2017-01-04 call QA_fetch_stock_day return None\n",
      "QA Error QA_fetch_stock_day_adv parameter code=300941 , start=2016-01-04, end=2017-01-04 call QA_fetch_stock_day return None\n",
      "QA Error QA_fetch_stock_day_adv parameter code=300942 , start=2016-01-04, end=2017-01-04 call QA_fetch_stock_day return None\n",
      "QA Error QA_fetch_stock_day_adv parameter code=300943 , start=2016-01-04, end=2017-01-04 call QA_fetch_stock_day return None\n",
      "QA Error QA_fetch_stock_day_adv parameter code=300945 , start=2016-01-04, end=2017-01-04 call QA_fetch_stock_day return None\n",
      "QA Error QA_fetch_stock_day_adv parameter code=300946 , start=2016-01-04, end=2017-01-04 call QA_fetch_stock_day return None\n",
      "QA Error QA_fetch_stock_day_adv parameter code=300947 , start=2016-01-04, end=2017-01-04 call QA_fetch_stock_day return None\n",
      "QA Error QA_fetch_stock_day_adv parameter code=300948 , start=2016-01-04, end=2017-01-04 call QA_fetch_stock_day return None\n",
      "QA Error QA_fetch_stock_day_adv parameter code=300949 , start=2016-01-04, end=2017-01-04 call QA_fetch_stock_day return None\n",
      "QA Error QA_fetch_stock_day_adv parameter code=300950 , start=2016-01-04, end=2017-01-04 call QA_fetch_stock_day return None\n",
      "QA Error QA_fetch_stock_day_adv parameter code=300951 , start=2016-01-04, end=2017-01-04 call QA_fetch_stock_day return None\n",
      "QA Error QA_fetch_stock_day_adv parameter code=300952 , start=2016-01-04, end=2017-01-04 call QA_fetch_stock_day return None\n",
      "QA Error QA_fetch_stock_day_adv parameter code=300953 , start=2016-01-04, end=2017-01-04 call QA_fetch_stock_day return None\n",
      "QA Error QA_fetch_stock_day_adv parameter code=300955 , start=2016-01-04, end=2017-01-04 call QA_fetch_stock_day return None\n"
     ]
    },
    {
     "name": "stderr",
     "output_type": "stream",
     "text": [
      "Processing 300981:  56%|█████▌    | 2411/4328 [01:18<00:15, 126.30it/s]"
     ]
    },
    {
     "name": "stdout",
     "output_type": "stream",
     "text": [
      "QA Error QA_fetch_stock_day_adv parameter code=300956 , start=2016-01-04, end=2017-01-04 call QA_fetch_stock_day return None\n",
      "QA Error QA_fetch_stock_day_adv parameter code=300957 , start=2016-01-04, end=2017-01-04 call QA_fetch_stock_day return None\n",
      "QA Error QA_fetch_stock_day_adv parameter code=300958 , start=2016-01-04, end=2017-01-04 call QA_fetch_stock_day return None\n",
      "QA Error QA_fetch_stock_day_adv parameter code=300959 , start=2016-01-04, end=2017-01-04 call QA_fetch_stock_day return None\n",
      "QA Error QA_fetch_stock_day_adv parameter code=300960 , start=2016-01-04, end=2017-01-04 call QA_fetch_stock_day return None\n",
      "QA Error QA_fetch_stock_day_adv parameter code=300961 , start=2016-01-04, end=2017-01-04 call QA_fetch_stock_day return None\n",
      "QA Error QA_fetch_stock_day_adv parameter code=300962 , start=2016-01-04, end=2017-01-04 call QA_fetch_stock_day return None\n",
      "QA Error QA_fetch_stock_day_adv parameter code=300963 , start=2016-01-04, end=2017-01-04 call QA_fetch_stock_day return None\n",
      "QA Error QA_fetch_stock_day_adv parameter code=300965 , start=2016-01-04, end=2017-01-04 call QA_fetch_stock_day return None\n",
      "QA Error QA_fetch_stock_day_adv parameter code=300966 , start=2016-01-04, end=2017-01-04 call QA_fetch_stock_day return None\n",
      "QA Error QA_fetch_stock_day_adv parameter code=300967 , start=2016-01-04, end=2017-01-04 call QA_fetch_stock_day return None\n",
      "QA Error QA_fetch_stock_day_adv parameter code=300968 , start=2016-01-04, end=2017-01-04 call QA_fetch_stock_day return None\n",
      "QA Error QA_fetch_stock_day_adv parameter code=300969 , start=2016-01-04, end=2017-01-04 call QA_fetch_stock_day return None\n",
      "QA Error QA_fetch_stock_day_adv parameter code=300970 , start=2016-01-04, end=2017-01-04 call QA_fetch_stock_day return None\n",
      "QA Error QA_fetch_stock_day_adv parameter code=300971 , start=2016-01-04, end=2017-01-04 call QA_fetch_stock_day return None\n",
      "QA Error QA_fetch_stock_day_adv parameter code=300972 , start=2016-01-04, end=2017-01-04 call QA_fetch_stock_day return None\n",
      "QA Error QA_fetch_stock_day_adv parameter code=300973 , start=2016-01-04, end=2017-01-04 call QA_fetch_stock_day return None\n",
      "QA Error QA_fetch_stock_day_adv parameter code=300975 , start=2016-01-04, end=2017-01-04 call QA_fetch_stock_day return None\n",
      "QA Error QA_fetch_stock_day_adv parameter code=300976 , start=2016-01-04, end=2017-01-04 call QA_fetch_stock_day return None\n",
      "QA Error QA_fetch_stock_day_adv parameter code=300977 , start=2016-01-04, end=2017-01-04 call QA_fetch_stock_day return None\n",
      "QA Error QA_fetch_stock_day_adv parameter code=300978 , start=2016-01-04, end=2017-01-04 call QA_fetch_stock_day return None\n",
      "QA Error QA_fetch_stock_day_adv parameter code=300979 , start=2016-01-04, end=2017-01-04 call QA_fetch_stock_day return None\n",
      "QA Error QA_fetch_stock_day_adv parameter code=300980 , start=2016-01-04, end=2017-01-04 call QA_fetch_stock_day return None\n",
      "QA Error QA_fetch_stock_day_adv parameter code=300981 , start=2016-01-04, end=2017-01-04 call QA_fetch_stock_day return None\n"
     ]
    },
    {
     "name": "stderr",
     "output_type": "stream",
     "text": [
      "Processing 600004:  56%|█████▌    | 2426/4328 [01:18<00:14, 131.08it/s]"
     ]
    },
    {
     "name": "stdout",
     "output_type": "stream",
     "text": [
      "QA Error QA_fetch_stock_day_adv parameter code=300982 , start=2016-01-04, end=2017-01-04 call QA_fetch_stock_day return None\n",
      "QA Error QA_fetch_stock_day_adv parameter code=300983 , start=2016-01-04, end=2017-01-04 call QA_fetch_stock_day return None\n",
      "QA Error QA_fetch_stock_day_adv parameter code=300985 , start=2016-01-04, end=2017-01-04 call QA_fetch_stock_day return None\n",
      "QA Error QA_fetch_stock_day_adv parameter code=300986 , start=2016-01-04, end=2017-01-04 call QA_fetch_stock_day return None\n",
      "QA Error QA_fetch_stock_day_adv parameter code=300987 , start=2016-01-04, end=2017-01-04 call QA_fetch_stock_day return None\n",
      "QA Error QA_fetch_stock_day_adv parameter code=300988 , start=2016-01-04, end=2017-01-04 call QA_fetch_stock_day return None\n",
      "QA Error QA_fetch_stock_day_adv parameter code=300989 , start=2016-01-04, end=2017-01-04 call QA_fetch_stock_day return None\n",
      "QA Error QA_fetch_stock_day_adv parameter code=300990 , start=2016-01-04, end=2017-01-04 call QA_fetch_stock_day return None\n",
      "QA Error QA_fetch_stock_day_adv parameter code=300991 , start=2016-01-04, end=2017-01-04 call QA_fetch_stock_day return None\n",
      "QA Error QA_fetch_stock_day_adv parameter code=300992 , start=2016-01-04, end=2017-01-04 call QA_fetch_stock_day return None\n",
      "QA Error QA_fetch_stock_day_adv parameter code=300993 , start=2016-01-04, end=2017-01-04 call QA_fetch_stock_day return None\n",
      "QA Error QA_fetch_stock_day_adv parameter code=300995 , start=2016-01-04, end=2017-01-04 call QA_fetch_stock_day return None\n",
      "QA Error QA_fetch_stock_day_adv parameter code=300999 , start=2016-01-04, end=2017-01-04 call QA_fetch_stock_day return None\n"
     ]
    },
    {
     "name": "stderr",
     "output_type": "stream",
     "text": [
      "Processing 600029:  57%|█████▋    | 2451/4328 [01:19<00:37, 50.33it/s] "
     ]
    },
    {
     "name": "stdout",
     "output_type": "stream",
     "text": [
      "QA Error QA_fetch_stock_day_adv parameter code=600025 , start=2016-01-04, end=2017-01-04 call QA_fetch_stock_day return None\n"
     ]
    },
    {
     "name": "stderr",
     "output_type": "stream",
     "text": [
      "Processing 600038:  57%|█████▋    | 2451/4328 [01:19<00:37, 50.33it/s]"
     ]
    },
    {
     "name": "stdout",
     "output_type": "stream",
     "text": [
      "QA Error QA_fetch_stock_day_adv parameter code=600032 , start=2016-01-04, end=2017-01-04 call QA_fetch_stock_day return None\n"
     ]
    },
    {
     "name": "stderr",
     "output_type": "stream",
     "text": [
      "Processing 600151:  59%|█████▉    | 2548/4328 [01:23<01:10, 25.07it/s]"
     ]
    },
    {
     "name": "stdout",
     "output_type": "stream",
     "text": [
      "QA Error QA_fetch_stock_day_adv parameter code=600145 , start=2016-01-04, end=2017-01-04 call QA_fetch_stock_day return None\n"
     ]
    },
    {
     "name": "stderr",
     "output_type": "stream",
     "text": [
      "Processing 600188:  60%|█████▉    | 2582/4328 [01:24<01:03, 27.55it/s]"
     ]
    },
    {
     "name": "stdout",
     "output_type": "stream",
     "text": [
      "20170104 600183 生益科技\n"
     ]
    },
    {
     "name": "stderr",
     "output_type": "stream",
     "text": [
      "Processing 600215:  60%|██████    | 2604/4328 [01:25<01:08, 25.29it/s]"
     ]
    },
    {
     "name": "stdout",
     "output_type": "stream",
     "text": [
      "20170104 600209 *ST罗顿\n",
      "20170104 600215 *ST经开\n"
     ]
    },
    {
     "name": "stderr",
     "output_type": "stream",
     "text": [
      "Processing 600256:  61%|██████    | 2639/4328 [01:26<01:01, 27.59it/s]"
     ]
    },
    {
     "name": "stdout",
     "output_type": "stream",
     "text": [
      "20170104 600249 两面针\n"
     ]
    },
    {
     "name": "stderr",
     "output_type": "stream",
     "text": [
      "Processing 600421:  64%|██████▍   | 2772/4328 [01:31<01:04, 24.30it/s]"
     ]
    },
    {
     "name": "stdout",
     "output_type": "stream",
     "text": [
      "20170104 600416 湘电股份\n"
     ]
    },
    {
     "name": "stderr",
     "output_type": "stream",
     "text": [
      "Processing 600577:  67%|██████▋   | 2890/4328 [01:36<00:55, 26.11it/s]"
     ]
    },
    {
     "name": "stdout",
     "output_type": "stream",
     "text": [
      "20170104 600571 信雅达\n"
     ]
    },
    {
     "name": "stderr",
     "output_type": "stream",
     "text": [
      "Processing 600705:  69%|██████▉   | 3000/4328 [01:40<00:51, 25.69it/s]"
     ]
    },
    {
     "name": "stdout",
     "output_type": "stream",
     "text": [
      "20170104 600698 ST天雁\n"
     ]
    },
    {
     "name": "stderr",
     "output_type": "stream",
     "text": [
      "Processing 600803:  71%|███████▏  | 3092/4328 [01:44<01:02, 19.70it/s]"
     ]
    },
    {
     "name": "stdout",
     "output_type": "stream",
     "text": [
      "20170104 600800 渤海化学\n"
     ]
    },
    {
     "name": "stderr",
     "output_type": "stream",
     "text": [
      "Processing 600816:  72%|███████▏  | 3101/4328 [01:44<00:56, 21.87it/s]"
     ]
    },
    {
     "name": "stdout",
     "output_type": "stream",
     "text": [
      "20170104 600810 神马股份\n"
     ]
    },
    {
     "name": "stderr",
     "output_type": "stream",
     "text": [
      "Processing 600919:  74%|███████▎  | 3188/4328 [01:48<00:32, 35.07it/s]"
     ]
    },
    {
     "name": "stdout",
     "output_type": "stream",
     "text": [
      "QA Error QA_fetch_stock_day_adv parameter code=600901 , start=2016-01-04, end=2017-01-04 call QA_fetch_stock_day return None\n",
      "QA Error QA_fetch_stock_day_adv parameter code=600903 , start=2016-01-04, end=2017-01-04 call QA_fetch_stock_day return None\n",
      "QA Error QA_fetch_stock_day_adv parameter code=600905 , start=2016-01-04, end=2017-01-04 call QA_fetch_stock_day return None\n",
      "QA Error QA_fetch_stock_day_adv parameter code=600906 , start=2016-01-04, end=2017-01-04 call QA_fetch_stock_day return None\n",
      "QA Error QA_fetch_stock_day_adv parameter code=600916 , start=2016-01-04, end=2017-01-04 call QA_fetch_stock_day return None\n",
      "QA Error QA_fetch_stock_day_adv parameter code=600918 , start=2016-01-04, end=2017-01-04 call QA_fetch_stock_day return None\n"
     ]
    },
    {
     "name": "stderr",
     "output_type": "stream",
     "text": [
      "Processing 600959:  74%|███████▍  | 3199/4328 [01:48<00:30, 36.74it/s]"
     ]
    },
    {
     "name": "stdout",
     "output_type": "stream",
     "text": [
      "QA Error QA_fetch_stock_day_adv parameter code=600928 , start=2016-01-04, end=2017-01-04 call QA_fetch_stock_day return None\n",
      "QA Error QA_fetch_stock_day_adv parameter code=600929 , start=2016-01-04, end=2017-01-04 call QA_fetch_stock_day return None\n",
      "QA Error QA_fetch_stock_day_adv parameter code=600933 , start=2016-01-04, end=2017-01-04 call QA_fetch_stock_day return None\n",
      "QA Error QA_fetch_stock_day_adv parameter code=600939 , start=2016-01-04, end=2017-01-04 call QA_fetch_stock_day return None\n",
      "QA Error QA_fetch_stock_day_adv parameter code=600956 , start=2016-01-04, end=2017-01-04 call QA_fetch_stock_day return None\n"
     ]
    },
    {
     "name": "stderr",
     "output_type": "stream",
     "text": [
      "Processing 600975:  74%|███████▍  | 3211/4328 [01:49<00:35, 31.03it/s]"
     ]
    },
    {
     "name": "stdout",
     "output_type": "stream",
     "text": [
      "QA Error QA_fetch_stock_day_adv parameter code=600968 , start=2016-01-04, end=2017-01-04 call QA_fetch_stock_day return None\n"
     ]
    },
    {
     "name": "stderr",
     "output_type": "stream",
     "text": [
      "Processing 600995:  75%|███████▍  | 3229/4328 [01:49<00:41, 26.66it/s]"
     ]
    },
    {
     "name": "stdout",
     "output_type": "stream",
     "text": [
      "QA Error QA_fetch_stock_day_adv parameter code=600989 , start=2016-01-04, end=2017-01-04 call QA_fetch_stock_day return None\n"
     ]
    },
    {
     "name": "stderr",
     "output_type": "stream",
     "text": [
      "Processing 601038:  75%|███████▌  | 3253/4328 [01:50<00:42, 25.09it/s]"
     ]
    },
    {
     "name": "stdout",
     "output_type": "stream",
     "text": [
      "QA Error QA_fetch_stock_day_adv parameter code=601019 , start=2016-01-04, end=2017-01-04 call QA_fetch_stock_day return None\n"
     ]
    },
    {
     "name": "stderr",
     "output_type": "stream",
     "text": [
      "Processing 601099:  75%|███████▌  | 3260/4328 [01:50<00:31, 33.73it/s]"
     ]
    },
    {
     "name": "stdout",
     "output_type": "stream",
     "text": [
      "QA Error QA_fetch_stock_day_adv parameter code=601066 , start=2016-01-04, end=2017-01-04 call QA_fetch_stock_day return None\n",
      "QA Error QA_fetch_stock_day_adv parameter code=601068 , start=2016-01-04, end=2017-01-04 call QA_fetch_stock_day return None\n",
      "QA Error QA_fetch_stock_day_adv parameter code=601077 , start=2016-01-04, end=2017-01-04 call QA_fetch_stock_day return None\n",
      "QA Error QA_fetch_stock_day_adv parameter code=601086 , start=2016-01-04, end=2017-01-04 call QA_fetch_stock_day return None\n"
     ]
    },
    {
     "name": "stderr",
     "output_type": "stream",
     "text": [
      "Processing 601118:  76%|███████▌  | 3272/4328 [01:51<00:35, 29.51it/s]"
     ]
    },
    {
     "name": "stdout",
     "output_type": "stream",
     "text": [
      "QA Error QA_fetch_stock_day_adv parameter code=601108 , start=2016-01-04, end=2017-01-04 call QA_fetch_stock_day return None\n"
     ]
    },
    {
     "name": "stderr",
     "output_type": "stream",
     "text": [
      "Processing 601166:  76%|███████▌  | 3280/4328 [01:51<00:33, 30.83it/s]"
     ]
    },
    {
     "name": "stdout",
     "output_type": "stream",
     "text": [
      "QA Error QA_fetch_stock_day_adv parameter code=601138 , start=2016-01-04, end=2017-01-04 call QA_fetch_stock_day return None\n",
      "QA Error QA_fetch_stock_day_adv parameter code=601162 , start=2016-01-04, end=2017-01-04 call QA_fetch_stock_day return None\n"
     ]
    },
    {
     "name": "stderr",
     "output_type": "stream",
     "text": [
      "Processing 601208:  76%|███████▌  | 3292/4328 [01:51<00:34, 30.26it/s]"
     ]
    },
    {
     "name": "stdout",
     "output_type": "stream",
     "text": [
      "QA Error QA_fetch_stock_day_adv parameter code=601187 , start=2016-01-04, end=2017-01-04 call QA_fetch_stock_day return None\n",
      "20170104 601188 龙江交通\n",
      "QA Error QA_fetch_stock_day_adv parameter code=601200 , start=2016-01-04, end=2017-01-04 call QA_fetch_stock_day return None\n",
      "QA Error QA_fetch_stock_day_adv parameter code=601206 , start=2016-01-04, end=2017-01-04 call QA_fetch_stock_day return None\n"
     ]
    },
    {
     "name": "stderr",
     "output_type": "stream",
     "text": [
      "Processing 601225:  76%|███████▌  | 3300/4328 [01:52<00:32, 31.63it/s]"
     ]
    },
    {
     "name": "stdout",
     "output_type": "stream",
     "text": [
      "QA Error QA_fetch_stock_day_adv parameter code=601212 , start=2016-01-04, end=2017-01-04 call QA_fetch_stock_day return None\n"
     ]
    },
    {
     "name": "stderr",
     "output_type": "stream",
     "text": [
      "Processing 601238:  76%|███████▋  | 3308/4328 [01:52<00:32, 31.60it/s]"
     ]
    },
    {
     "name": "stdout",
     "output_type": "stream",
     "text": [
      "QA Error QA_fetch_stock_day_adv parameter code=601228 , start=2016-01-04, end=2017-01-04 call QA_fetch_stock_day return None\n",
      "QA Error QA_fetch_stock_day_adv parameter code=601236 , start=2016-01-04, end=2017-01-04 call QA_fetch_stock_day return None\n"
     ]
    },
    {
     "name": "stderr",
     "output_type": "stream",
     "text": [
      "Processing 601330:  77%|███████▋  | 3317/4328 [01:52<00:30, 33.26it/s]"
     ]
    },
    {
     "name": "stdout",
     "output_type": "stream",
     "text": [
      "QA Error QA_fetch_stock_day_adv parameter code=601279 , start=2016-01-04, end=2017-01-04 call QA_fetch_stock_day return None\n",
      "QA Error QA_fetch_stock_day_adv parameter code=601298 , start=2016-01-04, end=2017-01-04 call QA_fetch_stock_day return None\n",
      "QA Error QA_fetch_stock_day_adv parameter code=601319 , start=2016-01-04, end=2017-01-04 call QA_fetch_stock_day return None\n",
      "QA Error QA_fetch_stock_day_adv parameter code=601326 , start=2016-01-04, end=2017-01-04 call QA_fetch_stock_day return None\n",
      "QA Error QA_fetch_stock_day_adv parameter code=601330 , start=2016-01-04, end=2017-01-04 call QA_fetch_stock_day return None\n"
     ]
    },
    {
     "name": "stderr",
     "output_type": "stream",
     "text": [
      "Processing 601375:  77%|███████▋  | 3325/4328 [01:53<00:35, 27.98it/s]"
     ]
    },
    {
     "name": "stdout",
     "output_type": "stream",
     "text": [
      "QA Error QA_fetch_stock_day_adv parameter code=601366 , start=2016-01-04, end=2017-01-04 call QA_fetch_stock_day return None\n",
      "20170104 601375 中原证券\n"
     ]
    },
    {
     "name": "stderr",
     "output_type": "stream",
     "text": [
      "Processing 601555:  77%|███████▋  | 3335/4328 [01:53<00:28, 34.45it/s]"
     ]
    },
    {
     "name": "stdout",
     "output_type": "stream",
     "text": [
      "QA Error QA_fetch_stock_day_adv parameter code=601399 , start=2016-01-04, end=2017-01-04 call QA_fetch_stock_day return None\n",
      "QA Error QA_fetch_stock_day_adv parameter code=601456 , start=2016-01-04, end=2017-01-04 call QA_fetch_stock_day return None\n",
      "QA Error QA_fetch_stock_day_adv parameter code=601512 , start=2016-01-04, end=2017-01-04 call QA_fetch_stock_day return None\n"
     ]
    },
    {
     "name": "stderr",
     "output_type": "stream",
     "text": [
      "Processing 601599:  77%|███████▋  | 3347/4328 [01:53<00:29, 33.60it/s]"
     ]
    },
    {
     "name": "stdout",
     "output_type": "stream",
     "text": [
      "QA Error QA_fetch_stock_day_adv parameter code=601568 , start=2016-01-04, end=2017-01-04 call QA_fetch_stock_day return None\n",
      "QA Error QA_fetch_stock_day_adv parameter code=601577 , start=2016-01-04, end=2017-01-04 call QA_fetch_stock_day return None\n",
      "QA Error QA_fetch_stock_day_adv parameter code=601598 , start=2016-01-04, end=2017-01-04 call QA_fetch_stock_day return None\n"
     ]
    },
    {
     "name": "stderr",
     "output_type": "stream",
     "text": [
      "Processing 601616:  78%|███████▊  | 3356/4328 [01:53<00:28, 33.55it/s]"
     ]
    },
    {
     "name": "stdout",
     "output_type": "stream",
     "text": [
      "QA Error QA_fetch_stock_day_adv parameter code=601606 , start=2016-01-04, end=2017-01-04 call QA_fetch_stock_day return None\n",
      "QA Error QA_fetch_stock_day_adv parameter code=601609 , start=2016-01-04, end=2017-01-04 call QA_fetch_stock_day return None\n",
      "QA Error QA_fetch_stock_day_adv parameter code=601615 , start=2016-01-04, end=2017-01-04 call QA_fetch_stock_day return None\n"
     ]
    },
    {
     "name": "stderr",
     "output_type": "stream",
     "text": [
      "Processing 601658:  78%|███████▊  | 3360/4328 [01:54<00:30, 31.48it/s]"
     ]
    },
    {
     "name": "stdout",
     "output_type": "stream",
     "text": [
      "QA Error QA_fetch_stock_day_adv parameter code=601619 , start=2016-01-04, end=2017-01-04 call QA_fetch_stock_day return None\n",
      "QA Error QA_fetch_stock_day_adv parameter code=601658 , start=2016-01-04, end=2017-01-04 call QA_fetch_stock_day return None\n"
     ]
    },
    {
     "name": "stderr",
     "output_type": "stream",
     "text": [
      "Processing 601702:  78%|███████▊  | 3373/4328 [01:54<00:28, 33.73it/s]"
     ]
    },
    {
     "name": "stdout",
     "output_type": "stream",
     "text": [
      "QA Error QA_fetch_stock_day_adv parameter code=601686 , start=2016-01-04, end=2017-01-04 call QA_fetch_stock_day return None\n",
      "QA Error QA_fetch_stock_day_adv parameter code=601696 , start=2016-01-04, end=2017-01-04 call QA_fetch_stock_day return None\n",
      "QA Error QA_fetch_stock_day_adv parameter code=601698 , start=2016-01-04, end=2017-01-04 call QA_fetch_stock_day return None\n",
      "QA Error QA_fetch_stock_day_adv parameter code=601702 , start=2016-01-04, end=2017-01-04 call QA_fetch_stock_day return None\n"
     ]
    },
    {
     "name": "stderr",
     "output_type": "stream",
     "text": [
      "Processing 601800:  78%|███████▊  | 3385/4328 [01:54<00:30, 30.42it/s]"
     ]
    },
    {
     "name": "stdout",
     "output_type": "stream",
     "text": [
      "QA Error QA_fetch_stock_day_adv parameter code=601778 , start=2016-01-04, end=2017-01-04 call QA_fetch_stock_day return None\n"
     ]
    },
    {
     "name": "stderr",
     "output_type": "stream",
     "text": [
      "Processing 601869:  78%|███████▊  | 3397/4328 [01:55<00:23, 40.22it/s]"
     ]
    },
    {
     "name": "stdout",
     "output_type": "stream",
     "text": [
      "QA Error QA_fetch_stock_day_adv parameter code=601816 , start=2016-01-04, end=2017-01-04 call QA_fetch_stock_day return None\n",
      "QA Error QA_fetch_stock_day_adv parameter code=601827 , start=2016-01-04, end=2017-01-04 call QA_fetch_stock_day return None\n",
      "QA Error QA_fetch_stock_day_adv parameter code=601828 , start=2016-01-04, end=2017-01-04 call QA_fetch_stock_day return None\n",
      "QA Error QA_fetch_stock_day_adv parameter code=601838 , start=2016-01-04, end=2017-01-04 call QA_fetch_stock_day return None\n",
      "QA Error QA_fetch_stock_day_adv parameter code=601858 , start=2016-01-04, end=2017-01-04 call QA_fetch_stock_day return None\n",
      "QA Error QA_fetch_stock_day_adv parameter code=601860 , start=2016-01-04, end=2017-01-04 call QA_fetch_stock_day return None\n",
      "QA Error QA_fetch_stock_day_adv parameter code=601865 , start=2016-01-04, end=2017-01-04 call QA_fetch_stock_day return None\n",
      "QA Error QA_fetch_stock_day_adv parameter code=601869 , start=2016-01-04, end=2017-01-04 call QA_fetch_stock_day return None\n"
     ]
    },
    {
     "name": "stderr",
     "output_type": "stream",
     "text": [
      "Processing 601890:  79%|███████▊  | 3407/4328 [01:55<00:25, 35.73it/s]"
     ]
    },
    {
     "name": "stdout",
     "output_type": "stream",
     "text": [
      "QA Error QA_fetch_stock_day_adv parameter code=601878 , start=2016-01-04, end=2017-01-04 call QA_fetch_stock_day return None\n",
      "QA Error QA_fetch_stock_day_adv parameter code=601881 , start=2016-01-04, end=2017-01-04 call QA_fetch_stock_day return None\n"
     ]
    },
    {
     "name": "stderr",
     "output_type": "stream",
     "text": [
      "Processing 601939:  79%|███████▉  | 3419/4328 [01:55<00:28, 31.97it/s]"
     ]
    },
    {
     "name": "stdout",
     "output_type": "stream",
     "text": [
      "QA Error QA_fetch_stock_day_adv parameter code=601916 , start=2016-01-04, end=2017-01-04 call QA_fetch_stock_day return None\n"
     ]
    },
    {
     "name": "stderr",
     "output_type": "stream",
     "text": [
      "Processing 601968:  79%|███████▉  | 3429/4328 [01:56<00:26, 34.46it/s]"
     ]
    },
    {
     "name": "stdout",
     "output_type": "stream",
     "text": [
      "QA Error QA_fetch_stock_day_adv parameter code=601949 , start=2016-01-04, end=2017-01-04 call QA_fetch_stock_day return None\n",
      "QA Error QA_fetch_stock_day_adv parameter code=601952 , start=2016-01-04, end=2017-01-04 call QA_fetch_stock_day return None\n",
      "QA Error QA_fetch_stock_day_adv parameter code=601956 , start=2016-01-04, end=2017-01-04 call QA_fetch_stock_day return None\n",
      "QA Error QA_fetch_stock_day_adv parameter code=601963 , start=2016-01-04, end=2017-01-04 call QA_fetch_stock_day return None\n",
      "20170104 601965 中国汽研\n"
     ]
    },
    {
     "name": "stderr",
     "output_type": "stream",
     "text": [
      "Processing 601991:  79%|███████▉  | 3433/4328 [01:56<00:26, 33.67it/s]"
     ]
    },
    {
     "name": "stdout",
     "output_type": "stream",
     "text": [
      "QA Error QA_fetch_stock_day_adv parameter code=601975 , start=2016-01-04, end=2017-01-04 call QA_fetch_stock_day return None\n",
      "QA Error QA_fetch_stock_day_adv parameter code=601990 , start=2016-01-04, end=2017-01-04 call QA_fetch_stock_day return None\n"
     ]
    },
    {
     "name": "stderr",
     "output_type": "stream",
     "text": [
      "Processing 603000:  80%|███████▉  | 3441/4328 [01:56<00:27, 32.51it/s]"
     ]
    },
    {
     "name": "stdout",
     "output_type": "stream",
     "text": [
      "QA Error QA_fetch_stock_day_adv parameter code=601995 , start=2016-01-04, end=2017-01-04 call QA_fetch_stock_day return None\n"
     ]
    },
    {
     "name": "stderr",
     "output_type": "stream",
     "text": [
      "Processing 603016:  80%|███████▉  | 3457/4328 [01:57<00:28, 30.97it/s]"
     ]
    },
    {
     "name": "stdout",
     "output_type": "stream",
     "text": [
      "20170104 603009 北特科技\n",
      "QA Error QA_fetch_stock_day_adv parameter code=603013 , start=2016-01-04, end=2017-01-04 call QA_fetch_stock_day return None\n"
     ]
    },
    {
     "name": "stderr",
     "output_type": "stream",
     "text": [
      "Processing 603056:  80%|████████  | 3478/4328 [01:57<00:21, 39.06it/s]"
     ]
    },
    {
     "name": "stdout",
     "output_type": "stream",
     "text": [
      "QA Error QA_fetch_stock_day_adv parameter code=603032 , start=2016-01-04, end=2017-01-04 call QA_fetch_stock_day return None\n",
      "QA Error QA_fetch_stock_day_adv parameter code=603035 , start=2016-01-04, end=2017-01-04 call QA_fetch_stock_day return None\n",
      "QA Error QA_fetch_stock_day_adv parameter code=603037 , start=2016-01-04, end=2017-01-04 call QA_fetch_stock_day return None\n",
      "QA Error QA_fetch_stock_day_adv parameter code=603038 , start=2016-01-04, end=2017-01-04 call QA_fetch_stock_day return None\n",
      "QA Error QA_fetch_stock_day_adv parameter code=603039 , start=2016-01-04, end=2017-01-04 call QA_fetch_stock_day return None\n",
      "QA Error QA_fetch_stock_day_adv parameter code=603040 , start=2016-01-04, end=2017-01-04 call QA_fetch_stock_day return None\n",
      "QA Error QA_fetch_stock_day_adv parameter code=603041 , start=2016-01-04, end=2017-01-04 call QA_fetch_stock_day return None\n",
      "QA Error QA_fetch_stock_day_adv parameter code=603042 , start=2016-01-04, end=2017-01-04 call QA_fetch_stock_day return None\n",
      "QA Error QA_fetch_stock_day_adv parameter code=603043 , start=2016-01-04, end=2017-01-04 call QA_fetch_stock_day return None\n",
      "QA Error QA_fetch_stock_day_adv parameter code=603045 , start=2016-01-04, end=2017-01-04 call QA_fetch_stock_day return None\n",
      "QA Error QA_fetch_stock_day_adv parameter code=603050 , start=2016-01-04, end=2017-01-04 call QA_fetch_stock_day return None\n",
      "QA Error QA_fetch_stock_day_adv parameter code=603053 , start=2016-01-04, end=2017-01-04 call QA_fetch_stock_day return None\n",
      "QA Error QA_fetch_stock_day_adv parameter code=603055 , start=2016-01-04, end=2017-01-04 call QA_fetch_stock_day return None\n",
      "QA Error QA_fetch_stock_day_adv parameter code=603056 , start=2016-01-04, end=2017-01-04 call QA_fetch_stock_day return None\n"
     ]
    },
    {
     "name": "stderr",
     "output_type": "stream",
     "text": [
      "Processing 603076:  81%|████████  | 3494/4328 [01:58<00:18, 46.04it/s]"
     ]
    },
    {
     "name": "stdout",
     "output_type": "stream",
     "text": [
      "20170104 603058 永吉股份\n",
      "QA Error QA_fetch_stock_day_adv parameter code=603059 , start=2016-01-04, end=2017-01-04 call QA_fetch_stock_day return None\n",
      "QA Error QA_fetch_stock_day_adv parameter code=603063 , start=2016-01-04, end=2017-01-04 call QA_fetch_stock_day return None\n",
      "QA Error QA_fetch_stock_day_adv parameter code=603068 , start=2016-01-04, end=2017-01-04 call QA_fetch_stock_day return None\n",
      "QA Error QA_fetch_stock_day_adv parameter code=603076 , start=2016-01-04, end=2017-01-04 call QA_fetch_stock_day return None\n"
     ]
    },
    {
     "name": "stderr",
     "output_type": "stream",
     "text": [
      "Processing 603096:  81%|████████  | 3506/4328 [01:58<00:16, 48.37it/s]"
     ]
    },
    {
     "name": "stdout",
     "output_type": "stream",
     "text": [
      "QA Error QA_fetch_stock_day_adv parameter code=603078 , start=2016-01-04, end=2017-01-04 call QA_fetch_stock_day return None\n",
      "QA Error QA_fetch_stock_day_adv parameter code=603079 , start=2016-01-04, end=2017-01-04 call QA_fetch_stock_day return None\n",
      "QA Error QA_fetch_stock_day_adv parameter code=603080 , start=2016-01-04, end=2017-01-04 call QA_fetch_stock_day return None\n",
      "QA Error QA_fetch_stock_day_adv parameter code=603081 , start=2016-01-04, end=2017-01-04 call QA_fetch_stock_day return None\n",
      "QA Error QA_fetch_stock_day_adv parameter code=603083 , start=2016-01-04, end=2017-01-04 call QA_fetch_stock_day return None\n",
      "QA Error QA_fetch_stock_day_adv parameter code=603086 , start=2016-01-04, end=2017-01-04 call QA_fetch_stock_day return None\n",
      "QA Error QA_fetch_stock_day_adv parameter code=603087 , start=2016-01-04, end=2017-01-04 call QA_fetch_stock_day return None\n",
      "QA Error QA_fetch_stock_day_adv parameter code=603089 , start=2016-01-04, end=2017-01-04 call QA_fetch_stock_day return None\n",
      "QA Error QA_fetch_stock_day_adv parameter code=603093 , start=2016-01-04, end=2017-01-04 call QA_fetch_stock_day return None\n",
      "QA Error QA_fetch_stock_day_adv parameter code=603095 , start=2016-01-04, end=2017-01-04 call QA_fetch_stock_day return None\n",
      "QA Error QA_fetch_stock_day_adv parameter code=603096 , start=2016-01-04, end=2017-01-04 call QA_fetch_stock_day return None\n"
     ]
    },
    {
     "name": "stderr",
     "output_type": "stream",
     "text": [
      "Processing 603116:  81%|████████▏ | 3526/4328 [01:58<00:15, 51.39it/s]"
     ]
    },
    {
     "name": "stdout",
     "output_type": "stream",
     "text": [
      "QA Error QA_fetch_stock_day_adv parameter code=603103 , start=2016-01-04, end=2017-01-04 call QA_fetch_stock_day return None\n",
      "QA Error QA_fetch_stock_day_adv parameter code=603105 , start=2016-01-04, end=2017-01-04 call QA_fetch_stock_day return None\n",
      "QA Error QA_fetch_stock_day_adv parameter code=603106 , start=2016-01-04, end=2017-01-04 call QA_fetch_stock_day return None\n",
      "QA Error QA_fetch_stock_day_adv parameter code=603109 , start=2016-01-04, end=2017-01-04 call QA_fetch_stock_day return None\n",
      "QA Error QA_fetch_stock_day_adv parameter code=603110 , start=2016-01-04, end=2017-01-04 call QA_fetch_stock_day return None\n",
      "QA Error QA_fetch_stock_day_adv parameter code=603112 , start=2016-01-04, end=2017-01-04 call QA_fetch_stock_day return None\n",
      "QA Error QA_fetch_stock_day_adv parameter code=603113 , start=2016-01-04, end=2017-01-04 call QA_fetch_stock_day return None\n",
      "QA Error QA_fetch_stock_day_adv parameter code=603115 , start=2016-01-04, end=2017-01-04 call QA_fetch_stock_day return None\n"
     ]
    },
    {
     "name": "stderr",
     "output_type": "stream",
     "text": [
      "Processing 603139:  82%|████████▏ | 3538/4328 [01:58<00:16, 47.15it/s]"
     ]
    },
    {
     "name": "stdout",
     "output_type": "stream",
     "text": [
      "QA Error QA_fetch_stock_day_adv parameter code=603121 , start=2016-01-04, end=2017-01-04 call QA_fetch_stock_day return None\n",
      "QA Error QA_fetch_stock_day_adv parameter code=603127 , start=2016-01-04, end=2017-01-04 call QA_fetch_stock_day return None\n",
      "QA Error QA_fetch_stock_day_adv parameter code=603129 , start=2016-01-04, end=2017-01-04 call QA_fetch_stock_day return None\n",
      "QA Error QA_fetch_stock_day_adv parameter code=603133 , start=2016-01-04, end=2017-01-04 call QA_fetch_stock_day return None\n",
      "QA Error QA_fetch_stock_day_adv parameter code=603136 , start=2016-01-04, end=2017-01-04 call QA_fetch_stock_day return None\n",
      "QA Error QA_fetch_stock_day_adv parameter code=603138 , start=2016-01-04, end=2017-01-04 call QA_fetch_stock_day return None\n",
      "QA Error QA_fetch_stock_day_adv parameter code=603139 , start=2016-01-04, end=2017-01-04 call QA_fetch_stock_day return None\n"
     ]
    },
    {
     "name": "stderr",
     "output_type": "stream",
     "text": [
      "Processing 603166:  82%|████████▏ | 3544/4328 [01:59<00:15, 49.18it/s]"
     ]
    },
    {
     "name": "stdout",
     "output_type": "stream",
     "text": [
      "QA Error QA_fetch_stock_day_adv parameter code=603155 , start=2016-01-04, end=2017-01-04 call QA_fetch_stock_day return None\n",
      "QA Error QA_fetch_stock_day_adv parameter code=603156 , start=2016-01-04, end=2017-01-04 call QA_fetch_stock_day return None\n",
      "QA Error QA_fetch_stock_day_adv parameter code=603157 , start=2016-01-04, end=2017-01-04 call QA_fetch_stock_day return None\n",
      "QA Error QA_fetch_stock_day_adv parameter code=603161 , start=2016-01-04, end=2017-01-04 call QA_fetch_stock_day return None\n",
      "QA Error QA_fetch_stock_day_adv parameter code=603165 , start=2016-01-04, end=2017-01-04 call QA_fetch_stock_day return None\n"
     ]
    },
    {
     "name": "stderr",
     "output_type": "stream",
     "text": [
      "Processing 603197:  82%|████████▏ | 3559/4328 [01:59<00:14, 51.61it/s]"
     ]
    },
    {
     "name": "stdout",
     "output_type": "stream",
     "text": [
      "QA Error QA_fetch_stock_day_adv parameter code=603177 , start=2016-01-04, end=2017-01-04 call QA_fetch_stock_day return None\n",
      "QA Error QA_fetch_stock_day_adv parameter code=603178 , start=2016-01-04, end=2017-01-04 call QA_fetch_stock_day return None\n",
      "QA Error QA_fetch_stock_day_adv parameter code=603179 , start=2016-01-04, end=2017-01-04 call QA_fetch_stock_day return None\n",
      "QA Error QA_fetch_stock_day_adv parameter code=603180 , start=2016-01-04, end=2017-01-04 call QA_fetch_stock_day return None\n",
      "QA Error QA_fetch_stock_day_adv parameter code=603181 , start=2016-01-04, end=2017-01-04 call QA_fetch_stock_day return None\n",
      "QA Error QA_fetch_stock_day_adv parameter code=603183 , start=2016-01-04, end=2017-01-04 call QA_fetch_stock_day return None\n",
      "QA Error QA_fetch_stock_day_adv parameter code=603185 , start=2016-01-04, end=2017-01-04 call QA_fetch_stock_day return None\n",
      "20170104 603186 华正新材\n",
      "QA Error QA_fetch_stock_day_adv parameter code=603187 , start=2016-01-04, end=2017-01-04 call QA_fetch_stock_day return None\n",
      "QA Error QA_fetch_stock_day_adv parameter code=603192 , start=2016-01-04, end=2017-01-04 call QA_fetch_stock_day return None\n",
      "QA Error QA_fetch_stock_day_adv parameter code=603195 , start=2016-01-04, end=2017-01-04 call QA_fetch_stock_day return None\n",
      "QA Error QA_fetch_stock_day_adv parameter code=603196 , start=2016-01-04, end=2017-01-04 call QA_fetch_stock_day return None\n",
      "QA Error QA_fetch_stock_day_adv parameter code=603197 , start=2016-01-04, end=2017-01-04 call QA_fetch_stock_day return None\n"
     ]
    },
    {
     "name": "stderr",
     "output_type": "stream",
     "text": [
      "Processing 603226:  83%|████████▎ | 3579/4328 [01:59<00:14, 50.65it/s]"
     ]
    },
    {
     "name": "stdout",
     "output_type": "stream",
     "text": [
      "QA Error QA_fetch_stock_day_adv parameter code=603200 , start=2016-01-04, end=2017-01-04 call QA_fetch_stock_day return None\n",
      "QA Error QA_fetch_stock_day_adv parameter code=603208 , start=2016-01-04, end=2017-01-04 call QA_fetch_stock_day return None\n",
      "QA Error QA_fetch_stock_day_adv parameter code=603212 , start=2016-01-04, end=2017-01-04 call QA_fetch_stock_day return None\n",
      "QA Error QA_fetch_stock_day_adv parameter code=603214 , start=2016-01-04, end=2017-01-04 call QA_fetch_stock_day return None\n",
      "QA Error QA_fetch_stock_day_adv parameter code=603217 , start=2016-01-04, end=2017-01-04 call QA_fetch_stock_day return None\n",
      "20170104 603218 日月股份\n",
      "QA Error QA_fetch_stock_day_adv parameter code=603220 , start=2016-01-04, end=2017-01-04 call QA_fetch_stock_day return None\n",
      "QA Error QA_fetch_stock_day_adv parameter code=603221 , start=2016-01-04, end=2017-01-04 call QA_fetch_stock_day return None\n",
      "QA Error QA_fetch_stock_day_adv parameter code=603225 , start=2016-01-04, end=2017-01-04 call QA_fetch_stock_day return None\n",
      "QA Error QA_fetch_stock_day_adv parameter code=603226 , start=2016-01-04, end=2017-01-04 call QA_fetch_stock_day return None\n"
     ]
    },
    {
     "name": "stderr",
     "output_type": "stream",
     "text": [
      "Processing 603268:  83%|████████▎ | 3591/4328 [01:59<00:12, 60.11it/s]"
     ]
    },
    {
     "name": "stdout",
     "output_type": "stream",
     "text": [
      "QA Error QA_fetch_stock_day_adv parameter code=603228 , start=2016-01-04, end=2017-01-04 call QA_fetch_stock_day return None\n",
      "QA Error QA_fetch_stock_day_adv parameter code=603229 , start=2016-01-04, end=2017-01-04 call QA_fetch_stock_day return None\n",
      "QA Error QA_fetch_stock_day_adv parameter code=603232 , start=2016-01-04, end=2017-01-04 call QA_fetch_stock_day return None\n",
      "QA Error QA_fetch_stock_day_adv parameter code=603233 , start=2016-01-04, end=2017-01-04 call QA_fetch_stock_day return None\n",
      "QA Error QA_fetch_stock_day_adv parameter code=603236 , start=2016-01-04, end=2017-01-04 call QA_fetch_stock_day return None\n",
      "QA Error QA_fetch_stock_day_adv parameter code=603238 , start=2016-01-04, end=2017-01-04 call QA_fetch_stock_day return None\n",
      "20170104 603239 浙江仙通\n",
      "QA Error QA_fetch_stock_day_adv parameter code=603256 , start=2016-01-04, end=2017-01-04 call QA_fetch_stock_day return None\n",
      "QA Error QA_fetch_stock_day_adv parameter code=603259 , start=2016-01-04, end=2017-01-04 call QA_fetch_stock_day return None\n",
      "QA Error QA_fetch_stock_day_adv parameter code=603260 , start=2016-01-04, end=2017-01-04 call QA_fetch_stock_day return None\n",
      "QA Error QA_fetch_stock_day_adv parameter code=603266 , start=2016-01-04, end=2017-01-04 call QA_fetch_stock_day return None\n",
      "QA Error QA_fetch_stock_day_adv parameter code=603267 , start=2016-01-04, end=2017-01-04 call QA_fetch_stock_day return None\n"
     ]
    },
    {
     "name": "stderr",
     "output_type": "stream",
     "text": [
      "Processing 603299:  83%|████████▎ | 3607/4328 [02:00<00:11, 63.62it/s]"
     ]
    },
    {
     "name": "stdout",
     "output_type": "stream",
     "text": [
      "QA Error QA_fetch_stock_day_adv parameter code=603269 , start=2016-01-04, end=2017-01-04 call QA_fetch_stock_day return None\n",
      "QA Error QA_fetch_stock_day_adv parameter code=603277 , start=2016-01-04, end=2017-01-04 call QA_fetch_stock_day return None\n",
      "QA Error QA_fetch_stock_day_adv parameter code=603278 , start=2016-01-04, end=2017-01-04 call QA_fetch_stock_day return None\n",
      "QA Error QA_fetch_stock_day_adv parameter code=603279 , start=2016-01-04, end=2017-01-04 call QA_fetch_stock_day return None\n",
      "QA Error QA_fetch_stock_day_adv parameter code=603283 , start=2016-01-04, end=2017-01-04 call QA_fetch_stock_day return None\n",
      "QA Error QA_fetch_stock_day_adv parameter code=603286 , start=2016-01-04, end=2017-01-04 call QA_fetch_stock_day return None\n",
      "QA Error QA_fetch_stock_day_adv parameter code=603289 , start=2016-01-04, end=2017-01-04 call QA_fetch_stock_day return None\n",
      "QA Error QA_fetch_stock_day_adv parameter code=603290 , start=2016-01-04, end=2017-01-04 call QA_fetch_stock_day return None\n",
      "QA Error QA_fetch_stock_day_adv parameter code=603297 , start=2016-01-04, end=2017-01-04 call QA_fetch_stock_day return None\n",
      "20170104 603298 杭叉集团\n"
     ]
    },
    {
     "name": "stderr",
     "output_type": "stream",
     "text": [
      "Processing 603311:  84%|████████▎ | 3614/4328 [02:00<00:12, 57.05it/s]"
     ]
    },
    {
     "name": "stdout",
     "output_type": "stream",
     "text": [
      "QA Error QA_fetch_stock_day_adv parameter code=603301 , start=2016-01-04, end=2017-01-04 call QA_fetch_stock_day return None\n",
      "QA Error QA_fetch_stock_day_adv parameter code=603302 , start=2016-01-04, end=2017-01-04 call QA_fetch_stock_day return None\n",
      "QA Error QA_fetch_stock_day_adv parameter code=603303 , start=2016-01-04, end=2017-01-04 call QA_fetch_stock_day return None\n",
      "QA Error QA_fetch_stock_day_adv parameter code=603305 , start=2016-01-04, end=2017-01-04 call QA_fetch_stock_day return None\n"
     ]
    },
    {
     "name": "stderr",
     "output_type": "stream",
     "text": [
      "Processing 603323:  84%|████████▍ | 3625/4328 [02:00<00:14, 48.06it/s]"
     ]
    },
    {
     "name": "stdout",
     "output_type": "stream",
     "text": [
      "QA Error QA_fetch_stock_day_adv parameter code=603316 , start=2016-01-04, end=2017-01-04 call QA_fetch_stock_day return None\n",
      "QA Error QA_fetch_stock_day_adv parameter code=603317 , start=2016-01-04, end=2017-01-04 call QA_fetch_stock_day return None\n",
      "QA Error QA_fetch_stock_day_adv parameter code=603320 , start=2016-01-04, end=2017-01-04 call QA_fetch_stock_day return None\n",
      "QA Error QA_fetch_stock_day_adv parameter code=603321 , start=2016-01-04, end=2017-01-04 call QA_fetch_stock_day return None\n"
     ]
    },
    {
     "name": "stderr",
     "output_type": "stream",
     "text": [
      "Processing 603337:  84%|████████▍ | 3636/4328 [02:00<00:14, 46.95it/s]"
     ]
    },
    {
     "name": "stdout",
     "output_type": "stream",
     "text": [
      "QA Error QA_fetch_stock_day_adv parameter code=603324 , start=2016-01-04, end=2017-01-04 call QA_fetch_stock_day return None\n",
      "QA Error QA_fetch_stock_day_adv parameter code=603326 , start=2016-01-04, end=2017-01-04 call QA_fetch_stock_day return None\n",
      "QA Error QA_fetch_stock_day_adv parameter code=603327 , start=2016-01-04, end=2017-01-04 call QA_fetch_stock_day return None\n",
      "QA Error QA_fetch_stock_day_adv parameter code=603329 , start=2016-01-04, end=2017-01-04 call QA_fetch_stock_day return None\n",
      "QA Error QA_fetch_stock_day_adv parameter code=603330 , start=2016-01-04, end=2017-01-04 call QA_fetch_stock_day return None\n",
      "QA Error QA_fetch_stock_day_adv parameter code=603331 , start=2016-01-04, end=2017-01-04 call QA_fetch_stock_day return None\n",
      "QA Error QA_fetch_stock_day_adv parameter code=603332 , start=2016-01-04, end=2017-01-04 call QA_fetch_stock_day return None\n",
      "QA Error QA_fetch_stock_day_adv parameter code=603335 , start=2016-01-04, end=2017-01-04 call QA_fetch_stock_day return None\n",
      "QA Error QA_fetch_stock_day_adv parameter code=603337 , start=2016-01-04, end=2017-01-04 call QA_fetch_stock_day return None\n"
     ]
    },
    {
     "name": "stderr",
     "output_type": "stream",
     "text": [
      "Processing 603367:  84%|████████▍ | 3649/4328 [02:01<00:12, 53.87it/s]"
     ]
    },
    {
     "name": "stdout",
     "output_type": "stream",
     "text": [
      "QA Error QA_fetch_stock_day_adv parameter code=603345 , start=2016-01-04, end=2017-01-04 call QA_fetch_stock_day return None\n",
      "QA Error QA_fetch_stock_day_adv parameter code=603348 , start=2016-01-04, end=2017-01-04 call QA_fetch_stock_day return None\n",
      "QA Error QA_fetch_stock_day_adv parameter code=603351 , start=2016-01-04, end=2017-01-04 call QA_fetch_stock_day return None\n",
      "QA Error QA_fetch_stock_day_adv parameter code=603353 , start=2016-01-04, end=2017-01-04 call QA_fetch_stock_day return None\n",
      "QA Error QA_fetch_stock_day_adv parameter code=603356 , start=2016-01-04, end=2017-01-04 call QA_fetch_stock_day return None\n",
      "QA Error QA_fetch_stock_day_adv parameter code=603357 , start=2016-01-04, end=2017-01-04 call QA_fetch_stock_day return None\n",
      "QA Error QA_fetch_stock_day_adv parameter code=603358 , start=2016-01-04, end=2017-01-04 call QA_fetch_stock_day return None\n",
      "QA Error QA_fetch_stock_day_adv parameter code=603359 , start=2016-01-04, end=2017-01-04 call QA_fetch_stock_day return None\n",
      "QA Error QA_fetch_stock_day_adv parameter code=603360 , start=2016-01-04, end=2017-01-04 call QA_fetch_stock_day return None\n",
      "QA Error QA_fetch_stock_day_adv parameter code=603363 , start=2016-01-04, end=2017-01-04 call QA_fetch_stock_day return None\n",
      "QA Error QA_fetch_stock_day_adv parameter code=603365 , start=2016-01-04, end=2017-01-04 call QA_fetch_stock_day return None\n",
      "QA Error QA_fetch_stock_day_adv parameter code=603367 , start=2016-01-04, end=2017-01-04 call QA_fetch_stock_day return None\n"
     ]
    },
    {
     "name": "stderr",
     "output_type": "stream",
     "text": [
      "Processing 603396:  85%|████████▍ | 3670/4328 [02:01<00:11, 58.05it/s]"
     ]
    },
    {
     "name": "stdout",
     "output_type": "stream",
     "text": [
      "QA Error QA_fetch_stock_day_adv parameter code=603378 , start=2016-01-04, end=2017-01-04 call QA_fetch_stock_day return None\n",
      "QA Error QA_fetch_stock_day_adv parameter code=603379 , start=2016-01-04, end=2017-01-04 call QA_fetch_stock_day return None\n",
      "QA Error QA_fetch_stock_day_adv parameter code=603380 , start=2016-01-04, end=2017-01-04 call QA_fetch_stock_day return None\n",
      "QA Error QA_fetch_stock_day_adv parameter code=603383 , start=2016-01-04, end=2017-01-04 call QA_fetch_stock_day return None\n",
      "QA Error QA_fetch_stock_day_adv parameter code=603385 , start=2016-01-04, end=2017-01-04 call QA_fetch_stock_day return None\n",
      "QA Error QA_fetch_stock_day_adv parameter code=603386 , start=2016-01-04, end=2017-01-04 call QA_fetch_stock_day return None\n",
      "QA Error QA_fetch_stock_day_adv parameter code=603387 , start=2016-01-04, end=2017-01-04 call QA_fetch_stock_day return None\n",
      "QA Error QA_fetch_stock_day_adv parameter code=603388 , start=2016-01-04, end=2017-01-04 call QA_fetch_stock_day return None\n",
      "QA Error QA_fetch_stock_day_adv parameter code=603390 , start=2016-01-04, end=2017-01-04 call QA_fetch_stock_day return None\n",
      "QA Error QA_fetch_stock_day_adv parameter code=603392 , start=2016-01-04, end=2017-01-04 call QA_fetch_stock_day return None\n",
      "QA Error QA_fetch_stock_day_adv parameter code=603396 , start=2016-01-04, end=2017-01-04 call QA_fetch_stock_day return None\n"
     ]
    },
    {
     "name": "stderr",
     "output_type": "stream",
     "text": [
      "Processing 603496:  85%|████████▌ | 3682/4328 [02:01<00:13, 47.51it/s]"
     ]
    },
    {
     "name": "stdout",
     "output_type": "stream",
     "text": [
      "QA Error QA_fetch_stock_day_adv parameter code=603408 , start=2016-01-04, end=2017-01-04 call QA_fetch_stock_day return None\n",
      "QA Error QA_fetch_stock_day_adv parameter code=603429 , start=2016-01-04, end=2017-01-04 call QA_fetch_stock_day return None\n",
      "QA Error QA_fetch_stock_day_adv parameter code=603439 , start=2016-01-04, end=2017-01-04 call QA_fetch_stock_day return None\n",
      "QA Error QA_fetch_stock_day_adv parameter code=603458 , start=2016-01-04, end=2017-01-04 call QA_fetch_stock_day return None\n",
      "QA Error QA_fetch_stock_day_adv parameter code=603466 , start=2016-01-04, end=2017-01-04 call QA_fetch_stock_day return None\n",
      "QA Error QA_fetch_stock_day_adv parameter code=603477 , start=2016-01-04, end=2017-01-04 call QA_fetch_stock_day return None\n",
      "QA Error QA_fetch_stock_day_adv parameter code=603486 , start=2016-01-04, end=2017-01-04 call QA_fetch_stock_day return None\n",
      "QA Error QA_fetch_stock_day_adv parameter code=603488 , start=2016-01-04, end=2017-01-04 call QA_fetch_stock_day return None\n",
      "QA Error QA_fetch_stock_day_adv parameter code=603489 , start=2016-01-04, end=2017-01-04 call QA_fetch_stock_day return None\n",
      "QA Error QA_fetch_stock_day_adv parameter code=603496 , start=2016-01-04, end=2017-01-04 call QA_fetch_stock_day return None\n"
     ]
    },
    {
     "name": "stderr",
     "output_type": "stream",
     "text": [
      "Processing 603518:  85%|████████▌ | 3694/4328 [02:01<00:09, 63.62it/s]"
     ]
    },
    {
     "name": "stdout",
     "output_type": "stream",
     "text": [
      "QA Error QA_fetch_stock_day_adv parameter code=603499 , start=2016-01-04, end=2017-01-04 call QA_fetch_stock_day return None\n",
      "QA Error QA_fetch_stock_day_adv parameter code=603500 , start=2016-01-04, end=2017-01-04 call QA_fetch_stock_day return None\n",
      "QA Error QA_fetch_stock_day_adv parameter code=603501 , start=2016-01-04, end=2017-01-04 call QA_fetch_stock_day return None\n",
      "QA Error QA_fetch_stock_day_adv parameter code=603505 , start=2016-01-04, end=2017-01-04 call QA_fetch_stock_day return None\n",
      "QA Error QA_fetch_stock_day_adv parameter code=603506 , start=2016-01-04, end=2017-01-04 call QA_fetch_stock_day return None\n",
      "QA Error QA_fetch_stock_day_adv parameter code=603507 , start=2016-01-04, end=2017-01-04 call QA_fetch_stock_day return None\n",
      "QA Error QA_fetch_stock_day_adv parameter code=603511 , start=2016-01-04, end=2017-01-04 call QA_fetch_stock_day return None\n",
      "QA Error QA_fetch_stock_day_adv parameter code=603516 , start=2016-01-04, end=2017-01-04 call QA_fetch_stock_day return None\n",
      "QA Error QA_fetch_stock_day_adv parameter code=603517 , start=2016-01-04, end=2017-01-04 call QA_fetch_stock_day return None\n"
     ]
    },
    {
     "name": "stderr",
     "output_type": "stream",
     "text": [
      "Processing 603558:  86%|████████▌ | 3710/4328 [02:02<00:10, 60.74it/s]"
     ]
    },
    {
     "name": "stdout",
     "output_type": "stream",
     "text": [
      "QA Error QA_fetch_stock_day_adv parameter code=603527 , start=2016-01-04, end=2017-01-04 call QA_fetch_stock_day return None\n",
      "QA Error QA_fetch_stock_day_adv parameter code=603530 , start=2016-01-04, end=2017-01-04 call QA_fetch_stock_day return None\n",
      "QA Error QA_fetch_stock_day_adv parameter code=603533 , start=2016-01-04, end=2017-01-04 call QA_fetch_stock_day return None\n",
      "QA Error QA_fetch_stock_day_adv parameter code=603535 , start=2016-01-04, end=2017-01-04 call QA_fetch_stock_day return None\n",
      "QA Error QA_fetch_stock_day_adv parameter code=603536 , start=2016-01-04, end=2017-01-04 call QA_fetch_stock_day return None\n",
      "QA Error QA_fetch_stock_day_adv parameter code=603538 , start=2016-01-04, end=2017-01-04 call QA_fetch_stock_day return None\n",
      "QA Error QA_fetch_stock_day_adv parameter code=603551 , start=2016-01-04, end=2017-01-04 call QA_fetch_stock_day return None\n",
      "QA Error QA_fetch_stock_day_adv parameter code=603557 , start=2016-01-04, end=2017-01-04 call QA_fetch_stock_day return None\n"
     ]
    },
    {
     "name": "stderr",
     "output_type": "stream",
     "text": [
      "Processing 603577:  86%|████████▌ | 3717/4328 [02:02<00:12, 47.75it/s]"
     ]
    },
    {
     "name": "stdout",
     "output_type": "stream",
     "text": [
      "QA Error QA_fetch_stock_day_adv parameter code=603565 , start=2016-01-04, end=2017-01-04 call QA_fetch_stock_day return None\n",
      "20170104 603577 汇金通\n"
     ]
    },
    {
     "name": "stderr",
     "output_type": "stream",
     "text": [
      "Processing 603596:  86%|████████▌ | 3729/4328 [02:02<00:13, 43.21it/s]"
     ]
    },
    {
     "name": "stdout",
     "output_type": "stream",
     "text": [
      "QA Error QA_fetch_stock_day_adv parameter code=603578 , start=2016-01-04, end=2017-01-04 call QA_fetch_stock_day return None\n",
      "QA Error QA_fetch_stock_day_adv parameter code=603579 , start=2016-01-04, end=2017-01-04 call QA_fetch_stock_day return None\n",
      "QA Error QA_fetch_stock_day_adv parameter code=603580 , start=2016-01-04, end=2017-01-04 call QA_fetch_stock_day return None\n",
      "QA Error QA_fetch_stock_day_adv parameter code=603583 , start=2016-01-04, end=2017-01-04 call QA_fetch_stock_day return None\n",
      "QA Error QA_fetch_stock_day_adv parameter code=603586 , start=2016-01-04, end=2017-01-04 call QA_fetch_stock_day return None\n",
      "QA Error QA_fetch_stock_day_adv parameter code=603587 , start=2016-01-04, end=2017-01-04 call QA_fetch_stock_day return None\n",
      "QA Error QA_fetch_stock_day_adv parameter code=603590 , start=2016-01-04, end=2017-01-04 call QA_fetch_stock_day return None\n",
      "QA Error QA_fetch_stock_day_adv parameter code=603595 , start=2016-01-04, end=2017-01-04 call QA_fetch_stock_day return None\n",
      "QA Error QA_fetch_stock_day_adv parameter code=603596 , start=2016-01-04, end=2017-01-04 call QA_fetch_stock_day return None\n"
     ]
    },
    {
     "name": "stderr",
     "output_type": "stream",
     "text": [
      "Processing 603612:  87%|████████▋ | 3745/4328 [02:02<00:13, 42.45it/s]"
     ]
    },
    {
     "name": "stdout",
     "output_type": "stream",
     "text": [
      "QA Error QA_fetch_stock_day_adv parameter code=603602 , start=2016-01-04, end=2017-01-04 call QA_fetch_stock_day return None\n",
      "QA Error QA_fetch_stock_day_adv parameter code=603603 , start=2016-01-04, end=2017-01-04 call QA_fetch_stock_day return None\n",
      "QA Error QA_fetch_stock_day_adv parameter code=603605 , start=2016-01-04, end=2017-01-04 call QA_fetch_stock_day return None\n",
      "QA Error QA_fetch_stock_day_adv parameter code=603607 , start=2016-01-04, end=2017-01-04 call QA_fetch_stock_day return None\n",
      "QA Error QA_fetch_stock_day_adv parameter code=603610 , start=2016-01-04, end=2017-01-04 call QA_fetch_stock_day return None\n",
      "QA Error QA_fetch_stock_day_adv parameter code=603612 , start=2016-01-04, end=2017-01-04 call QA_fetch_stock_day return None\n"
     ]
    },
    {
     "name": "stderr",
     "output_type": "stream",
     "text": [
      "Processing 603633:  87%|████████▋ | 3751/4328 [02:03<00:13, 42.52it/s]"
     ]
    },
    {
     "name": "stdout",
     "output_type": "stream",
     "text": [
      "QA Error QA_fetch_stock_day_adv parameter code=603613 , start=2016-01-04, end=2017-01-04 call QA_fetch_stock_day return None\n",
      "QA Error QA_fetch_stock_day_adv parameter code=603615 , start=2016-01-04, end=2017-01-04 call QA_fetch_stock_day return None\n",
      "QA Error QA_fetch_stock_day_adv parameter code=603617 , start=2016-01-04, end=2017-01-04 call QA_fetch_stock_day return None\n",
      "QA Error QA_fetch_stock_day_adv parameter code=603619 , start=2016-01-04, end=2017-01-04 call QA_fetch_stock_day return None\n",
      "QA Error QA_fetch_stock_day_adv parameter code=603626 , start=2016-01-04, end=2017-01-04 call QA_fetch_stock_day return None\n",
      "QA Error QA_fetch_stock_day_adv parameter code=603628 , start=2016-01-04, end=2017-01-04 call QA_fetch_stock_day return None\n",
      "QA Error QA_fetch_stock_day_adv parameter code=603629 , start=2016-01-04, end=2017-01-04 call QA_fetch_stock_day return None\n",
      "QA Error QA_fetch_stock_day_adv parameter code=603630 , start=2016-01-04, end=2017-01-04 call QA_fetch_stock_day return None\n"
     ]
    },
    {
     "name": "stderr",
     "output_type": "stream",
     "text": [
      "Processing 603665:  87%|████████▋ | 3769/4328 [02:03<00:09, 58.60it/s]"
     ]
    },
    {
     "name": "stdout",
     "output_type": "stream",
     "text": [
      "QA Error QA_fetch_stock_day_adv parameter code=603637 , start=2016-01-04, end=2017-01-04 call QA_fetch_stock_day return None\n",
      "QA Error QA_fetch_stock_day_adv parameter code=603638 , start=2016-01-04, end=2017-01-04 call QA_fetch_stock_day return None\n",
      "QA Error QA_fetch_stock_day_adv parameter code=603639 , start=2016-01-04, end=2017-01-04 call QA_fetch_stock_day return None\n",
      "QA Error QA_fetch_stock_day_adv parameter code=603648 , start=2016-01-04, end=2017-01-04 call QA_fetch_stock_day return None\n",
      "QA Error QA_fetch_stock_day_adv parameter code=603650 , start=2016-01-04, end=2017-01-04 call QA_fetch_stock_day return None\n",
      "QA Error QA_fetch_stock_day_adv parameter code=603655 , start=2016-01-04, end=2017-01-04 call QA_fetch_stock_day return None\n",
      "QA Error QA_fetch_stock_day_adv parameter code=603656 , start=2016-01-04, end=2017-01-04 call QA_fetch_stock_day return None\n",
      "QA Error QA_fetch_stock_day_adv parameter code=603657 , start=2016-01-04, end=2017-01-04 call QA_fetch_stock_day return None\n",
      "QA Error QA_fetch_stock_day_adv parameter code=603659 , start=2016-01-04, end=2017-01-04 call QA_fetch_stock_day return None\n",
      "QA Error QA_fetch_stock_day_adv parameter code=603661 , start=2016-01-04, end=2017-01-04 call QA_fetch_stock_day return None\n",
      "QA Error QA_fetch_stock_day_adv parameter code=603662 , start=2016-01-04, end=2017-01-04 call QA_fetch_stock_day return None\n",
      "QA Error QA_fetch_stock_day_adv parameter code=603665 , start=2016-01-04, end=2017-01-04 call QA_fetch_stock_day return None\n"
     ]
    },
    {
     "name": "stderr",
     "output_type": "stream",
     "text": [
      "Processing 603682:  87%|████████▋ | 3781/4328 [02:03<00:10, 52.45it/s]"
     ]
    },
    {
     "name": "stdout",
     "output_type": "stream",
     "text": [
      "QA Error QA_fetch_stock_day_adv parameter code=603666 , start=2016-01-04, end=2017-01-04 call QA_fetch_stock_day return None\n",
      "QA Error QA_fetch_stock_day_adv parameter code=603668 , start=2016-01-04, end=2017-01-04 call QA_fetch_stock_day return None\n",
      "QA Error QA_fetch_stock_day_adv parameter code=603676 , start=2016-01-04, end=2017-01-04 call QA_fetch_stock_day return None\n",
      "QA Error QA_fetch_stock_day_adv parameter code=603677 , start=2016-01-04, end=2017-01-04 call QA_fetch_stock_day return None\n",
      "QA Error QA_fetch_stock_day_adv parameter code=603679 , start=2016-01-04, end=2017-01-04 call QA_fetch_stock_day return None\n",
      "QA Error QA_fetch_stock_day_adv parameter code=603680 , start=2016-01-04, end=2017-01-04 call QA_fetch_stock_day return None\n",
      "QA Error QA_fetch_stock_day_adv parameter code=603681 , start=2016-01-04, end=2017-01-04 call QA_fetch_stock_day return None\n",
      "QA Error QA_fetch_stock_day_adv parameter code=603682 , start=2016-01-04, end=2017-01-04 call QA_fetch_stock_day return None\n",
      "QA Error QA_fetch_stock_day_adv parameter code=603683 , start=2016-01-04, end=2017-01-04 call QA_fetch_stock_day return None\n"
     ]
    },
    {
     "name": "stderr",
     "output_type": "stream",
     "text": [
      "Processing 603698:  88%|████████▊ | 3795/4328 [02:03<00:09, 56.52it/s]"
     ]
    },
    {
     "name": "stdout",
     "output_type": "stream",
     "text": [
      "QA Error QA_fetch_stock_day_adv parameter code=603685 , start=2016-01-04, end=2017-01-04 call QA_fetch_stock_day return None\n",
      "QA Error QA_fetch_stock_day_adv parameter code=603687 , start=2016-01-04, end=2017-01-04 call QA_fetch_stock_day return None\n",
      "QA Error QA_fetch_stock_day_adv parameter code=603689 , start=2016-01-04, end=2017-01-04 call QA_fetch_stock_day return None\n",
      "QA Error QA_fetch_stock_day_adv parameter code=603690 , start=2016-01-04, end=2017-01-04 call QA_fetch_stock_day return None\n",
      "QA Error QA_fetch_stock_day_adv parameter code=603693 , start=2016-01-04, end=2017-01-04 call QA_fetch_stock_day return None\n",
      "QA Error QA_fetch_stock_day_adv parameter code=603697 , start=2016-01-04, end=2017-01-04 call QA_fetch_stock_day return None\n"
     ]
    },
    {
     "name": "stderr",
     "output_type": "stream",
     "text": [
      "Processing 603713:  88%|████████▊ | 3801/4328 [02:04<00:10, 49.31it/s]"
     ]
    },
    {
     "name": "stdout",
     "output_type": "stream",
     "text": [
      "QA Error QA_fetch_stock_day_adv parameter code=603700 , start=2016-01-04, end=2017-01-04 call QA_fetch_stock_day return None\n",
      "QA Error QA_fetch_stock_day_adv parameter code=603706 , start=2016-01-04, end=2017-01-04 call QA_fetch_stock_day return None\n",
      "QA Error QA_fetch_stock_day_adv parameter code=603707 , start=2016-01-04, end=2017-01-04 call QA_fetch_stock_day return None\n",
      "QA Error QA_fetch_stock_day_adv parameter code=603709 , start=2016-01-04, end=2017-01-04 call QA_fetch_stock_day return None\n",
      "QA Error QA_fetch_stock_day_adv parameter code=603711 , start=2016-01-04, end=2017-01-04 call QA_fetch_stock_day return None\n",
      "QA Error QA_fetch_stock_day_adv parameter code=603712 , start=2016-01-04, end=2017-01-04 call QA_fetch_stock_day return None\n",
      "QA Error QA_fetch_stock_day_adv parameter code=603713 , start=2016-01-04, end=2017-01-04 call QA_fetch_stock_day return None\n"
     ]
    },
    {
     "name": "stderr",
     "output_type": "stream",
     "text": [
      "Processing 603728:  88%|████████▊ | 3814/4328 [02:04<00:10, 50.36it/s]"
     ]
    },
    {
     "name": "stdout",
     "output_type": "stream",
     "text": [
      "QA Error QA_fetch_stock_day_adv parameter code=603717 , start=2016-01-04, end=2017-01-04 call QA_fetch_stock_day return None\n",
      "QA Error QA_fetch_stock_day_adv parameter code=603719 , start=2016-01-04, end=2017-01-04 call QA_fetch_stock_day return None\n",
      "QA Error QA_fetch_stock_day_adv parameter code=603721 , start=2016-01-04, end=2017-01-04 call QA_fetch_stock_day return None\n",
      "QA Error QA_fetch_stock_day_adv parameter code=603722 , start=2016-01-04, end=2017-01-04 call QA_fetch_stock_day return None\n",
      "QA Error QA_fetch_stock_day_adv parameter code=603725 , start=2016-01-04, end=2017-01-04 call QA_fetch_stock_day return None\n",
      "QA Error QA_fetch_stock_day_adv parameter code=603728 , start=2016-01-04, end=2017-01-04 call QA_fetch_stock_day return None\n"
     ]
    },
    {
     "name": "stderr",
     "output_type": "stream",
     "text": [
      "Processing 603776:  88%|████████▊ | 3827/4328 [02:04<00:09, 52.02it/s]"
     ]
    },
    {
     "name": "stdout",
     "output_type": "stream",
     "text": [
      "QA Error QA_fetch_stock_day_adv parameter code=603730 , start=2016-01-04, end=2017-01-04 call QA_fetch_stock_day return None\n",
      "QA Error QA_fetch_stock_day_adv parameter code=603733 , start=2016-01-04, end=2017-01-04 call QA_fetch_stock_day return None\n",
      "QA Error QA_fetch_stock_day_adv parameter code=603739 , start=2016-01-04, end=2017-01-04 call QA_fetch_stock_day return None\n",
      "QA Error QA_fetch_stock_day_adv parameter code=603755 , start=2016-01-04, end=2017-01-04 call QA_fetch_stock_day return None\n",
      "QA Error QA_fetch_stock_day_adv parameter code=603757 , start=2016-01-04, end=2017-01-04 call QA_fetch_stock_day return None\n",
      "QA Error QA_fetch_stock_day_adv parameter code=603758 , start=2016-01-04, end=2017-01-04 call QA_fetch_stock_day return None\n",
      "QA Error QA_fetch_stock_day_adv parameter code=603759 , start=2016-01-04, end=2017-01-04 call QA_fetch_stock_day return None\n",
      "QA Error QA_fetch_stock_day_adv parameter code=603767 , start=2016-01-04, end=2017-01-04 call QA_fetch_stock_day return None\n",
      "QA Error QA_fetch_stock_day_adv parameter code=603768 , start=2016-01-04, end=2017-01-04 call QA_fetch_stock_day return None\n",
      "QA Error QA_fetch_stock_day_adv parameter code=603773 , start=2016-01-04, end=2017-01-04 call QA_fetch_stock_day return None\n",
      "QA Error QA_fetch_stock_day_adv parameter code=603776 , start=2016-01-04, end=2017-01-04 call QA_fetch_stock_day return None\n"
     ]
    },
    {
     "name": "stderr",
     "output_type": "stream",
     "text": [
      "Processing 603799:  89%|████████▊ | 3839/4328 [02:04<00:09, 49.26it/s]"
     ]
    },
    {
     "name": "stdout",
     "output_type": "stream",
     "text": [
      "20170104 603779 ST威龙\n",
      "QA Error QA_fetch_stock_day_adv parameter code=603786 , start=2016-01-04, end=2017-01-04 call QA_fetch_stock_day return None\n",
      "QA Error QA_fetch_stock_day_adv parameter code=603787 , start=2016-01-04, end=2017-01-04 call QA_fetch_stock_day return None\n",
      "QA Error QA_fetch_stock_day_adv parameter code=603790 , start=2016-01-04, end=2017-01-04 call QA_fetch_stock_day return None\n",
      "QA Error QA_fetch_stock_day_adv parameter code=603797 , start=2016-01-04, end=2017-01-04 call QA_fetch_stock_day return None\n"
     ]
    },
    {
     "name": "stderr",
     "output_type": "stream",
     "text": [
      "Processing 603817:  89%|████████▉ | 3849/4328 [02:05<00:10, 44.01it/s]"
     ]
    },
    {
     "name": "stdout",
     "output_type": "stream",
     "text": [
      "QA Error QA_fetch_stock_day_adv parameter code=603801 , start=2016-01-04, end=2017-01-04 call QA_fetch_stock_day return None\n",
      "QA Error QA_fetch_stock_day_adv parameter code=603803 , start=2016-01-04, end=2017-01-04 call QA_fetch_stock_day return None\n",
      "QA Error QA_fetch_stock_day_adv parameter code=603809 , start=2016-01-04, end=2017-01-04 call QA_fetch_stock_day return None\n",
      "QA Error QA_fetch_stock_day_adv parameter code=603810 , start=2016-01-04, end=2017-01-04 call QA_fetch_stock_day return None\n",
      "QA Error QA_fetch_stock_day_adv parameter code=603811 , start=2016-01-04, end=2017-01-04 call QA_fetch_stock_day return None\n",
      "QA Error QA_fetch_stock_day_adv parameter code=603813 , start=2016-01-04, end=2017-01-04 call QA_fetch_stock_day return None\n",
      "QA Error QA_fetch_stock_day_adv parameter code=603815 , start=2016-01-04, end=2017-01-04 call QA_fetch_stock_day return None\n",
      "QA Error QA_fetch_stock_day_adv parameter code=603817 , start=2016-01-04, end=2017-01-04 call QA_fetch_stock_day return None\n"
     ]
    },
    {
     "name": "stderr",
     "output_type": "stream",
     "text": [
      "Processing 603860:  89%|████████▉ | 3866/4328 [02:05<00:09, 47.24it/s]"
     ]
    },
    {
     "name": "stdout",
     "output_type": "stream",
     "text": [
      "20170104 603823 百合花\n",
      "QA Error QA_fetch_stock_day_adv parameter code=603825 , start=2016-01-04, end=2017-01-04 call QA_fetch_stock_day return None\n",
      "QA Error QA_fetch_stock_day_adv parameter code=603826 , start=2016-01-04, end=2017-01-04 call QA_fetch_stock_day return None\n",
      "QA Error QA_fetch_stock_day_adv parameter code=603829 , start=2016-01-04, end=2017-01-04 call QA_fetch_stock_day return None\n",
      "QA Error QA_fetch_stock_day_adv parameter code=603833 , start=2016-01-04, end=2017-01-04 call QA_fetch_stock_day return None\n",
      "QA Error QA_fetch_stock_day_adv parameter code=603839 , start=2016-01-04, end=2017-01-04 call QA_fetch_stock_day return None\n",
      "QA Error QA_fetch_stock_day_adv parameter code=603848 , start=2016-01-04, end=2017-01-04 call QA_fetch_stock_day return None\n",
      "QA Error QA_fetch_stock_day_adv parameter code=603855 , start=2016-01-04, end=2017-01-04 call QA_fetch_stock_day return None\n",
      "QA Error QA_fetch_stock_day_adv parameter code=603856 , start=2016-01-04, end=2017-01-04 call QA_fetch_stock_day return None\n",
      "QA Error QA_fetch_stock_day_adv parameter code=603860 , start=2016-01-04, end=2017-01-04 call QA_fetch_stock_day return None\n"
     ]
    },
    {
     "name": "stderr",
     "output_type": "stream",
     "text": [
      "Processing 603882:  90%|████████▉ | 3879/4328 [02:05<00:09, 48.51it/s]"
     ]
    },
    {
     "name": "stdout",
     "output_type": "stream",
     "text": [
      "QA Error QA_fetch_stock_day_adv parameter code=603863 , start=2016-01-04, end=2017-01-04 call QA_fetch_stock_day return None\n",
      "QA Error QA_fetch_stock_day_adv parameter code=603867 , start=2016-01-04, end=2017-01-04 call QA_fetch_stock_day return None\n",
      "QA Error QA_fetch_stock_day_adv parameter code=603871 , start=2016-01-04, end=2017-01-04 call QA_fetch_stock_day return None\n",
      "QA Error QA_fetch_stock_day_adv parameter code=603876 , start=2016-01-04, end=2017-01-04 call QA_fetch_stock_day return None\n",
      "QA Error QA_fetch_stock_day_adv parameter code=603877 , start=2016-01-04, end=2017-01-04 call QA_fetch_stock_day return None\n",
      "QA Error QA_fetch_stock_day_adv parameter code=603879 , start=2016-01-04, end=2017-01-04 call QA_fetch_stock_day return None\n",
      "QA Error QA_fetch_stock_day_adv parameter code=603880 , start=2016-01-04, end=2017-01-04 call QA_fetch_stock_day return None\n",
      "QA Error QA_fetch_stock_day_adv parameter code=603881 , start=2016-01-04, end=2017-01-04 call QA_fetch_stock_day return None\n",
      "QA Error QA_fetch_stock_day_adv parameter code=603882 , start=2016-01-04, end=2017-01-04 call QA_fetch_stock_day return None\n"
     ]
    },
    {
     "name": "stderr",
     "output_type": "stream",
     "text": [
      "Processing 603898:  90%|████████▉ | 3893/4328 [02:05<00:09, 46.67it/s]"
     ]
    },
    {
     "name": "stdout",
     "output_type": "stream",
     "text": [
      "20170104 603886 元祖股份\n",
      "QA Error QA_fetch_stock_day_adv parameter code=603890 , start=2016-01-04, end=2017-01-04 call QA_fetch_stock_day return None\n",
      "QA Error QA_fetch_stock_day_adv parameter code=603893 , start=2016-01-04, end=2017-01-04 call QA_fetch_stock_day return None\n",
      "QA Error QA_fetch_stock_day_adv parameter code=603895 , start=2016-01-04, end=2017-01-04 call QA_fetch_stock_day return None\n",
      "QA Error QA_fetch_stock_day_adv parameter code=603896 , start=2016-01-04, end=2017-01-04 call QA_fetch_stock_day return None\n",
      "QA Error QA_fetch_stock_day_adv parameter code=603897 , start=2016-01-04, end=2017-01-04 call QA_fetch_stock_day return None\n"
     ]
    },
    {
     "name": "stderr",
     "output_type": "stream",
     "text": [
      "Processing 603927:  90%|█████████ | 3911/4328 [02:06<00:08, 47.52it/s]"
     ]
    },
    {
     "name": "stdout",
     "output_type": "stream",
     "text": [
      "QA Error QA_fetch_stock_day_adv parameter code=603903 , start=2016-01-04, end=2017-01-04 call QA_fetch_stock_day return None\n",
      "QA Error QA_fetch_stock_day_adv parameter code=603906 , start=2016-01-04, end=2017-01-04 call QA_fetch_stock_day return None\n",
      "QA Error QA_fetch_stock_day_adv parameter code=603908 , start=2016-01-04, end=2017-01-04 call QA_fetch_stock_day return None\n",
      "QA Error QA_fetch_stock_day_adv parameter code=603912 , start=2016-01-04, end=2017-01-04 call QA_fetch_stock_day return None\n",
      "QA Error QA_fetch_stock_day_adv parameter code=603915 , start=2016-01-04, end=2017-01-04 call QA_fetch_stock_day return None\n",
      "QA Error QA_fetch_stock_day_adv parameter code=603916 , start=2016-01-04, end=2017-01-04 call QA_fetch_stock_day return None\n",
      "QA Error QA_fetch_stock_day_adv parameter code=603917 , start=2016-01-04, end=2017-01-04 call QA_fetch_stock_day return None\n",
      "QA Error QA_fetch_stock_day_adv parameter code=603920 , start=2016-01-04, end=2017-01-04 call QA_fetch_stock_day return None\n",
      "QA Error QA_fetch_stock_day_adv parameter code=603922 , start=2016-01-04, end=2017-01-04 call QA_fetch_stock_day return None\n",
      "QA Error QA_fetch_stock_day_adv parameter code=603926 , start=2016-01-04, end=2017-01-04 call QA_fetch_stock_day return None\n",
      "QA Error QA_fetch_stock_day_adv parameter code=603927 , start=2016-01-04, end=2017-01-04 call QA_fetch_stock_day return None\n"
     ]
    },
    {
     "name": "stderr",
     "output_type": "stream",
     "text": [
      "Processing 603956:  91%|█████████ | 3923/4328 [02:06<00:08, 47.80it/s]"
     ]
    },
    {
     "name": "stdout",
     "output_type": "stream",
     "text": [
      "20170104 603929 亚翔集成\n",
      "QA Error QA_fetch_stock_day_adv parameter code=603931 , start=2016-01-04, end=2017-01-04 call QA_fetch_stock_day return None\n",
      "QA Error QA_fetch_stock_day_adv parameter code=603933 , start=2016-01-04, end=2017-01-04 call QA_fetch_stock_day return None\n",
      "QA Error QA_fetch_stock_day_adv parameter code=603937 , start=2016-01-04, end=2017-01-04 call QA_fetch_stock_day return None\n",
      "QA Error QA_fetch_stock_day_adv parameter code=603938 , start=2016-01-04, end=2017-01-04 call QA_fetch_stock_day return None\n",
      "QA Error QA_fetch_stock_day_adv parameter code=603948 , start=2016-01-04, end=2017-01-04 call QA_fetch_stock_day return None\n",
      "QA Error QA_fetch_stock_day_adv parameter code=603949 , start=2016-01-04, end=2017-01-04 call QA_fetch_stock_day return None\n",
      "QA Error QA_fetch_stock_day_adv parameter code=603950 , start=2016-01-04, end=2017-01-04 call QA_fetch_stock_day return None\n",
      "QA Error QA_fetch_stock_day_adv parameter code=603955 , start=2016-01-04, end=2017-01-04 call QA_fetch_stock_day return None\n",
      "QA Error QA_fetch_stock_day_adv parameter code=603956 , start=2016-01-04, end=2017-01-04 call QA_fetch_stock_day return None\n"
     ]
    },
    {
     "name": "stderr",
     "output_type": "stream",
     "text": [
      "Processing 603978:  91%|█████████ | 3936/4328 [02:06<00:07, 50.44it/s]"
     ]
    },
    {
     "name": "stdout",
     "output_type": "stream",
     "text": [
      "QA Error QA_fetch_stock_day_adv parameter code=603960 , start=2016-01-04, end=2017-01-04 call QA_fetch_stock_day return None\n",
      "QA Error QA_fetch_stock_day_adv parameter code=603963 , start=2016-01-04, end=2017-01-04 call QA_fetch_stock_day return None\n",
      "QA Error QA_fetch_stock_day_adv parameter code=603966 , start=2016-01-04, end=2017-01-04 call QA_fetch_stock_day return None\n",
      "QA Error QA_fetch_stock_day_adv parameter code=603967 , start=2016-01-04, end=2017-01-04 call QA_fetch_stock_day return None\n",
      "QA Error QA_fetch_stock_day_adv parameter code=603970 , start=2016-01-04, end=2017-01-04 call QA_fetch_stock_day return None\n",
      "QA Error QA_fetch_stock_day_adv parameter code=603976 , start=2016-01-04, end=2017-01-04 call QA_fetch_stock_day return None\n",
      "QA Error QA_fetch_stock_day_adv parameter code=603978 , start=2016-01-04, end=2017-01-04 call QA_fetch_stock_day return None\n"
     ]
    },
    {
     "name": "stderr",
     "output_type": "stream",
     "text": [
      "Processing 603989:  91%|█████████ | 3949/4328 [02:07<00:08, 46.35it/s]"
     ]
    },
    {
     "name": "stdout",
     "output_type": "stream",
     "text": [
      "QA Error QA_fetch_stock_day_adv parameter code=603980 , start=2016-01-04, end=2017-01-04 call QA_fetch_stock_day return None\n",
      "QA Error QA_fetch_stock_day_adv parameter code=603982 , start=2016-01-04, end=2017-01-04 call QA_fetch_stock_day return None\n",
      "QA Error QA_fetch_stock_day_adv parameter code=603983 , start=2016-01-04, end=2017-01-04 call QA_fetch_stock_day return None\n",
      "QA Error QA_fetch_stock_day_adv parameter code=603985 , start=2016-01-04, end=2017-01-04 call QA_fetch_stock_day return None\n",
      "20170104 603988 中电电机\n"
     ]
    },
    {
     "name": "stderr",
     "output_type": "stream",
     "text": [
      "Processing 603998:  91%|█████████▏| 3955/4328 [02:07<00:08, 45.66it/s]"
     ]
    },
    {
     "name": "stdout",
     "output_type": "stream",
     "text": [
      "QA Error QA_fetch_stock_day_adv parameter code=603991 , start=2016-01-04, end=2017-01-04 call QA_fetch_stock_day return None\n",
      "QA Error QA_fetch_stock_day_adv parameter code=603992 , start=2016-01-04, end=2017-01-04 call QA_fetch_stock_day return None\n",
      "QA Error QA_fetch_stock_day_adv parameter code=603995 , start=2016-01-04, end=2017-01-04 call QA_fetch_stock_day return None\n"
     ]
    },
    {
     "name": "stderr",
     "output_type": "stream",
     "text": [
      "Processing 605111:  92%|█████████▏| 3974/4328 [02:07<00:05, 66.72it/s]"
     ]
    },
    {
     "name": "stdout",
     "output_type": "stream",
     "text": [
      "QA Error QA_fetch_stock_day_adv parameter code=605001 , start=2016-01-04, end=2017-01-04 call QA_fetch_stock_day return None\n",
      "QA Error QA_fetch_stock_day_adv parameter code=605003 , start=2016-01-04, end=2017-01-04 call QA_fetch_stock_day return None\n",
      "QA Error QA_fetch_stock_day_adv parameter code=605005 , start=2016-01-04, end=2017-01-04 call QA_fetch_stock_day return None\n",
      "QA Error QA_fetch_stock_day_adv parameter code=605006 , start=2016-01-04, end=2017-01-04 call QA_fetch_stock_day return None\n",
      "QA Error QA_fetch_stock_day_adv parameter code=605007 , start=2016-01-04, end=2017-01-04 call QA_fetch_stock_day return None\n",
      "QA Error QA_fetch_stock_day_adv parameter code=605008 , start=2016-01-04, end=2017-01-04 call QA_fetch_stock_day return None\n",
      "QA Error QA_fetch_stock_day_adv parameter code=605009 , start=2016-01-04, end=2017-01-04 call QA_fetch_stock_day return None\n",
      "QA Error QA_fetch_stock_day_adv parameter code=605016 , start=2016-01-04, end=2017-01-04 call QA_fetch_stock_day return None\n",
      "QA Error QA_fetch_stock_day_adv parameter code=605018 , start=2016-01-04, end=2017-01-04 call QA_fetch_stock_day return None\n",
      "QA Error QA_fetch_stock_day_adv parameter code=605050 , start=2016-01-04, end=2017-01-04 call QA_fetch_stock_day return None\n",
      "QA Error QA_fetch_stock_day_adv parameter code=605055 , start=2016-01-04, end=2017-01-04 call QA_fetch_stock_day return None\n",
      "QA Error QA_fetch_stock_day_adv parameter code=605058 , start=2016-01-04, end=2017-01-04 call QA_fetch_stock_day return None\n",
      "QA Error QA_fetch_stock_day_adv parameter code=605060 , start=2016-01-04, end=2017-01-04 call QA_fetch_stock_day return None\n",
      "QA Error QA_fetch_stock_day_adv parameter code=605066 , start=2016-01-04, end=2017-01-04 call QA_fetch_stock_day return None\n",
      "QA Error QA_fetch_stock_day_adv parameter code=605068 , start=2016-01-04, end=2017-01-04 call QA_fetch_stock_day return None\n",
      "QA Error QA_fetch_stock_day_adv parameter code=605077 , start=2016-01-04, end=2017-01-04 call QA_fetch_stock_day return None\n",
      "QA Error QA_fetch_stock_day_adv parameter code=605080 , start=2016-01-04, end=2017-01-04 call QA_fetch_stock_day return None\n",
      "QA Error QA_fetch_stock_day_adv parameter code=605081 , start=2016-01-04, end=2017-01-04 call QA_fetch_stock_day return None\n",
      "QA Error QA_fetch_stock_day_adv parameter code=605086 , start=2016-01-04, end=2017-01-04 call QA_fetch_stock_day return None\n",
      "QA Error QA_fetch_stock_day_adv parameter code=605088 , start=2016-01-04, end=2017-01-04 call QA_fetch_stock_day return None\n",
      "QA Error QA_fetch_stock_day_adv parameter code=605089 , start=2016-01-04, end=2017-01-04 call QA_fetch_stock_day return None\n",
      "QA Error QA_fetch_stock_day_adv parameter code=605090 , start=2016-01-04, end=2017-01-04 call QA_fetch_stock_day return None\n",
      "QA Error QA_fetch_stock_day_adv parameter code=605098 , start=2016-01-04, end=2017-01-04 call QA_fetch_stock_day return None\n",
      "QA Error QA_fetch_stock_day_adv parameter code=605099 , start=2016-01-04, end=2017-01-04 call QA_fetch_stock_day return None\n",
      "QA Error QA_fetch_stock_day_adv parameter code=605100 , start=2016-01-04, end=2017-01-04 call QA_fetch_stock_day return None\n",
      "QA Error QA_fetch_stock_day_adv parameter code=605108 , start=2016-01-04, end=2017-01-04 call QA_fetch_stock_day return None\n",
      "QA Error QA_fetch_stock_day_adv parameter code=605111 , start=2016-01-04, end=2017-01-04 call QA_fetch_stock_day return None\n"
     ]
    },
    {
     "name": "stderr",
     "output_type": "stream",
     "text": [
      "Processing 605222:  92%|█████████▏| 4001/4328 [02:07<00:03, 97.36it/s]"
     ]
    },
    {
     "name": "stdout",
     "output_type": "stream",
     "text": [
      "QA Error QA_fetch_stock_day_adv parameter code=605116 , start=2016-01-04, end=2017-01-04 call QA_fetch_stock_day return None\n",
      "QA Error QA_fetch_stock_day_adv parameter code=605117 , start=2016-01-04, end=2017-01-04 call QA_fetch_stock_day return None\n",
      "QA Error QA_fetch_stock_day_adv parameter code=605118 , start=2016-01-04, end=2017-01-04 call QA_fetch_stock_day return None\n",
      "QA Error QA_fetch_stock_day_adv parameter code=605122 , start=2016-01-04, end=2017-01-04 call QA_fetch_stock_day return None\n",
      "QA Error QA_fetch_stock_day_adv parameter code=605123 , start=2016-01-04, end=2017-01-04 call QA_fetch_stock_day return None\n",
      "QA Error QA_fetch_stock_day_adv parameter code=605128 , start=2016-01-04, end=2017-01-04 call QA_fetch_stock_day return None\n",
      "QA Error QA_fetch_stock_day_adv parameter code=605133 , start=2016-01-04, end=2017-01-04 call QA_fetch_stock_day return None\n",
      "QA Error QA_fetch_stock_day_adv parameter code=605136 , start=2016-01-04, end=2017-01-04 call QA_fetch_stock_day return None\n",
      "QA Error QA_fetch_stock_day_adv parameter code=605151 , start=2016-01-04, end=2017-01-04 call QA_fetch_stock_day return None\n",
      "QA Error QA_fetch_stock_day_adv parameter code=605155 , start=2016-01-04, end=2017-01-04 call QA_fetch_stock_day return None\n",
      "QA Error QA_fetch_stock_day_adv parameter code=605158 , start=2016-01-04, end=2017-01-04 call QA_fetch_stock_day return None\n",
      "QA Error QA_fetch_stock_day_adv parameter code=605166 , start=2016-01-04, end=2017-01-04 call QA_fetch_stock_day return None\n",
      "QA Error QA_fetch_stock_day_adv parameter code=605168 , start=2016-01-04, end=2017-01-04 call QA_fetch_stock_day return None\n",
      "QA Error QA_fetch_stock_day_adv parameter code=605169 , start=2016-01-04, end=2017-01-04 call QA_fetch_stock_day return None\n",
      "QA Error QA_fetch_stock_day_adv parameter code=605177 , start=2016-01-04, end=2017-01-04 call QA_fetch_stock_day return None\n",
      "QA Error QA_fetch_stock_day_adv parameter code=605178 , start=2016-01-04, end=2017-01-04 call QA_fetch_stock_day return None\n",
      "QA Error QA_fetch_stock_day_adv parameter code=605179 , start=2016-01-04, end=2017-01-04 call QA_fetch_stock_day return None\n",
      "QA Error QA_fetch_stock_day_adv parameter code=605180 , start=2016-01-04, end=2017-01-04 call QA_fetch_stock_day return None\n",
      "QA Error QA_fetch_stock_day_adv parameter code=605183 , start=2016-01-04, end=2017-01-04 call QA_fetch_stock_day return None\n",
      "QA Error QA_fetch_stock_day_adv parameter code=605186 , start=2016-01-04, end=2017-01-04 call QA_fetch_stock_day return None\n",
      "QA Error QA_fetch_stock_day_adv parameter code=605188 , start=2016-01-04, end=2017-01-04 call QA_fetch_stock_day return None\n",
      "QA Error QA_fetch_stock_day_adv parameter code=605196 , start=2016-01-04, end=2017-01-04 call QA_fetch_stock_day return None\n",
      "QA Error QA_fetch_stock_day_adv parameter code=605198 , start=2016-01-04, end=2017-01-04 call QA_fetch_stock_day return None\n",
      "QA Error QA_fetch_stock_day_adv parameter code=605199 , start=2016-01-04, end=2017-01-04 call QA_fetch_stock_day return None\n",
      "QA Error QA_fetch_stock_day_adv parameter code=605208 , start=2016-01-04, end=2017-01-04 call QA_fetch_stock_day return None\n",
      "QA Error QA_fetch_stock_day_adv parameter code=605218 , start=2016-01-04, end=2017-01-04 call QA_fetch_stock_day return None\n",
      "QA Error QA_fetch_stock_day_adv parameter code=605222 , start=2016-01-04, end=2017-01-04 call QA_fetch_stock_day return None\n",
      "QA Error QA_fetch_stock_day_adv parameter code=605228 , start=2016-01-04, end=2017-01-04 call QA_fetch_stock_day return None\n"
     ]
    },
    {
     "name": "stderr",
     "output_type": "stream",
     "text": [
      "Processing 688001:  93%|█████████▎| 4028/4328 [02:07<00:02, 114.84it/s]"
     ]
    },
    {
     "name": "stdout",
     "output_type": "stream",
     "text": [
      "QA Error QA_fetch_stock_day_adv parameter code=605255 , start=2016-01-04, end=2017-01-04 call QA_fetch_stock_day return None\n",
      "QA Error QA_fetch_stock_day_adv parameter code=605258 , start=2016-01-04, end=2017-01-04 call QA_fetch_stock_day return None\n",
      "QA Error QA_fetch_stock_day_adv parameter code=605266 , start=2016-01-04, end=2017-01-04 call QA_fetch_stock_day return None\n",
      "QA Error QA_fetch_stock_day_adv parameter code=605268 , start=2016-01-04, end=2017-01-04 call QA_fetch_stock_day return None\n",
      "QA Error QA_fetch_stock_day_adv parameter code=605277 , start=2016-01-04, end=2017-01-04 call QA_fetch_stock_day return None\n",
      "QA Error QA_fetch_stock_day_adv parameter code=605286 , start=2016-01-04, end=2017-01-04 call QA_fetch_stock_day return None\n",
      "QA Error QA_fetch_stock_day_adv parameter code=605288 , start=2016-01-04, end=2017-01-04 call QA_fetch_stock_day return None\n",
      "QA Error QA_fetch_stock_day_adv parameter code=605289 , start=2016-01-04, end=2017-01-04 call QA_fetch_stock_day return None\n",
      "QA Error QA_fetch_stock_day_adv parameter code=605296 , start=2016-01-04, end=2017-01-04 call QA_fetch_stock_day return None\n",
      "QA Error QA_fetch_stock_day_adv parameter code=605298 , start=2016-01-04, end=2017-01-04 call QA_fetch_stock_day return None\n",
      "QA Error QA_fetch_stock_day_adv parameter code=605299 , start=2016-01-04, end=2017-01-04 call QA_fetch_stock_day return None\n",
      "QA Error QA_fetch_stock_day_adv parameter code=605300 , start=2016-01-04, end=2017-01-04 call QA_fetch_stock_day return None\n",
      "QA Error QA_fetch_stock_day_adv parameter code=605303 , start=2016-01-04, end=2017-01-04 call QA_fetch_stock_day return None\n",
      "QA Error QA_fetch_stock_day_adv parameter code=605305 , start=2016-01-04, end=2017-01-04 call QA_fetch_stock_day return None\n",
      "QA Error QA_fetch_stock_day_adv parameter code=605318 , start=2016-01-04, end=2017-01-04 call QA_fetch_stock_day return None\n",
      "QA Error QA_fetch_stock_day_adv parameter code=605333 , start=2016-01-04, end=2017-01-04 call QA_fetch_stock_day return None\n",
      "QA Error QA_fetch_stock_day_adv parameter code=605336 , start=2016-01-04, end=2017-01-04 call QA_fetch_stock_day return None\n",
      "QA Error QA_fetch_stock_day_adv parameter code=605337 , start=2016-01-04, end=2017-01-04 call QA_fetch_stock_day return None\n",
      "QA Error QA_fetch_stock_day_adv parameter code=605338 , start=2016-01-04, end=2017-01-04 call QA_fetch_stock_day return None\n",
      "QA Error QA_fetch_stock_day_adv parameter code=605339 , start=2016-01-04, end=2017-01-04 call QA_fetch_stock_day return None\n",
      "QA Error QA_fetch_stock_day_adv parameter code=605358 , start=2016-01-04, end=2017-01-04 call QA_fetch_stock_day return None\n",
      "QA Error QA_fetch_stock_day_adv parameter code=605366 , start=2016-01-04, end=2017-01-04 call QA_fetch_stock_day return None\n",
      "QA Error QA_fetch_stock_day_adv parameter code=605368 , start=2016-01-04, end=2017-01-04 call QA_fetch_stock_day return None\n",
      "QA Error QA_fetch_stock_day_adv parameter code=605369 , start=2016-01-04, end=2017-01-04 call QA_fetch_stock_day return None\n",
      "QA Error QA_fetch_stock_day_adv parameter code=605376 , start=2016-01-04, end=2017-01-04 call QA_fetch_stock_day return None\n",
      "QA Error QA_fetch_stock_day_adv parameter code=605377 , start=2016-01-04, end=2017-01-04 call QA_fetch_stock_day return None\n",
      "QA Error QA_fetch_stock_day_adv parameter code=605378 , start=2016-01-04, end=2017-01-04 call QA_fetch_stock_day return None\n",
      "QA Error QA_fetch_stock_day_adv parameter code=605388 , start=2016-01-04, end=2017-01-04 call QA_fetch_stock_day return None\n",
      "QA Error QA_fetch_stock_day_adv parameter code=605389 , start=2016-01-04, end=2017-01-04 call QA_fetch_stock_day return None\n",
      "QA Error QA_fetch_stock_day_adv parameter code=605398 , start=2016-01-04, end=2017-01-04 call QA_fetch_stock_day return None\n",
      "QA Error QA_fetch_stock_day_adv parameter code=605399 , start=2016-01-04, end=2017-01-04 call QA_fetch_stock_day return None\n",
      "QA Error QA_fetch_stock_day_adv parameter code=605488 , start=2016-01-04, end=2017-01-04 call QA_fetch_stock_day return None\n",
      "QA Error QA_fetch_stock_day_adv parameter code=605500 , start=2016-01-04, end=2017-01-04 call QA_fetch_stock_day return None\n",
      "QA Error QA_fetch_stock_day_adv parameter code=688001 , start=2016-01-04, end=2017-01-04 call QA_fetch_stock_day return None\n"
     ]
    },
    {
     "name": "stderr",
     "output_type": "stream",
     "text": [
      "Processing 688028:  94%|█████████▍| 4062/4328 [02:08<00:02, 130.54it/s]"
     ]
    },
    {
     "name": "stdout",
     "output_type": "stream",
     "text": [
      "QA Error QA_fetch_stock_day_adv parameter code=688002 , start=2016-01-04, end=2017-01-04 call QA_fetch_stock_day return None\n",
      "QA Error QA_fetch_stock_day_adv parameter code=688003 , start=2016-01-04, end=2017-01-04 call QA_fetch_stock_day return None\n",
      "QA Error QA_fetch_stock_day_adv parameter code=688004 , start=2016-01-04, end=2017-01-04 call QA_fetch_stock_day return None\n",
      "QA Error QA_fetch_stock_day_adv parameter code=688005 , start=2016-01-04, end=2017-01-04 call QA_fetch_stock_day return None\n",
      "QA Error QA_fetch_stock_day_adv parameter code=688006 , start=2016-01-04, end=2017-01-04 call QA_fetch_stock_day return None\n",
      "QA Error QA_fetch_stock_day_adv parameter code=688007 , start=2016-01-04, end=2017-01-04 call QA_fetch_stock_day return None\n",
      "QA Error QA_fetch_stock_day_adv parameter code=688008 , start=2016-01-04, end=2017-01-04 call QA_fetch_stock_day return None\n",
      "QA Error QA_fetch_stock_day_adv parameter code=688009 , start=2016-01-04, end=2017-01-04 call QA_fetch_stock_day return None\n",
      "QA Error QA_fetch_stock_day_adv parameter code=688010 , start=2016-01-04, end=2017-01-04 call QA_fetch_stock_day return None\n",
      "QA Error QA_fetch_stock_day_adv parameter code=688011 , start=2016-01-04, end=2017-01-04 call QA_fetch_stock_day return None\n",
      "QA Error QA_fetch_stock_day_adv parameter code=688012 , start=2016-01-04, end=2017-01-04 call QA_fetch_stock_day return None\n",
      "QA Error QA_fetch_stock_day_adv parameter code=688013 , start=2016-01-04, end=2017-01-04 call QA_fetch_stock_day return None\n",
      "QA Error QA_fetch_stock_day_adv parameter code=688015 , start=2016-01-04, end=2017-01-04 call QA_fetch_stock_day return None\n",
      "QA Error QA_fetch_stock_day_adv parameter code=688016 , start=2016-01-04, end=2017-01-04 call QA_fetch_stock_day return None\n",
      "QA Error QA_fetch_stock_day_adv parameter code=688017 , start=2016-01-04, end=2017-01-04 call QA_fetch_stock_day return None\n",
      "QA Error QA_fetch_stock_day_adv parameter code=688018 , start=2016-01-04, end=2017-01-04 call QA_fetch_stock_day return None\n",
      "QA Error QA_fetch_stock_day_adv parameter code=688019 , start=2016-01-04, end=2017-01-04 call QA_fetch_stock_day return None\n",
      "QA Error QA_fetch_stock_day_adv parameter code=688020 , start=2016-01-04, end=2017-01-04 call QA_fetch_stock_day return None\n",
      "QA Error QA_fetch_stock_day_adv parameter code=688021 , start=2016-01-04, end=2017-01-04 call QA_fetch_stock_day return None\n",
      "QA Error QA_fetch_stock_day_adv parameter code=688022 , start=2016-01-04, end=2017-01-04 call QA_fetch_stock_day return None\n",
      "QA Error QA_fetch_stock_day_adv parameter code=688023 , start=2016-01-04, end=2017-01-04 call QA_fetch_stock_day return None\n",
      "QA Error QA_fetch_stock_day_adv parameter code=688025 , start=2016-01-04, end=2017-01-04 call QA_fetch_stock_day return None\n",
      "QA Error QA_fetch_stock_day_adv parameter code=688026 , start=2016-01-04, end=2017-01-04 call QA_fetch_stock_day return None\n",
      "QA Error QA_fetch_stock_day_adv parameter code=688027 , start=2016-01-04, end=2017-01-04 call QA_fetch_stock_day return None\n",
      "QA Error QA_fetch_stock_day_adv parameter code=688028 , start=2016-01-04, end=2017-01-04 call QA_fetch_stock_day return None\n",
      "QA Error QA_fetch_stock_day_adv parameter code=688029 , start=2016-01-04, end=2017-01-04 call QA_fetch_stock_day return None\n"
     ]
    },
    {
     "name": "stderr",
     "output_type": "stream",
     "text": [
      "Processing 688089:  95%|█████████▍| 4091/4328 [02:08<00:01, 133.71it/s]"
     ]
    },
    {
     "name": "stdout",
     "output_type": "stream",
     "text": [
      "QA Error QA_fetch_stock_day_adv parameter code=688030 , start=2016-01-04, end=2017-01-04 call QA_fetch_stock_day return None\n",
      "QA Error QA_fetch_stock_day_adv parameter code=688033 , start=2016-01-04, end=2017-01-04 call QA_fetch_stock_day return None\n",
      "QA Error QA_fetch_stock_day_adv parameter code=688036 , start=2016-01-04, end=2017-01-04 call QA_fetch_stock_day return None\n",
      "QA Error QA_fetch_stock_day_adv parameter code=688037 , start=2016-01-04, end=2017-01-04 call QA_fetch_stock_day return None\n",
      "QA Error QA_fetch_stock_day_adv parameter code=688039 , start=2016-01-04, end=2017-01-04 call QA_fetch_stock_day return None\n",
      "QA Error QA_fetch_stock_day_adv parameter code=688050 , start=2016-01-04, end=2017-01-04 call QA_fetch_stock_day return None\n",
      "QA Error QA_fetch_stock_day_adv parameter code=688051 , start=2016-01-04, end=2017-01-04 call QA_fetch_stock_day return None\n",
      "QA Error QA_fetch_stock_day_adv parameter code=688055 , start=2016-01-04, end=2017-01-04 call QA_fetch_stock_day return None\n",
      "QA Error QA_fetch_stock_day_adv parameter code=688056 , start=2016-01-04, end=2017-01-04 call QA_fetch_stock_day return None\n",
      "QA Error QA_fetch_stock_day_adv parameter code=688057 , start=2016-01-04, end=2017-01-04 call QA_fetch_stock_day return None\n",
      "QA Error QA_fetch_stock_day_adv parameter code=688058 , start=2016-01-04, end=2017-01-04 call QA_fetch_stock_day return None\n",
      "QA Error QA_fetch_stock_day_adv parameter code=688059 , start=2016-01-04, end=2017-01-04 call QA_fetch_stock_day return None\n",
      "QA Error QA_fetch_stock_day_adv parameter code=688060 , start=2016-01-04, end=2017-01-04 call QA_fetch_stock_day return None\n",
      "QA Error QA_fetch_stock_day_adv parameter code=688063 , start=2016-01-04, end=2017-01-04 call QA_fetch_stock_day return None\n",
      "QA Error QA_fetch_stock_day_adv parameter code=688065 , start=2016-01-04, end=2017-01-04 call QA_fetch_stock_day return None\n",
      "QA Error QA_fetch_stock_day_adv parameter code=688066 , start=2016-01-04, end=2017-01-04 call QA_fetch_stock_day return None\n",
      "QA Error QA_fetch_stock_day_adv parameter code=688068 , start=2016-01-04, end=2017-01-04 call QA_fetch_stock_day return None\n",
      "QA Error QA_fetch_stock_day_adv parameter code=688069 , start=2016-01-04, end=2017-01-04 call QA_fetch_stock_day return None\n",
      "QA Error QA_fetch_stock_day_adv parameter code=688070 , start=2016-01-04, end=2017-01-04 call QA_fetch_stock_day return None\n",
      "QA Error QA_fetch_stock_day_adv parameter code=688076 , start=2016-01-04, end=2017-01-04 call QA_fetch_stock_day return None\n",
      "QA Error QA_fetch_stock_day_adv parameter code=688077 , start=2016-01-04, end=2017-01-04 call QA_fetch_stock_day return None\n",
      "QA Error QA_fetch_stock_day_adv parameter code=688078 , start=2016-01-04, end=2017-01-04 call QA_fetch_stock_day return None\n",
      "QA Error QA_fetch_stock_day_adv parameter code=688079 , start=2016-01-04, end=2017-01-04 call QA_fetch_stock_day return None\n",
      "QA Error QA_fetch_stock_day_adv parameter code=688080 , start=2016-01-04, end=2017-01-04 call QA_fetch_stock_day return None\n",
      "QA Error QA_fetch_stock_day_adv parameter code=688081 , start=2016-01-04, end=2017-01-04 call QA_fetch_stock_day return None\n",
      "QA Error QA_fetch_stock_day_adv parameter code=688083 , start=2016-01-04, end=2017-01-04 call QA_fetch_stock_day return None\n",
      "QA Error QA_fetch_stock_day_adv parameter code=688085 , start=2016-01-04, end=2017-01-04 call QA_fetch_stock_day return None\n",
      "QA Error QA_fetch_stock_day_adv parameter code=688086 , start=2016-01-04, end=2017-01-04 call QA_fetch_stock_day return None\n",
      "QA Error QA_fetch_stock_day_adv parameter code=688088 , start=2016-01-04, end=2017-01-04 call QA_fetch_stock_day return None\n",
      "QA Error QA_fetch_stock_day_adv parameter code=688089 , start=2016-01-04, end=2017-01-04 call QA_fetch_stock_day return None\n"
     ]
    },
    {
     "name": "stderr",
     "output_type": "stream",
     "text": [
      "Processing 688157:  95%|█████████▌| 4126/4328 [02:08<00:01, 147.64it/s]"
     ]
    },
    {
     "name": "stdout",
     "output_type": "stream",
     "text": [
      "QA Error QA_fetch_stock_day_adv parameter code=688090 , start=2016-01-04, end=2017-01-04 call QA_fetch_stock_day return None\n",
      "QA Error QA_fetch_stock_day_adv parameter code=688092 , start=2016-01-04, end=2017-01-04 call QA_fetch_stock_day return None\n",
      "QA Error QA_fetch_stock_day_adv parameter code=688093 , start=2016-01-04, end=2017-01-04 call QA_fetch_stock_day return None\n",
      "QA Error QA_fetch_stock_day_adv parameter code=688095 , start=2016-01-04, end=2017-01-04 call QA_fetch_stock_day return None\n",
      "QA Error QA_fetch_stock_day_adv parameter code=688096 , start=2016-01-04, end=2017-01-04 call QA_fetch_stock_day return None\n",
      "QA Error QA_fetch_stock_day_adv parameter code=688097 , start=2016-01-04, end=2017-01-04 call QA_fetch_stock_day return None\n",
      "QA Error QA_fetch_stock_day_adv parameter code=688098 , start=2016-01-04, end=2017-01-04 call QA_fetch_stock_day return None\n",
      "QA Error QA_fetch_stock_day_adv parameter code=688099 , start=2016-01-04, end=2017-01-04 call QA_fetch_stock_day return None\n",
      "QA Error QA_fetch_stock_day_adv parameter code=688100 , start=2016-01-04, end=2017-01-04 call QA_fetch_stock_day return None\n",
      "QA Error QA_fetch_stock_day_adv parameter code=688101 , start=2016-01-04, end=2017-01-04 call QA_fetch_stock_day return None\n",
      "QA Error QA_fetch_stock_day_adv parameter code=688106 , start=2016-01-04, end=2017-01-04 call QA_fetch_stock_day return None\n",
      "QA Error QA_fetch_stock_day_adv parameter code=688108 , start=2016-01-04, end=2017-01-04 call QA_fetch_stock_day return None\n",
      "QA Error QA_fetch_stock_day_adv parameter code=688109 , start=2016-01-04, end=2017-01-04 call QA_fetch_stock_day return None\n",
      "QA Error QA_fetch_stock_day_adv parameter code=688111 , start=2016-01-04, end=2017-01-04 call QA_fetch_stock_day return None\n",
      "QA Error QA_fetch_stock_day_adv parameter code=688113 , start=2016-01-04, end=2017-01-04 call QA_fetch_stock_day return None\n",
      "QA Error QA_fetch_stock_day_adv parameter code=688116 , start=2016-01-04, end=2017-01-04 call QA_fetch_stock_day return None\n",
      "QA Error QA_fetch_stock_day_adv parameter code=688118 , start=2016-01-04, end=2017-01-04 call QA_fetch_stock_day return None\n",
      "QA Error QA_fetch_stock_day_adv parameter code=688122 , start=2016-01-04, end=2017-01-04 call QA_fetch_stock_day return None\n",
      "QA Error QA_fetch_stock_day_adv parameter code=688123 , start=2016-01-04, end=2017-01-04 call QA_fetch_stock_day return None\n",
      "QA Error QA_fetch_stock_day_adv parameter code=688126 , start=2016-01-04, end=2017-01-04 call QA_fetch_stock_day return None\n",
      "QA Error QA_fetch_stock_day_adv parameter code=688127 , start=2016-01-04, end=2017-01-04 call QA_fetch_stock_day return None\n",
      "QA Error QA_fetch_stock_day_adv parameter code=688128 , start=2016-01-04, end=2017-01-04 call QA_fetch_stock_day return None\n",
      "QA Error QA_fetch_stock_day_adv parameter code=688129 , start=2016-01-04, end=2017-01-04 call QA_fetch_stock_day return None\n",
      "QA Error QA_fetch_stock_day_adv parameter code=688133 , start=2016-01-04, end=2017-01-04 call QA_fetch_stock_day return None\n",
      "QA Error QA_fetch_stock_day_adv parameter code=688135 , start=2016-01-04, end=2017-01-04 call QA_fetch_stock_day return None\n",
      "QA Error QA_fetch_stock_day_adv parameter code=688136 , start=2016-01-04, end=2017-01-04 call QA_fetch_stock_day return None\n",
      "QA Error QA_fetch_stock_day_adv parameter code=688138 , start=2016-01-04, end=2017-01-04 call QA_fetch_stock_day return None\n",
      "QA Error QA_fetch_stock_day_adv parameter code=688139 , start=2016-01-04, end=2017-01-04 call QA_fetch_stock_day return None\n",
      "QA Error QA_fetch_stock_day_adv parameter code=688155 , start=2016-01-04, end=2017-01-04 call QA_fetch_stock_day return None\n",
      "QA Error QA_fetch_stock_day_adv parameter code=688156 , start=2016-01-04, end=2017-01-04 call QA_fetch_stock_day return None\n",
      "QA Error QA_fetch_stock_day_adv parameter code=688157 , start=2016-01-04, end=2017-01-04 call QA_fetch_stock_day return None\n"
     ]
    },
    {
     "name": "stderr",
     "output_type": "stream",
     "text": [
      "Processing 688219:  96%|█████████▌| 4156/4328 [02:08<00:01, 143.19it/s]"
     ]
    },
    {
     "name": "stdout",
     "output_type": "stream",
     "text": [
      "QA Error QA_fetch_stock_day_adv parameter code=688158 , start=2016-01-04, end=2017-01-04 call QA_fetch_stock_day return None\n",
      "QA Error QA_fetch_stock_day_adv parameter code=688159 , start=2016-01-04, end=2017-01-04 call QA_fetch_stock_day return None\n",
      "QA Error QA_fetch_stock_day_adv parameter code=688160 , start=2016-01-04, end=2017-01-04 call QA_fetch_stock_day return None\n",
      "QA Error QA_fetch_stock_day_adv parameter code=688165 , start=2016-01-04, end=2017-01-04 call QA_fetch_stock_day return None\n",
      "QA Error QA_fetch_stock_day_adv parameter code=688166 , start=2016-01-04, end=2017-01-04 call QA_fetch_stock_day return None\n",
      "QA Error QA_fetch_stock_day_adv parameter code=688168 , start=2016-01-04, end=2017-01-04 call QA_fetch_stock_day return None\n",
      "QA Error QA_fetch_stock_day_adv parameter code=688169 , start=2016-01-04, end=2017-01-04 call QA_fetch_stock_day return None\n",
      "QA Error QA_fetch_stock_day_adv parameter code=688177 , start=2016-01-04, end=2017-01-04 call QA_fetch_stock_day return None\n",
      "QA Error QA_fetch_stock_day_adv parameter code=688178 , start=2016-01-04, end=2017-01-04 call QA_fetch_stock_day return None\n",
      "QA Error QA_fetch_stock_day_adv parameter code=688179 , start=2016-01-04, end=2017-01-04 call QA_fetch_stock_day return None\n",
      "QA Error QA_fetch_stock_day_adv parameter code=688180 , start=2016-01-04, end=2017-01-04 call QA_fetch_stock_day return None\n",
      "QA Error QA_fetch_stock_day_adv parameter code=688181 , start=2016-01-04, end=2017-01-04 call QA_fetch_stock_day return None\n",
      "QA Error QA_fetch_stock_day_adv parameter code=688183 , start=2016-01-04, end=2017-01-04 call QA_fetch_stock_day return None\n",
      "QA Error QA_fetch_stock_day_adv parameter code=688185 , start=2016-01-04, end=2017-01-04 call QA_fetch_stock_day return None\n",
      "QA Error QA_fetch_stock_day_adv parameter code=688186 , start=2016-01-04, end=2017-01-04 call QA_fetch_stock_day return None\n",
      "QA Error QA_fetch_stock_day_adv parameter code=688188 , start=2016-01-04, end=2017-01-04 call QA_fetch_stock_day return None\n",
      "QA Error QA_fetch_stock_day_adv parameter code=688189 , start=2016-01-04, end=2017-01-04 call QA_fetch_stock_day return None\n",
      "QA Error QA_fetch_stock_day_adv parameter code=688191 , start=2016-01-04, end=2017-01-04 call QA_fetch_stock_day return None\n",
      "QA Error QA_fetch_stock_day_adv parameter code=688195 , start=2016-01-04, end=2017-01-04 call QA_fetch_stock_day return None\n",
      "QA Error QA_fetch_stock_day_adv parameter code=688196 , start=2016-01-04, end=2017-01-04 call QA_fetch_stock_day return None\n",
      "QA Error QA_fetch_stock_day_adv parameter code=688198 , start=2016-01-04, end=2017-01-04 call QA_fetch_stock_day return None\n",
      "QA Error QA_fetch_stock_day_adv parameter code=688199 , start=2016-01-04, end=2017-01-04 call QA_fetch_stock_day return None\n",
      "QA Error QA_fetch_stock_day_adv parameter code=688200 , start=2016-01-04, end=2017-01-04 call QA_fetch_stock_day return None\n",
      "QA Error QA_fetch_stock_day_adv parameter code=688201 , start=2016-01-04, end=2017-01-04 call QA_fetch_stock_day return None\n",
      "QA Error QA_fetch_stock_day_adv parameter code=688202 , start=2016-01-04, end=2017-01-04 call QA_fetch_stock_day return None\n",
      "QA Error QA_fetch_stock_day_adv parameter code=688208 , start=2016-01-04, end=2017-01-04 call QA_fetch_stock_day return None\n",
      "QA Error QA_fetch_stock_day_adv parameter code=688215 , start=2016-01-04, end=2017-01-04 call QA_fetch_stock_day return None\n",
      "QA Error QA_fetch_stock_day_adv parameter code=688217 , start=2016-01-04, end=2017-01-04 call QA_fetch_stock_day return None\n",
      "QA Error QA_fetch_stock_day_adv parameter code=688218 , start=2016-01-04, end=2017-01-04 call QA_fetch_stock_day return None\n",
      "QA Error QA_fetch_stock_day_adv parameter code=688219 , start=2016-01-04, end=2017-01-04 call QA_fetch_stock_day return None\n"
     ]
    },
    {
     "name": "stderr",
     "output_type": "stream",
     "text": [
      "Processing 688328:  97%|█████████▋| 4186/4328 [02:08<00:01, 139.40it/s]"
     ]
    },
    {
     "name": "stdout",
     "output_type": "stream",
     "text": [
      "QA Error QA_fetch_stock_day_adv parameter code=688221 , start=2016-01-04, end=2017-01-04 call QA_fetch_stock_day return None\n",
      "QA Error QA_fetch_stock_day_adv parameter code=688222 , start=2016-01-04, end=2017-01-04 call QA_fetch_stock_day return None\n",
      "QA Error QA_fetch_stock_day_adv parameter code=688228 , start=2016-01-04, end=2017-01-04 call QA_fetch_stock_day return None\n",
      "QA Error QA_fetch_stock_day_adv parameter code=688229 , start=2016-01-04, end=2017-01-04 call QA_fetch_stock_day return None\n",
      "QA Error QA_fetch_stock_day_adv parameter code=688233 , start=2016-01-04, end=2017-01-04 call QA_fetch_stock_day return None\n",
      "QA Error QA_fetch_stock_day_adv parameter code=688256 , start=2016-01-04, end=2017-01-04 call QA_fetch_stock_day return None\n",
      "QA Error QA_fetch_stock_day_adv parameter code=688258 , start=2016-01-04, end=2017-01-04 call QA_fetch_stock_day return None\n",
      "QA Error QA_fetch_stock_day_adv parameter code=688260 , start=2016-01-04, end=2017-01-04 call QA_fetch_stock_day return None\n",
      "QA Error QA_fetch_stock_day_adv parameter code=688266 , start=2016-01-04, end=2017-01-04 call QA_fetch_stock_day return None\n",
      "QA Error QA_fetch_stock_day_adv parameter code=688268 , start=2016-01-04, end=2017-01-04 call QA_fetch_stock_day return None\n",
      "QA Error QA_fetch_stock_day_adv parameter code=688277 , start=2016-01-04, end=2017-01-04 call QA_fetch_stock_day return None\n",
      "QA Error QA_fetch_stock_day_adv parameter code=688278 , start=2016-01-04, end=2017-01-04 call QA_fetch_stock_day return None\n",
      "QA Error QA_fetch_stock_day_adv parameter code=688286 , start=2016-01-04, end=2017-01-04 call QA_fetch_stock_day return None\n",
      "QA Error QA_fetch_stock_day_adv parameter code=688288 , start=2016-01-04, end=2017-01-04 call QA_fetch_stock_day return None\n",
      "QA Error QA_fetch_stock_day_adv parameter code=688289 , start=2016-01-04, end=2017-01-04 call QA_fetch_stock_day return None\n",
      "QA Error QA_fetch_stock_day_adv parameter code=688298 , start=2016-01-04, end=2017-01-04 call QA_fetch_stock_day return None\n",
      "QA Error QA_fetch_stock_day_adv parameter code=688299 , start=2016-01-04, end=2017-01-04 call QA_fetch_stock_day return None\n",
      "QA Error QA_fetch_stock_day_adv parameter code=688300 , start=2016-01-04, end=2017-01-04 call QA_fetch_stock_day return None\n",
      "QA Error QA_fetch_stock_day_adv parameter code=688301 , start=2016-01-04, end=2017-01-04 call QA_fetch_stock_day return None\n",
      "QA Error QA_fetch_stock_day_adv parameter code=688308 , start=2016-01-04, end=2017-01-04 call QA_fetch_stock_day return None\n",
      "QA Error QA_fetch_stock_day_adv parameter code=688309 , start=2016-01-04, end=2017-01-04 call QA_fetch_stock_day return None\n",
      "QA Error QA_fetch_stock_day_adv parameter code=688310 , start=2016-01-04, end=2017-01-04 call QA_fetch_stock_day return None\n",
      "QA Error QA_fetch_stock_day_adv parameter code=688311 , start=2016-01-04, end=2017-01-04 call QA_fetch_stock_day return None\n",
      "QA Error QA_fetch_stock_day_adv parameter code=688312 , start=2016-01-04, end=2017-01-04 call QA_fetch_stock_day return None\n",
      "QA Error QA_fetch_stock_day_adv parameter code=688313 , start=2016-01-04, end=2017-01-04 call QA_fetch_stock_day return None\n",
      "QA Error QA_fetch_stock_day_adv parameter code=688314 , start=2016-01-04, end=2017-01-04 call QA_fetch_stock_day return None\n",
      "QA Error QA_fetch_stock_day_adv parameter code=688315 , start=2016-01-04, end=2017-01-04 call QA_fetch_stock_day return None\n",
      "QA Error QA_fetch_stock_day_adv parameter code=688316 , start=2016-01-04, end=2017-01-04 call QA_fetch_stock_day return None\n",
      "QA Error QA_fetch_stock_day_adv parameter code=688317 , start=2016-01-04, end=2017-01-04 call QA_fetch_stock_day return None\n",
      "QA Error QA_fetch_stock_day_adv parameter code=688318 , start=2016-01-04, end=2017-01-04 call QA_fetch_stock_day return None\n",
      "QA Error QA_fetch_stock_day_adv parameter code=688321 , start=2016-01-04, end=2017-01-04 call QA_fetch_stock_day return None\n",
      "QA Error QA_fetch_stock_day_adv parameter code=688323 , start=2016-01-04, end=2017-01-04 call QA_fetch_stock_day return None\n",
      "QA Error QA_fetch_stock_day_adv parameter code=688328 , start=2016-01-04, end=2017-01-04 call QA_fetch_stock_day return None\n"
     ]
    },
    {
     "name": "stderr",
     "output_type": "stream",
     "text": [
      "Processing 688389:  98%|█████████▊| 4222/4328 [02:09<00:00, 144.41it/s]"
     ]
    },
    {
     "name": "stdout",
     "output_type": "stream",
     "text": [
      "QA Error QA_fetch_stock_day_adv parameter code=688329 , start=2016-01-04, end=2017-01-04 call QA_fetch_stock_day return None\n",
      "QA Error QA_fetch_stock_day_adv parameter code=688330 , start=2016-01-04, end=2017-01-04 call QA_fetch_stock_day return None\n",
      "QA Error QA_fetch_stock_day_adv parameter code=688333 , start=2016-01-04, end=2017-01-04 call QA_fetch_stock_day return None\n",
      "QA Error QA_fetch_stock_day_adv parameter code=688335 , start=2016-01-04, end=2017-01-04 call QA_fetch_stock_day return None\n",
      "QA Error QA_fetch_stock_day_adv parameter code=688336 , start=2016-01-04, end=2017-01-04 call QA_fetch_stock_day return None\n",
      "QA Error QA_fetch_stock_day_adv parameter code=688338 , start=2016-01-04, end=2017-01-04 call QA_fetch_stock_day return None\n",
      "QA Error QA_fetch_stock_day_adv parameter code=688339 , start=2016-01-04, end=2017-01-04 call QA_fetch_stock_day return None\n",
      "QA Error QA_fetch_stock_day_adv parameter code=688350 , start=2016-01-04, end=2017-01-04 call QA_fetch_stock_day return None\n",
      "QA Error QA_fetch_stock_day_adv parameter code=688355 , start=2016-01-04, end=2017-01-04 call QA_fetch_stock_day return None\n",
      "QA Error QA_fetch_stock_day_adv parameter code=688356 , start=2016-01-04, end=2017-01-04 call QA_fetch_stock_day return None\n",
      "QA Error QA_fetch_stock_day_adv parameter code=688357 , start=2016-01-04, end=2017-01-04 call QA_fetch_stock_day return None\n",
      "QA Error QA_fetch_stock_day_adv parameter code=688358 , start=2016-01-04, end=2017-01-04 call QA_fetch_stock_day return None\n",
      "QA Error QA_fetch_stock_day_adv parameter code=688359 , start=2016-01-04, end=2017-01-04 call QA_fetch_stock_day return None\n",
      "QA Error QA_fetch_stock_day_adv parameter code=688360 , start=2016-01-04, end=2017-01-04 call QA_fetch_stock_day return None\n",
      "QA Error QA_fetch_stock_day_adv parameter code=688363 , start=2016-01-04, end=2017-01-04 call QA_fetch_stock_day return None\n",
      "QA Error QA_fetch_stock_day_adv parameter code=688365 , start=2016-01-04, end=2017-01-04 call QA_fetch_stock_day return None\n",
      "QA Error QA_fetch_stock_day_adv parameter code=688366 , start=2016-01-04, end=2017-01-04 call QA_fetch_stock_day return None\n",
      "QA Error QA_fetch_stock_day_adv parameter code=688368 , start=2016-01-04, end=2017-01-04 call QA_fetch_stock_day return None\n",
      "QA Error QA_fetch_stock_day_adv parameter code=688369 , start=2016-01-04, end=2017-01-04 call QA_fetch_stock_day return None\n",
      "QA Error QA_fetch_stock_day_adv parameter code=688377 , start=2016-01-04, end=2017-01-04 call QA_fetch_stock_day return None\n",
      "QA Error QA_fetch_stock_day_adv parameter code=688378 , start=2016-01-04, end=2017-01-04 call QA_fetch_stock_day return None\n",
      "QA Error QA_fetch_stock_day_adv parameter code=688379 , start=2016-01-04, end=2017-01-04 call QA_fetch_stock_day return None\n",
      "QA Error QA_fetch_stock_day_adv parameter code=688383 , start=2016-01-04, end=2017-01-04 call QA_fetch_stock_day return None\n",
      "QA Error QA_fetch_stock_day_adv parameter code=688386 , start=2016-01-04, end=2017-01-04 call QA_fetch_stock_day return None\n",
      "QA Error QA_fetch_stock_day_adv parameter code=688388 , start=2016-01-04, end=2017-01-04 call QA_fetch_stock_day return None\n",
      "QA Error QA_fetch_stock_day_adv parameter code=688389 , start=2016-01-04, end=2017-01-04 call QA_fetch_stock_day return None\n",
      "QA Error QA_fetch_stock_day_adv parameter code=688390 , start=2016-01-04, end=2017-01-04 call QA_fetch_stock_day return None\n"
     ]
    },
    {
     "name": "stderr",
     "output_type": "stream",
     "text": [
      "Processing 688526:  98%|█████████▊| 4237/4328 [02:09<00:00, 131.77it/s]"
     ]
    },
    {
     "name": "stdout",
     "output_type": "stream",
     "text": [
      "QA Error QA_fetch_stock_day_adv parameter code=688393 , start=2016-01-04, end=2017-01-04 call QA_fetch_stock_day return None\n",
      "QA Error QA_fetch_stock_day_adv parameter code=688395 , start=2016-01-04, end=2017-01-04 call QA_fetch_stock_day return None\n",
      "QA Error QA_fetch_stock_day_adv parameter code=688396 , start=2016-01-04, end=2017-01-04 call QA_fetch_stock_day return None\n",
      "QA Error QA_fetch_stock_day_adv parameter code=688398 , start=2016-01-04, end=2017-01-04 call QA_fetch_stock_day return None\n",
      "QA Error QA_fetch_stock_day_adv parameter code=688399 , start=2016-01-04, end=2017-01-04 call QA_fetch_stock_day return None\n",
      "QA Error QA_fetch_stock_day_adv parameter code=688408 , start=2016-01-04, end=2017-01-04 call QA_fetch_stock_day return None\n",
      "QA Error QA_fetch_stock_day_adv parameter code=688418 , start=2016-01-04, end=2017-01-04 call QA_fetch_stock_day return None\n",
      "QA Error QA_fetch_stock_day_adv parameter code=688456 , start=2016-01-04, end=2017-01-04 call QA_fetch_stock_day return None\n",
      "QA Error QA_fetch_stock_day_adv parameter code=688466 , start=2016-01-04, end=2017-01-04 call QA_fetch_stock_day return None\n",
      "QA Error QA_fetch_stock_day_adv parameter code=688468 , start=2016-01-04, end=2017-01-04 call QA_fetch_stock_day return None\n",
      "QA Error QA_fetch_stock_day_adv parameter code=688488 , start=2016-01-04, end=2017-01-04 call QA_fetch_stock_day return None\n",
      "QA Error QA_fetch_stock_day_adv parameter code=688500 , start=2016-01-04, end=2017-01-04 call QA_fetch_stock_day return None\n",
      "QA Error QA_fetch_stock_day_adv parameter code=688505 , start=2016-01-04, end=2017-01-04 call QA_fetch_stock_day return None\n",
      "QA Error QA_fetch_stock_day_adv parameter code=688508 , start=2016-01-04, end=2017-01-04 call QA_fetch_stock_day return None\n",
      "QA Error QA_fetch_stock_day_adv parameter code=688510 , start=2016-01-04, end=2017-01-04 call QA_fetch_stock_day return None\n",
      "QA Error QA_fetch_stock_day_adv parameter code=688513 , start=2016-01-04, end=2017-01-04 call QA_fetch_stock_day return None\n",
      "QA Error QA_fetch_stock_day_adv parameter code=688516 , start=2016-01-04, end=2017-01-04 call QA_fetch_stock_day return None\n",
      "QA Error QA_fetch_stock_day_adv parameter code=688518 , start=2016-01-04, end=2017-01-04 call QA_fetch_stock_day return None\n",
      "QA Error QA_fetch_stock_day_adv parameter code=688519 , start=2016-01-04, end=2017-01-04 call QA_fetch_stock_day return None\n",
      "QA Error QA_fetch_stock_day_adv parameter code=688520 , start=2016-01-04, end=2017-01-04 call QA_fetch_stock_day return None\n",
      "QA Error QA_fetch_stock_day_adv parameter code=688521 , start=2016-01-04, end=2017-01-04 call QA_fetch_stock_day return None\n",
      "QA Error QA_fetch_stock_day_adv parameter code=688526 , start=2016-01-04, end=2017-01-04 call QA_fetch_stock_day return None\n"
     ]
    },
    {
     "name": "stderr",
     "output_type": "stream",
     "text": [
      "Processing 688588:  99%|█████████▊| 4268/4328 [02:09<00:00, 134.85it/s]"
     ]
    },
    {
     "name": "stdout",
     "output_type": "stream",
     "text": [
      "QA Error QA_fetch_stock_day_adv parameter code=688528 , start=2016-01-04, end=2017-01-04 call QA_fetch_stock_day return None\n",
      "QA Error QA_fetch_stock_day_adv parameter code=688529 , start=2016-01-04, end=2017-01-04 call QA_fetch_stock_day return None\n",
      "QA Error QA_fetch_stock_day_adv parameter code=688533 , start=2016-01-04, end=2017-01-04 call QA_fetch_stock_day return None\n",
      "QA Error QA_fetch_stock_day_adv parameter code=688536 , start=2016-01-04, end=2017-01-04 call QA_fetch_stock_day return None\n",
      "QA Error QA_fetch_stock_day_adv parameter code=688550 , start=2016-01-04, end=2017-01-04 call QA_fetch_stock_day return None\n",
      "QA Error QA_fetch_stock_day_adv parameter code=688551 , start=2016-01-04, end=2017-01-04 call QA_fetch_stock_day return None\n",
      "QA Error QA_fetch_stock_day_adv parameter code=688555 , start=2016-01-04, end=2017-01-04 call QA_fetch_stock_day return None\n",
      "QA Error QA_fetch_stock_day_adv parameter code=688556 , start=2016-01-04, end=2017-01-04 call QA_fetch_stock_day return None\n",
      "QA Error QA_fetch_stock_day_adv parameter code=688557 , start=2016-01-04, end=2017-01-04 call QA_fetch_stock_day return None\n",
      "QA Error QA_fetch_stock_day_adv parameter code=688558 , start=2016-01-04, end=2017-01-04 call QA_fetch_stock_day return None\n",
      "QA Error QA_fetch_stock_day_adv parameter code=688559 , start=2016-01-04, end=2017-01-04 call QA_fetch_stock_day return None\n",
      "QA Error QA_fetch_stock_day_adv parameter code=688560 , start=2016-01-04, end=2017-01-04 call QA_fetch_stock_day return None\n",
      "QA Error QA_fetch_stock_day_adv parameter code=688561 , start=2016-01-04, end=2017-01-04 call QA_fetch_stock_day return None\n",
      "QA Error QA_fetch_stock_day_adv parameter code=688565 , start=2016-01-04, end=2017-01-04 call QA_fetch_stock_day return None\n",
      "QA Error QA_fetch_stock_day_adv parameter code=688566 , start=2016-01-04, end=2017-01-04 call QA_fetch_stock_day return None\n",
      "QA Error QA_fetch_stock_day_adv parameter code=688567 , start=2016-01-04, end=2017-01-04 call QA_fetch_stock_day return None\n",
      "QA Error QA_fetch_stock_day_adv parameter code=688568 , start=2016-01-04, end=2017-01-04 call QA_fetch_stock_day return None\n",
      "QA Error QA_fetch_stock_day_adv parameter code=688569 , start=2016-01-04, end=2017-01-04 call QA_fetch_stock_day return None\n",
      "QA Error QA_fetch_stock_day_adv parameter code=688571 , start=2016-01-04, end=2017-01-04 call QA_fetch_stock_day return None\n",
      "QA Error QA_fetch_stock_day_adv parameter code=688575 , start=2016-01-04, end=2017-01-04 call QA_fetch_stock_day return None\n",
      "QA Error QA_fetch_stock_day_adv parameter code=688577 , start=2016-01-04, end=2017-01-04 call QA_fetch_stock_day return None\n",
      "QA Error QA_fetch_stock_day_adv parameter code=688578 , start=2016-01-04, end=2017-01-04 call QA_fetch_stock_day return None\n",
      "QA Error QA_fetch_stock_day_adv parameter code=688579 , start=2016-01-04, end=2017-01-04 call QA_fetch_stock_day return None\n",
      "QA Error QA_fetch_stock_day_adv parameter code=688580 , start=2016-01-04, end=2017-01-04 call QA_fetch_stock_day return None\n",
      "QA Error QA_fetch_stock_day_adv parameter code=688585 , start=2016-01-04, end=2017-01-04 call QA_fetch_stock_day return None\n",
      "QA Error QA_fetch_stock_day_adv parameter code=688586 , start=2016-01-04, end=2017-01-04 call QA_fetch_stock_day return None\n",
      "QA Error QA_fetch_stock_day_adv parameter code=688588 , start=2016-01-04, end=2017-01-04 call QA_fetch_stock_day return None\n"
     ]
    },
    {
     "name": "stderr",
     "output_type": "stream",
     "text": [
      "Processing 688660:  99%|█████████▉| 4296/4328 [02:09<00:00, 128.55it/s]"
     ]
    },
    {
     "name": "stdout",
     "output_type": "stream",
     "text": [
      "QA Error QA_fetch_stock_day_adv parameter code=688589 , start=2016-01-04, end=2017-01-04 call QA_fetch_stock_day return None\n",
      "QA Error QA_fetch_stock_day_adv parameter code=688590 , start=2016-01-04, end=2017-01-04 call QA_fetch_stock_day return None\n",
      "QA Error QA_fetch_stock_day_adv parameter code=688595 , start=2016-01-04, end=2017-01-04 call QA_fetch_stock_day return None\n",
      "QA Error QA_fetch_stock_day_adv parameter code=688596 , start=2016-01-04, end=2017-01-04 call QA_fetch_stock_day return None\n",
      "QA Error QA_fetch_stock_day_adv parameter code=688598 , start=2016-01-04, end=2017-01-04 call QA_fetch_stock_day return None\n",
      "QA Error QA_fetch_stock_day_adv parameter code=688599 , start=2016-01-04, end=2017-01-04 call QA_fetch_stock_day return None\n",
      "QA Error QA_fetch_stock_day_adv parameter code=688600 , start=2016-01-04, end=2017-01-04 call QA_fetch_stock_day return None\n",
      "QA Error QA_fetch_stock_day_adv parameter code=688606 , start=2016-01-04, end=2017-01-04 call QA_fetch_stock_day return None\n",
      "QA Error QA_fetch_stock_day_adv parameter code=688607 , start=2016-01-04, end=2017-01-04 call QA_fetch_stock_day return None\n",
      "QA Error QA_fetch_stock_day_adv parameter code=688608 , start=2016-01-04, end=2017-01-04 call QA_fetch_stock_day return None\n",
      "QA Error QA_fetch_stock_day_adv parameter code=688609 , start=2016-01-04, end=2017-01-04 call QA_fetch_stock_day return None\n",
      "QA Error QA_fetch_stock_day_adv parameter code=688611 , start=2016-01-04, end=2017-01-04 call QA_fetch_stock_day return None\n",
      "QA Error QA_fetch_stock_day_adv parameter code=688613 , start=2016-01-04, end=2017-01-04 call QA_fetch_stock_day return None\n",
      "QA Error QA_fetch_stock_day_adv parameter code=688616 , start=2016-01-04, end=2017-01-04 call QA_fetch_stock_day return None\n",
      "QA Error QA_fetch_stock_day_adv parameter code=688617 , start=2016-01-04, end=2017-01-04 call QA_fetch_stock_day return None\n",
      "QA Error QA_fetch_stock_day_adv parameter code=688618 , start=2016-01-04, end=2017-01-04 call QA_fetch_stock_day return None\n",
      "QA Error QA_fetch_stock_day_adv parameter code=688619 , start=2016-01-04, end=2017-01-04 call QA_fetch_stock_day return None\n",
      "QA Error QA_fetch_stock_day_adv parameter code=688626 , start=2016-01-04, end=2017-01-04 call QA_fetch_stock_day return None\n",
      "QA Error QA_fetch_stock_day_adv parameter code=688628 , start=2016-01-04, end=2017-01-04 call QA_fetch_stock_day return None\n",
      "QA Error QA_fetch_stock_day_adv parameter code=688630 , start=2016-01-04, end=2017-01-04 call QA_fetch_stock_day return None\n",
      "QA Error QA_fetch_stock_day_adv parameter code=688633 , start=2016-01-04, end=2017-01-04 call QA_fetch_stock_day return None\n",
      "QA Error QA_fetch_stock_day_adv parameter code=688636 , start=2016-01-04, end=2017-01-04 call QA_fetch_stock_day return None\n",
      "QA Error QA_fetch_stock_day_adv parameter code=688639 , start=2016-01-04, end=2017-01-04 call QA_fetch_stock_day return None\n",
      "QA Error QA_fetch_stock_day_adv parameter code=688655 , start=2016-01-04, end=2017-01-04 call QA_fetch_stock_day return None\n",
      "QA Error QA_fetch_stock_day_adv parameter code=688656 , start=2016-01-04, end=2017-01-04 call QA_fetch_stock_day return None\n",
      "QA Error QA_fetch_stock_day_adv parameter code=688658 , start=2016-01-04, end=2017-01-04 call QA_fetch_stock_day return None\n",
      "QA Error QA_fetch_stock_day_adv parameter code=688659 , start=2016-01-04, end=2017-01-04 call QA_fetch_stock_day return None\n",
      "QA Error QA_fetch_stock_day_adv parameter code=688660 , start=2016-01-04, end=2017-01-04 call QA_fetch_stock_day return None\n"
     ]
    },
    {
     "name": "stderr",
     "output_type": "stream",
     "text": [
      "Processing 689009: 100%|██████████| 4328/4328 [02:09<00:00, 33.31it/s] "
     ]
    },
    {
     "name": "stdout",
     "output_type": "stream",
     "text": [
      "QA Error QA_fetch_stock_day_adv parameter code=688661 , start=2016-01-04, end=2017-01-04 call QA_fetch_stock_day return None\n",
      "QA Error QA_fetch_stock_day_adv parameter code=688662 , start=2016-01-04, end=2017-01-04 call QA_fetch_stock_day return None\n",
      "QA Error QA_fetch_stock_day_adv parameter code=688663 , start=2016-01-04, end=2017-01-04 call QA_fetch_stock_day return None\n",
      "QA Error QA_fetch_stock_day_adv parameter code=688665 , start=2016-01-04, end=2017-01-04 call QA_fetch_stock_day return None\n",
      "QA Error QA_fetch_stock_day_adv parameter code=688667 , start=2016-01-04, end=2017-01-04 call QA_fetch_stock_day return None\n",
      "QA Error QA_fetch_stock_day_adv parameter code=688668 , start=2016-01-04, end=2017-01-04 call QA_fetch_stock_day return None\n",
      "QA Error QA_fetch_stock_day_adv parameter code=688669 , start=2016-01-04, end=2017-01-04 call QA_fetch_stock_day return None\n",
      "QA Error QA_fetch_stock_day_adv parameter code=688676 , start=2016-01-04, end=2017-01-04 call QA_fetch_stock_day return None\n",
      "QA Error QA_fetch_stock_day_adv parameter code=688677 , start=2016-01-04, end=2017-01-04 call QA_fetch_stock_day return None\n",
      "QA Error QA_fetch_stock_day_adv parameter code=688678 , start=2016-01-04, end=2017-01-04 call QA_fetch_stock_day return None\n",
      "QA Error QA_fetch_stock_day_adv parameter code=688679 , start=2016-01-04, end=2017-01-04 call QA_fetch_stock_day return None\n",
      "QA Error QA_fetch_stock_day_adv parameter code=688680 , start=2016-01-04, end=2017-01-04 call QA_fetch_stock_day return None\n",
      "QA Error QA_fetch_stock_day_adv parameter code=688682 , start=2016-01-04, end=2017-01-04 call QA_fetch_stock_day return None\n",
      "QA Error QA_fetch_stock_day_adv parameter code=688683 , start=2016-01-04, end=2017-01-04 call QA_fetch_stock_day return None\n",
      "QA Error QA_fetch_stock_day_adv parameter code=688685 , start=2016-01-04, end=2017-01-04 call QA_fetch_stock_day return None\n",
      "QA Error QA_fetch_stock_day_adv parameter code=688686 , start=2016-01-04, end=2017-01-04 call QA_fetch_stock_day return None\n",
      "QA Error QA_fetch_stock_day_adv parameter code=688687 , start=2016-01-04, end=2017-01-04 call QA_fetch_stock_day return None\n",
      "QA Error QA_fetch_stock_day_adv parameter code=688688 , start=2016-01-04, end=2017-01-04 call QA_fetch_stock_day return None\n",
      "QA Error QA_fetch_stock_day_adv parameter code=688689 , start=2016-01-04, end=2017-01-04 call QA_fetch_stock_day return None\n",
      "QA Error QA_fetch_stock_day_adv parameter code=688696 , start=2016-01-04, end=2017-01-04 call QA_fetch_stock_day return None\n",
      "QA Error QA_fetch_stock_day_adv parameter code=688698 , start=2016-01-04, end=2017-01-04 call QA_fetch_stock_day return None\n",
      "QA Error QA_fetch_stock_day_adv parameter code=688699 , start=2016-01-04, end=2017-01-04 call QA_fetch_stock_day return None\n",
      "QA Error QA_fetch_stock_day_adv parameter code=688777 , start=2016-01-04, end=2017-01-04 call QA_fetch_stock_day return None\n",
      "QA Error QA_fetch_stock_day_adv parameter code=688788 , start=2016-01-04, end=2017-01-04 call QA_fetch_stock_day return None\n",
      "QA Error QA_fetch_stock_day_adv parameter code=688819 , start=2016-01-04, end=2017-01-04 call QA_fetch_stock_day return None\n",
      "QA Error QA_fetch_stock_day_adv parameter code=688981 , start=2016-01-04, end=2017-01-04 call QA_fetch_stock_day return None\n",
      "QA Error QA_fetch_stock_day_adv parameter code=689009 , start=2016-01-04, end=2017-01-04 call QA_fetch_stock_day return None\n",
      "\n"
     ]
    },
    {
     "name": "stderr",
     "output_type": "stream",
     "text": [
      "\n"
     ]
    },
    {
     "data": {
      "text/plain": [
       "array([{'date': 20170104, 'code': '000017', 'cname': '*ST中华A'},\n",
       "       {'date': 20170104, 'code': '000026', 'cname': '飞亚达'},\n",
       "       {'date': 20170104, 'code': '000045', 'cname': '深纺织Ａ'},\n",
       "       {'date': 20170104, 'code': '000585', 'cname': '*ST东电'},\n",
       "       {'date': 20170104, 'code': '000595', 'cname': '*ST宝实'},\n",
       "       {'date': 20170104, 'code': '000678', 'cname': '襄阳轴承'},\n",
       "       {'date': 20170104, 'code': '000695', 'cname': '滨海能源'},\n",
       "       {'date': 20170104, 'code': '000710', 'cname': '贝瑞基因'},\n",
       "       {'date': 20170104, 'code': '000755', 'cname': '山西路桥'},\n",
       "       {'date': 20170104, 'code': '000885', 'cname': '城发环境'},\n",
       "       {'date': 20170104, 'code': '000959', 'cname': '首钢股份'},\n",
       "       {'date': 20170104, 'code': '002245', 'cname': '蔚蓝锂芯'},\n",
       "       {'date': 20170104, 'code': '002297', 'cname': '博云新材'},\n",
       "       {'date': 20170104, 'code': '002300', 'cname': '太阳电缆'},\n",
       "       {'date': 20170104, 'code': '002461', 'cname': '珠江啤酒'},\n",
       "       {'date': 20170104, 'code': '002530', 'cname': '金财互联'},\n",
       "       {'date': 20170104, 'code': '002703', 'cname': '浙江世宝'},\n",
       "       {'date': 20170104, 'code': '002709', 'cname': '天赐材料'},\n",
       "       {'date': 20170104, 'code': '002738', 'cname': '中矿资源'},\n",
       "       {'date': 20170104, 'code': '002833', 'cname': '弘亚数控'},\n",
       "       {'date': 20170104, 'code': '002835', 'cname': '同为股份'},\n",
       "       {'date': 20170104, 'code': '002836', 'cname': '新宏泽'},\n",
       "       {'date': 20170104, 'code': '002837', 'cname': '英维克'},\n",
       "       {'date': 20170104, 'code': '300073', 'cname': '当升科技'},\n",
       "       {'date': 20170104, 'code': '300130', 'cname': '新国都'},\n",
       "       {'date': 20170104, 'code': '300175', 'cname': '朗源股份'},\n",
       "       {'date': 20170104, 'code': '300219', 'cname': '鸿利智汇'},\n",
       "       {'date': 20170104, 'code': '300243', 'cname': '瑞丰高材'},\n",
       "       {'date': 20170104, 'code': '300304', 'cname': '云意电气'},\n",
       "       {'date': 20170104, 'code': '300340', 'cname': '科恒股份'},\n",
       "       {'date': 20170104, 'code': '300402', 'cname': '宝色股份'},\n",
       "       {'date': 20170104, 'code': '300503', 'cname': '昊志机电'},\n",
       "       {'date': 20170104, 'code': '300571', 'cname': '平治信息'},\n",
       "       {'date': 20170104, 'code': '300573', 'cname': '兴齐眼药'},\n",
       "       {'date': 20170104, 'code': '300576', 'cname': '容大感光'},\n",
       "       {'date': 20170104, 'code': '300577', 'cname': '开润股份'},\n",
       "       {'date': 20170104, 'code': '300579', 'cname': '数字认证'},\n",
       "       {'date': 20170104, 'code': '300581', 'cname': '晨曦航空'},\n",
       "       {'date': 20170104, 'code': '300582', 'cname': '英飞特'},\n",
       "       {'date': 20170104, 'code': '300585', 'cname': '奥联电子'},\n",
       "       {'date': 20170104, 'code': '600183', 'cname': '生益科技'},\n",
       "       {'date': 20170104, 'code': '600209', 'cname': '*ST罗顿'},\n",
       "       {'date': 20170104, 'code': '600215', 'cname': '*ST经开'},\n",
       "       {'date': 20170104, 'code': '600249', 'cname': '两面针'},\n",
       "       {'date': 20170104, 'code': '600416', 'cname': '湘电股份'},\n",
       "       {'date': 20170104, 'code': '600571', 'cname': '信雅达'},\n",
       "       {'date': 20170104, 'code': '600698', 'cname': 'ST天雁'},\n",
       "       {'date': 20170104, 'code': '600800', 'cname': '渤海化学'},\n",
       "       {'date': 20170104, 'code': '600810', 'cname': '神马股份'},\n",
       "       {'date': 20170104, 'code': '601188', 'cname': '龙江交通'},\n",
       "       {'date': 20170104, 'code': '601375', 'cname': '中原证券'},\n",
       "       {'date': 20170104, 'code': '601965', 'cname': '中国汽研'},\n",
       "       {'date': 20170104, 'code': '603009', 'cname': '北特科技'},\n",
       "       {'date': 20170104, 'code': '603058', 'cname': '永吉股份'},\n",
       "       {'date': 20170104, 'code': '603186', 'cname': '华正新材'},\n",
       "       {'date': 20170104, 'code': '603218', 'cname': '日月股份'},\n",
       "       {'date': 20170104, 'code': '603239', 'cname': '浙江仙通'},\n",
       "       {'date': 20170104, 'code': '603298', 'cname': '杭叉集团'},\n",
       "       {'date': 20170104, 'code': '603577', 'cname': '汇金通'},\n",
       "       {'date': 20170104, 'code': '603779', 'cname': 'ST威龙'},\n",
       "       {'date': 20170104, 'code': '603823', 'cname': '百合花'},\n",
       "       {'date': 20170104, 'code': '603886', 'cname': '元祖股份'},\n",
       "       {'date': 20170104, 'code': '603929', 'cname': '亚翔集成'},\n",
       "       {'date': 20170104, 'code': '603988', 'cname': '中电电机'}],\n",
       "      dtype=object)"
      ]
     },
     "execution_count": 23,
     "metadata": {},
     "output_type": "execute_result"
    }
   ],
   "source": [
    "# 选出涨停股\n",
    "select(\n",
    "    lambda : C / C[1] - 1 >= 0.0995,\n",
    "    start_date=20170104,\n",
    "\tend_date=20170104,\n",
    ")"
   ]
  },
  {
   "cell_type": "code",
   "execution_count": 24,
   "metadata": {},
   "outputs": [
    {
     "name": "stderr",
     "output_type": "stream",
     "text": [
      "Processing 000004:   0%|          | 0/4328 [00:00<?, ?it/s]"
     ]
    },
    {
     "name": "stdout",
     "output_type": "stream",
     "text": [
      "lambda : ((HHV(MAX(C, O), 30) / LLV(MIN(C, O), 30) - 1 < 0.07)\n",
      "              & (HHV(MAX(C, O), 100) / LLV(MIN(C, O), 100) - 1 > 0.25)\n",
      "              & (COUNT(C > MA(C, 60), 10) > 3)\n",
      "             ),\n",
      "[20170104]\n"
     ]
    },
    {
     "name": "stderr",
     "output_type": "stream",
     "text": [
      "Processing 600530:  66%|██████▌   | 2852/4328 [00:31<00:17, 85.60it/s] "
     ]
    },
    {
     "name": "stdout",
     "output_type": "stream",
     "text": [
      "20170104 600512 腾达建设\n"
     ]
    },
    {
     "name": "stderr",
     "output_type": "stream",
     "text": [
      "Processing 689009: 100%|██████████| 4328/4328 [00:42<00:00, 103.04it/s]"
     ]
    },
    {
     "name": "stdout",
     "output_type": "stream",
     "text": [
      "\n"
     ]
    },
    {
     "name": "stderr",
     "output_type": "stream",
     "text": [
      "\n"
     ]
    },
    {
     "data": {
      "text/plain": [
       "array([{'date': 20170104, 'code': '600512', 'cname': '腾达建设'}],\n",
       "      dtype=object)"
      ]
     },
     "execution_count": 24,
     "metadata": {},
     "output_type": "execute_result"
    }
   ],
   "source": [
    "# 选出最近30天K线实体最高价最低价差7%以内，最近100天K线实体最高价最低价差25%以内，\n",
    "# 最近10天，收盘价大于60日均线的天数大于3天\n",
    "select(\n",
    "    lambda : ((HHV(MAX(C, O), 30) / LLV(MIN(C, O), 30) - 1 < 0.07)\n",
    "              & (HHV(MAX(C, O), 100) / LLV(MIN(C, O), 100) - 1 > 0.25)\n",
    "              & (COUNT(C > MA(C, 60), 10) > 3)\n",
    "             ),\n",
    "    start_date=20170104,\n",
    "\tend_date=20170104,\n",
    ")"
   ]
  },
  {
   "cell_type": "code",
   "execution_count": null,
   "metadata": {},
   "outputs": [
    {
     "name": "stderr",
     "output_type": "stream",
     "text": [
      "\r",
      "  0%|          | 0/4328 [00:00<?, ?it/s]"
     ]
    },
    {
     "name": "stdout",
     "output_type": "stream",
     "text": [
      "lambda : (EVERY(V < MA(V, 20) / 2, 3) & EVERY(L < MA(C, 20), 3) & EVERY(H > MA(C, 20), 3)),\n",
      "[20191231]\n"
     ]
    },
    {
     "name": "stderr",
     "output_type": "stream",
     "text": [
      "Processing 000032:   1%|          | 26/4328 [00:01<03:42, 19.38it/s]"
     ]
    },
    {
     "name": "stdout",
     "output_type": "stream",
     "text": [
      "series error: []\n"
     ]
    },
    {
     "name": "stderr",
     "output_type": "stream",
     "text": [
      "Processing 000997:  10%|█         | 450/4328 [00:22<04:20, 14.89it/s]"
     ]
    },
    {
     "name": "stdout",
     "output_type": "stream",
     "text": [
      "series error: []\n"
     ]
    },
    {
     "name": "stderr",
     "output_type": "stream",
     "text": [
      "Processing 001872:  11%|█         | 459/4328 [00:23<02:41, 23.94it/s]"
     ]
    },
    {
     "name": "stdout",
     "output_type": "stream",
     "text": [
      "QA Error QA_fetch_stock_day_adv parameter code=001201 , start=2018-01-02, end=2019-12-31 call QA_fetch_stock_day return None\n",
      "series error: []\n",
      "QA Error QA_fetch_stock_day_adv parameter code=001202 , start=2018-01-02, end=2019-12-31 call QA_fetch_stock_day return None\n",
      "series error: []\n",
      "QA Error QA_fetch_stock_day_adv parameter code=001203 , start=2018-01-02, end=2019-12-31 call QA_fetch_stock_day return None\n",
      "series error: []\n",
      "QA Error QA_fetch_stock_day_adv parameter code=001205 , start=2018-01-02, end=2019-12-31 call QA_fetch_stock_day return None\n",
      "series error: []\n",
      "QA Error QA_fetch_stock_day_adv parameter code=001206 , start=2018-01-02, end=2019-12-31 call QA_fetch_stock_day return None\n",
      "series error: []\n"
     ]
    },
    {
     "name": "stderr",
     "output_type": "stream",
     "text": [
      "Processing 002119:  13%|█▎        | 578/4328 [00:28<02:39, 23.49it/s]"
     ]
    },
    {
     "name": "stdout",
     "output_type": "stream",
     "text": [
      "series error: []\n"
     ]
    },
    {
     "name": "stderr",
     "output_type": "stream",
     "text": [
      "Processing 002264:  17%|█▋        | 719/4328 [00:35<03:18, 18.14it/s]"
     ]
    },
    {
     "name": "stdout",
     "output_type": "stream",
     "text": [
      "series error: []\n"
     ]
    },
    {
     "name": "stderr",
     "output_type": "stream",
     "text": [
      "Processing 002454:  21%|██        | 909/4328 [00:43<02:43, 20.96it/s]"
     ]
    },
    {
     "name": "stdout",
     "output_type": "stream",
     "text": [
      "series error: []\n"
     ]
    },
    {
     "name": "stderr",
     "output_type": "stream",
     "text": [
      "Processing 002714:  27%|██▋       | 1163/4328 [00:56<02:30, 21.07it/s]"
     ]
    },
    {
     "name": "stdout",
     "output_type": "stream",
     "text": [
      "QA Error QA_fetch_stock_day_adv parameter code=002710 , start=2018-01-02, end=2019-12-31 call QA_fetch_stock_day return None\n",
      "series error: []\n"
     ]
    },
    {
     "name": "stderr",
     "output_type": "stream",
     "text": [
      "Processing 002724:  27%|██▋       | 1175/4328 [00:56<02:25, 21.60it/s]"
     ]
    },
    {
     "name": "stdout",
     "output_type": "stream",
     "text": [
      "QA Error QA_fetch_stock_day_adv parameter code=002720 , start=2018-01-02, end=2019-12-31 call QA_fetch_stock_day return None\n",
      "series error: []\n"
     ]
    },
    {
     "name": "stderr",
     "output_type": "stream",
     "text": [
      "Processing 003000:  33%|███▎      | 1414/4328 [01:06<00:56, 51.50it/s]"
     ]
    },
    {
     "name": "stdout",
     "output_type": "stream",
     "text": [
      "QA Error QA_fetch_stock_day_adv parameter code=002971 , start=2018-01-02, end=2019-12-31 call QA_fetch_stock_day return None\n",
      "series error: []\n",
      "QA Error QA_fetch_stock_day_adv parameter code=002973 , start=2018-01-02, end=2019-12-31 call QA_fetch_stock_day return None\n",
      "series error: []\n",
      "QA Error QA_fetch_stock_day_adv parameter code=002975 , start=2018-01-02, end=2019-12-31 call QA_fetch_stock_day return None\n",
      "series error: []\n",
      "QA Error QA_fetch_stock_day_adv parameter code=002976 , start=2018-01-02, end=2019-12-31 call QA_fetch_stock_day return None\n",
      "series error: []\n",
      "QA Error QA_fetch_stock_day_adv parameter code=002977 , start=2018-01-02, end=2019-12-31 call QA_fetch_stock_day return None\n",
      "series error: []\n",
      "QA Error QA_fetch_stock_day_adv parameter code=002978 , start=2018-01-02, end=2019-12-31 call QA_fetch_stock_day return None\n",
      "series error: []\n",
      "QA Error QA_fetch_stock_day_adv parameter code=002979 , start=2018-01-02, end=2019-12-31 call QA_fetch_stock_day return None\n",
      "series error: []\n",
      "QA Error QA_fetch_stock_day_adv parameter code=002980 , start=2018-01-02, end=2019-12-31 call QA_fetch_stock_day return None\n",
      "series error: []\n",
      "QA Error QA_fetch_stock_day_adv parameter code=002981 , start=2018-01-02, end=2019-12-31 call QA_fetch_stock_day return None\n",
      "series error: []\n",
      "QA Error QA_fetch_stock_day_adv parameter code=002982 , start=2018-01-02, end=2019-12-31 call QA_fetch_stock_day return None\n",
      "series error: []\n",
      "QA Error QA_fetch_stock_day_adv parameter code=002983 , start=2018-01-02, end=2019-12-31 call QA_fetch_stock_day return None\n",
      "series error: []\n",
      "QA Error QA_fetch_stock_day_adv parameter code=002984 , start=2018-01-02, end=2019-12-31 call QA_fetch_stock_day return None\n",
      "series error: []\n",
      "QA Error QA_fetch_stock_day_adv parameter code=002985 , start=2018-01-02, end=2019-12-31 call QA_fetch_stock_day return None\n",
      "series error: []\n",
      "QA Error QA_fetch_stock_day_adv parameter code=002986 , start=2018-01-02, end=2019-12-31 call QA_fetch_stock_day return None\n",
      "series error: []\n",
      "QA Error QA_fetch_stock_day_adv parameter code=002987 , start=2018-01-02, end=2019-12-31 call QA_fetch_stock_day return None\n",
      "series error: []\n",
      "QA Error QA_fetch_stock_day_adv parameter code=002988 , start=2018-01-02, end=2019-12-31 call QA_fetch_stock_day return None\n",
      "series error: []\n",
      "QA Error QA_fetch_stock_day_adv parameter code=002989 , start=2018-01-02, end=2019-12-31 call QA_fetch_stock_day return None\n",
      "series error: []\n",
      "QA Error QA_fetch_stock_day_adv parameter code=002990 , start=2018-01-02, end=2019-12-31 call QA_fetch_stock_day return None\n",
      "series error: []\n",
      "QA Error QA_fetch_stock_day_adv parameter code=002991 , start=2018-01-02, end=2019-12-31 call QA_fetch_stock_day return None\n",
      "series error: []\n",
      "QA Error QA_fetch_stock_day_adv parameter code=002992 , start=2018-01-02, end=2019-12-31 call QA_fetch_stock_day return None\n",
      "series error: []\n",
      "QA Error QA_fetch_stock_day_adv parameter code=002993 , start=2018-01-02, end=2019-12-31 call QA_fetch_stock_day return None\n",
      "series error: []\n",
      "QA Error QA_fetch_stock_day_adv parameter code=002995 , start=2018-01-02, end=2019-12-31 call QA_fetch_stock_day return None\n",
      "series error: []\n",
      "QA Error QA_fetch_stock_day_adv parameter code=002996 , start=2018-01-02, end=2019-12-31 call QA_fetch_stock_day return None\n",
      "series error: []\n",
      "QA Error QA_fetch_stock_day_adv parameter code=002997 , start=2018-01-02, end=2019-12-31 call QA_fetch_stock_day return None\n",
      "series error: []\n",
      "QA Error QA_fetch_stock_day_adv parameter code=002998 , start=2018-01-02, end=2019-12-31 call QA_fetch_stock_day return None\n",
      "series error: []\n",
      "QA Error QA_fetch_stock_day_adv parameter code=002999 , start=2018-01-02, end=2019-12-31 call QA_fetch_stock_day return None\n",
      "series error: []\n",
      "QA Error QA_fetch_stock_day_adv parameter code=003000 , start=2018-01-02, end=2019-12-31 call QA_fetch_stock_day return None\n",
      "series error: []\n"
     ]
    },
    {
     "name": "stderr",
     "output_type": "stream",
     "text": [
      "Processing 003032:  33%|███▎      | 1448/4328 [01:07<00:27, 105.36it/s]"
     ]
    },
    {
     "name": "stdout",
     "output_type": "stream",
     "text": [
      "QA Error QA_fetch_stock_day_adv parameter code=003001 , start=2018-01-02, end=2019-12-31 call QA_fetch_stock_day return None\n",
      "series error: []\n",
      "QA Error QA_fetch_stock_day_adv parameter code=003002 , start=2018-01-02, end=2019-12-31 call QA_fetch_stock_day return None\n",
      "series error: []\n",
      "QA Error QA_fetch_stock_day_adv parameter code=003003 , start=2018-01-02, end=2019-12-31 call QA_fetch_stock_day return None\n",
      "series error: []\n",
      "QA Error QA_fetch_stock_day_adv parameter code=003004 , start=2018-01-02, end=2019-12-31 call QA_fetch_stock_day return None\n",
      "series error: []\n",
      "QA Error QA_fetch_stock_day_adv parameter code=003005 , start=2018-01-02, end=2019-12-31 call QA_fetch_stock_day return None\n",
      "series error: []\n",
      "QA Error QA_fetch_stock_day_adv parameter code=003006 , start=2018-01-02, end=2019-12-31 call QA_fetch_stock_day return None\n",
      "series error: []\n",
      "QA Error QA_fetch_stock_day_adv parameter code=003007 , start=2018-01-02, end=2019-12-31 call QA_fetch_stock_day return None\n",
      "series error: []\n",
      "QA Error QA_fetch_stock_day_adv parameter code=003008 , start=2018-01-02, end=2019-12-31 call QA_fetch_stock_day return None\n",
      "series error: []\n",
      "QA Error QA_fetch_stock_day_adv parameter code=003009 , start=2018-01-02, end=2019-12-31 call QA_fetch_stock_day return None\n",
      "series error: []\n",
      "QA Error QA_fetch_stock_day_adv parameter code=003010 , start=2018-01-02, end=2019-12-31 call QA_fetch_stock_day return None\n",
      "series error: []\n",
      "QA Error QA_fetch_stock_day_adv parameter code=003011 , start=2018-01-02, end=2019-12-31 call QA_fetch_stock_day return None\n",
      "series error: []\n",
      "QA Error QA_fetch_stock_day_adv parameter code=003012 , start=2018-01-02, end=2019-12-31 call QA_fetch_stock_day return None\n",
      "series error: []\n",
      "QA Error QA_fetch_stock_day_adv parameter code=003013 , start=2018-01-02, end=2019-12-31 call QA_fetch_stock_day return None\n",
      "series error: []\n",
      "QA Error QA_fetch_stock_day_adv parameter code=003015 , start=2018-01-02, end=2019-12-31 call QA_fetch_stock_day return None\n",
      "series error: []\n",
      "QA Error QA_fetch_stock_day_adv parameter code=003016 , start=2018-01-02, end=2019-12-31 call QA_fetch_stock_day return None\n",
      "series error: []\n",
      "QA Error QA_fetch_stock_day_adv parameter code=003017 , start=2018-01-02, end=2019-12-31 call QA_fetch_stock_day return None\n",
      "series error: []\n",
      "QA Error QA_fetch_stock_day_adv parameter code=003018 , start=2018-01-02, end=2019-12-31 call QA_fetch_stock_day return None\n",
      "series error: []\n",
      "QA Error QA_fetch_stock_day_adv parameter code=003019 , start=2018-01-02, end=2019-12-31 call QA_fetch_stock_day return None\n",
      "series error: []\n",
      "QA Error QA_fetch_stock_day_adv parameter code=003020 , start=2018-01-02, end=2019-12-31 call QA_fetch_stock_day return None\n",
      "series error: []\n",
      "QA Error QA_fetch_stock_day_adv parameter code=003021 , start=2018-01-02, end=2019-12-31 call QA_fetch_stock_day return None\n",
      "series error: []\n",
      "QA Error QA_fetch_stock_day_adv parameter code=003022 , start=2018-01-02, end=2019-12-31 call QA_fetch_stock_day return None\n",
      "series error: []\n",
      "QA Error QA_fetch_stock_day_adv parameter code=003023 , start=2018-01-02, end=2019-12-31 call QA_fetch_stock_day return None\n",
      "series error: []\n",
      "QA Error QA_fetch_stock_day_adv parameter code=003025 , start=2018-01-02, end=2019-12-31 call QA_fetch_stock_day return None\n",
      "series error: []\n",
      "QA Error QA_fetch_stock_day_adv parameter code=003026 , start=2018-01-02, end=2019-12-31 call QA_fetch_stock_day return None\n",
      "series error: []\n",
      "QA Error QA_fetch_stock_day_adv parameter code=003027 , start=2018-01-02, end=2019-12-31 call QA_fetch_stock_day return None\n",
      "series error: []\n",
      "QA Error QA_fetch_stock_day_adv parameter code=003028 , start=2018-01-02, end=2019-12-31 call QA_fetch_stock_day return None\n",
      "series error: []\n",
      "QA Error QA_fetch_stock_day_adv parameter code=003029 , start=2018-01-02, end=2019-12-31 call QA_fetch_stock_day return None\n",
      "series error: []\n",
      "QA Error QA_fetch_stock_day_adv parameter code=003030 , start=2018-01-02, end=2019-12-31 call QA_fetch_stock_day return None\n",
      "series error: []\n",
      "QA Error QA_fetch_stock_day_adv parameter code=003031 , start=2018-01-02, end=2019-12-31 call QA_fetch_stock_day return None\n",
      "series error: []\n",
      "QA Error QA_fetch_stock_day_adv parameter code=003032 , start=2018-01-02, end=2019-12-31 call QA_fetch_stock_day return None\n",
      "series error: []\n",
      "QA Error QA_fetch_stock_day_adv parameter code=003033 , start=2018-01-02, end=2019-12-31 call QA_fetch_stock_day return None"
     ]
    },
    {
     "name": "stderr",
     "output_type": "stream",
     "text": [
      "Processing 300001:  34%|███▍      | 1461/4328 [01:07<00:25, 110.56it/s]"
     ]
    },
    {
     "name": "stdout",
     "output_type": "stream",
     "text": [
      "\n",
      "series error: []\n",
      "QA Error QA_fetch_stock_day_adv parameter code=003035 , start=2018-01-02, end=2019-12-31 call QA_fetch_stock_day return None\n",
      "series error: []\n",
      "QA Error QA_fetch_stock_day_adv parameter code=003036 , start=2018-01-02, end=2019-12-31 call QA_fetch_stock_day return None\n",
      "series error: []\n",
      "QA Error QA_fetch_stock_day_adv parameter code=003037 , start=2018-01-02, end=2019-12-31 call QA_fetch_stock_day return None\n",
      "series error: []\n",
      "QA Error QA_fetch_stock_day_adv parameter code=003038 , start=2018-01-02, end=2019-12-31 call QA_fetch_stock_day return None\n",
      "series error: []\n",
      "QA Error QA_fetch_stock_day_adv parameter code=003039 , start=2018-01-02, end=2019-12-31 call QA_fetch_stock_day return None\n",
      "series error: []\n",
      "QA Error QA_fetch_stock_day_adv parameter code=003040 , start=2018-01-02, end=2019-12-31 call QA_fetch_stock_day return None\n",
      "series error: []\n",
      "QA Error QA_fetch_stock_day_adv parameter code=003041 , start=2018-01-02, end=2019-12-31 call QA_fetch_stock_day return None\n",
      "series error: []\n",
      "QA Error QA_fetch_stock_day_adv parameter code=003042 , start=2018-01-02, end=2019-12-31 call QA_fetch_stock_day return None\n",
      "series error: []\n",
      "QA Error QA_fetch_stock_day_adv parameter code=003043 , start=2018-01-02, end=2019-12-31 call QA_fetch_stock_day return None\n",
      "series error: []\n"
     ]
    },
    {
     "name": "stderr",
     "output_type": "stream",
     "text": [
      "Processing 300273:  40%|████      | 1736/4328 [01:20<02:05, 20.62it/s] "
     ]
    },
    {
     "name": "stdout",
     "output_type": "stream",
     "text": [
      "series error: []\n"
     ]
    },
    {
     "name": "stderr",
     "output_type": "stream",
     "text": [
      "Processing 300395:  43%|████▎     | 1855/4328 [01:28<01:55, 21.33it/s]"
     ]
    },
    {
     "name": "stdout",
     "output_type": "stream",
     "text": [
      "series error: []\n"
     ]
    },
    {
     "name": "stderr",
     "output_type": "stream",
     "text": [
      "Processing 300618:  48%|████▊     | 2076/4328 [01:39<01:41, 22.19it/s]"
     ]
    },
    {
     "name": "stdout",
     "output_type": "stream",
     "text": [
      "QA Error QA_fetch_stock_day_adv parameter code=300614 , start=2018-01-02, end=2019-12-31 call QA_fetch_stock_day return None\n",
      "series error: []\n"
     ]
    },
    {
     "name": "stderr",
     "output_type": "stream",
     "text": [
      "Processing 300732:  51%|█████     | 2187/4328 [01:44<01:30, 23.57it/s]"
     ]
    },
    {
     "name": "stdout",
     "output_type": "stream",
     "text": [
      "QA Error QA_fetch_stock_day_adv parameter code=300728 , start=2018-01-02, end=2019-12-31 call QA_fetch_stock_day return None\n",
      "series error: []\n"
     ]
    },
    {
     "name": "stderr",
     "output_type": "stream",
     "text": [
      "Processing 300850:  53%|█████▎    | 2281/4328 [01:47<00:27, 75.28it/s]"
     ]
    },
    {
     "name": "stdout",
     "output_type": "stream",
     "text": [
      "QA Error QA_fetch_stock_day_adv parameter code=300812 , start=2018-01-02, end=2019-12-31 call QA_fetch_stock_day return None\n",
      "series error: []\n",
      "QA Error QA_fetch_stock_day_adv parameter code=300813 , start=2018-01-02, end=2019-12-31 call QA_fetch_stock_day return None\n",
      "series error: []\n",
      "QA Error QA_fetch_stock_day_adv parameter code=300815 , start=2018-01-02, end=2019-12-31 call QA_fetch_stock_day return None\n",
      "series error: []\n",
      "QA Error QA_fetch_stock_day_adv parameter code=300816 , start=2018-01-02, end=2019-12-31 call QA_fetch_stock_day return None\n",
      "series error: []\n",
      "QA Error QA_fetch_stock_day_adv parameter code=300817 , start=2018-01-02, end=2019-12-31 call QA_fetch_stock_day return None\n",
      "series error: []\n",
      "QA Error QA_fetch_stock_day_adv parameter code=300818 , start=2018-01-02, end=2019-12-31 call QA_fetch_stock_day return None\n",
      "series error: []\n",
      "QA Error QA_fetch_stock_day_adv parameter code=300819 , start=2018-01-02, end=2019-12-31 call QA_fetch_stock_day return None\n",
      "series error: []\n",
      "QA Error QA_fetch_stock_day_adv parameter code=300820 , start=2018-01-02, end=2019-12-31 call QA_fetch_stock_day return None\n",
      "series error: []\n",
      "QA Error QA_fetch_stock_day_adv parameter code=300821 , start=2018-01-02, end=2019-12-31 call QA_fetch_stock_day return None\n",
      "series error: []\n",
      "QA Error QA_fetch_stock_day_adv parameter code=300822 , start=2018-01-02, end=2019-12-31 call QA_fetch_stock_day return None\n",
      "series error: []\n",
      "QA Error QA_fetch_stock_day_adv parameter code=300823 , start=2018-01-02, end=2019-12-31 call QA_fetch_stock_day return None\n",
      "series error: []\n",
      "QA Error QA_fetch_stock_day_adv parameter code=300824 , start=2018-01-02, end=2019-12-31 call QA_fetch_stock_day return None\n",
      "series error: []\n",
      "QA Error QA_fetch_stock_day_adv parameter code=300825 , start=2018-01-02, end=2019-12-31 call QA_fetch_stock_day return None\n",
      "series error: []\n",
      "QA Error QA_fetch_stock_day_adv parameter code=300826 , start=2018-01-02, end=2019-12-31 call QA_fetch_stock_day return None\n",
      "series error: []\n",
      "QA Error QA_fetch_stock_day_adv parameter code=300827 , start=2018-01-02, end=2019-12-31 call QA_fetch_stock_day return None\n",
      "series error: []\n",
      "QA Error QA_fetch_stock_day_adv parameter code=300828 , start=2018-01-02, end=2019-12-31 call QA_fetch_stock_day return None\n",
      "series error: []\n",
      "QA Error QA_fetch_stock_day_adv parameter code=300829 , start=2018-01-02, end=2019-12-31 call QA_fetch_stock_day return None\n",
      "series error: []\n",
      "QA Error QA_fetch_stock_day_adv parameter code=300830 , start=2018-01-02, end=2019-12-31 call QA_fetch_stock_day return None\n",
      "series error: []\n",
      "QA Error QA_fetch_stock_day_adv parameter code=300831 , start=2018-01-02, end=2019-12-31 call QA_fetch_stock_day return None\n",
      "series error: []\n",
      "QA Error QA_fetch_stock_day_adv parameter code=300832 , start=2018-01-02, end=2019-12-31 call QA_fetch_stock_day return None\n",
      "series error: []\n",
      "QA Error QA_fetch_stock_day_adv parameter code=300833 , start=2018-01-02, end=2019-12-31 call QA_fetch_stock_day return None\n",
      "series error: []\n",
      "QA Error QA_fetch_stock_day_adv parameter code=300835 , start=2018-01-02, end=2019-12-31 call QA_fetch_stock_day return None\n",
      "series error: []\n",
      "QA Error QA_fetch_stock_day_adv parameter code=300836 , start=2018-01-02, end=2019-12-31 call QA_fetch_stock_day return None\n",
      "series error: []\n",
      "QA Error QA_fetch_stock_day_adv parameter code=300837 , start=2018-01-02, end=2019-12-31 call QA_fetch_stock_day return None\n",
      "series error: []\n",
      "QA Error QA_fetch_stock_day_adv parameter code=300838 , start=2018-01-02, end=2019-12-31 call QA_fetch_stock_day return None\n",
      "series error: []\n",
      "QA Error QA_fetch_stock_day_adv parameter code=300839 , start=2018-01-02, end=2019-12-31 call QA_fetch_stock_day return None\n",
      "series error: []\n",
      "QA Error QA_fetch_stock_day_adv parameter code=300840 , start=2018-01-02, end=2019-12-31 call QA_fetch_stock_day return None\n",
      "series error: []\n",
      "QA Error QA_fetch_stock_day_adv parameter code=300841 , start=2018-01-02, end=2019-12-31 call QA_fetch_stock_day return None\n",
      "series error: []\n",
      "QA Error QA_fetch_stock_day_adv parameter code=300842 , start=2018-01-02, end=2019-12-31 call QA_fetch_stock_day return None\n",
      "series error: []\n",
      "QA Error QA_fetch_stock_day_adv parameter code=300843 , start=2018-01-02, end=2019-12-31 call QA_fetch_stock_day return None\n",
      "series error: []\n",
      "QA Error QA_fetch_stock_day_adv parameter code=300845 , start=2018-01-02, end=2019-12-31 call QA_fetch_stock_day return None\n",
      "series error: []\n",
      "QA Error QA_fetch_stock_day_adv parameter code=300846 , start=2018-01-02, end=2019-12-31 call QA_fetch_stock_day return None\n",
      "series error: []\n",
      "QA Error QA_fetch_stock_day_adv parameter code=300847 , start=2018-01-02, end=2019-12-31 call QA_fetch_stock_day return None\n",
      "series error: []\n",
      "QA Error QA_fetch_stock_day_adv parameter code=300848 , start=2018-01-02, end=2019-12-31 call QA_fetch_stock_day return None\n",
      "series error: []\n",
      "QA Error QA_fetch_stock_day_adv parameter code=300849 , start=2018-01-02, end=2019-12-31 call QA_fetch_stock_day return None\n",
      "series error: []\n",
      "QA Error QA_fetch_stock_day_adv parameter code=300850 , start=2018-01-02, end=2019-12-31 call QA_fetch_stock_day return None\n",
      "series error: []\n"
     ]
    },
    {
     "name": "stderr",
     "output_type": "stream",
     "text": [
      "Processing 300879:  53%|█████▎    | 2312/4328 [01:47<00:18, 108.27it/s]"
     ]
    },
    {
     "name": "stdout",
     "output_type": "stream",
     "text": [
      "QA Error QA_fetch_stock_day_adv parameter code=300851 , start=2018-01-02, end=2019-12-31 call QA_fetch_stock_day return None\n",
      "series error: []\n",
      "QA Error QA_fetch_stock_day_adv parameter code=300852 , start=2018-01-02, end=2019-12-31 call QA_fetch_stock_day return None\n",
      "series error: []\n",
      "QA Error QA_fetch_stock_day_adv parameter code=300853 , start=2018-01-02, end=2019-12-31 call QA_fetch_stock_day return None\n",
      "series error: []\n",
      "QA Error QA_fetch_stock_day_adv parameter code=300855 , start=2018-01-02, end=2019-12-31 call QA_fetch_stock_day return None\n",
      "series error: []\n",
      "QA Error QA_fetch_stock_day_adv parameter code=300856 , start=2018-01-02, end=2019-12-31 call QA_fetch_stock_day return None\n",
      "series error: []\n",
      "QA Error QA_fetch_stock_day_adv parameter code=300857 , start=2018-01-02, end=2019-12-31 call QA_fetch_stock_day return None\n",
      "series error: []\n",
      "QA Error QA_fetch_stock_day_adv parameter code=300858 , start=2018-01-02, end=2019-12-31 call QA_fetch_stock_day return None\n",
      "series error: []\n",
      "QA Error QA_fetch_stock_day_adv parameter code=300859 , start=2018-01-02, end=2019-12-31 call QA_fetch_stock_day return None\n",
      "series error: []\n",
      "QA Error QA_fetch_stock_day_adv parameter code=300860 , start=2018-01-02, end=2019-12-31 call QA_fetch_stock_day return None\n",
      "series error: []\n",
      "QA Error QA_fetch_stock_day_adv parameter code=300861 , start=2018-01-02, end=2019-12-31 call QA_fetch_stock_day return None\n",
      "series error: []\n",
      "QA Error QA_fetch_stock_day_adv parameter code=300862 , start=2018-01-02, end=2019-12-31 call QA_fetch_stock_day return None\n",
      "series error: []\n",
      "QA Error QA_fetch_stock_day_adv parameter code=300863 , start=2018-01-02, end=2019-12-31 call QA_fetch_stock_day return None\n",
      "series error: []\n",
      "QA Error QA_fetch_stock_day_adv parameter code=300864 , start=2018-01-02, end=2019-12-31 call QA_fetch_stock_day return None\n",
      "series error: []\n",
      "QA Error QA_fetch_stock_day_adv parameter code=300865 , start=2018-01-02, end=2019-12-31 call QA_fetch_stock_day return None\n",
      "series error: []\n",
      "QA Error QA_fetch_stock_day_adv parameter code=300866 , start=2018-01-02, end=2019-12-31 call QA_fetch_stock_day return None\n",
      "series error: []\n",
      "QA Error QA_fetch_stock_day_adv parameter code=300867 , start=2018-01-02, end=2019-12-31 call QA_fetch_stock_day return None\n",
      "series error: []\n",
      "QA Error QA_fetch_stock_day_adv parameter code=300868 , start=2018-01-02, end=2019-12-31 call QA_fetch_stock_day return None\n",
      "series error: []\n",
      "QA Error QA_fetch_stock_day_adv parameter code=300869 , start=2018-01-02, end=2019-12-31 call QA_fetch_stock_day return None\n",
      "series error: []\n",
      "QA Error QA_fetch_stock_day_adv parameter code=300870 , start=2018-01-02, end=2019-12-31 call QA_fetch_stock_day return None\n",
      "series error: []\n",
      "QA Error QA_fetch_stock_day_adv parameter code=300871 , start=2018-01-02, end=2019-12-31 call QA_fetch_stock_day return None\n",
      "series error: []\n",
      "QA Error QA_fetch_stock_day_adv parameter code=300872 , start=2018-01-02, end=2019-12-31 call QA_fetch_stock_day return None\n",
      "series error: []\n",
      "QA Error QA_fetch_stock_day_adv parameter code=300873 , start=2018-01-02, end=2019-12-31 call QA_fetch_stock_day return None\n",
      "series error: []\n",
      "QA Error QA_fetch_stock_day_adv parameter code=300875 , start=2018-01-02, end=2019-12-31 call QA_fetch_stock_day return None\n",
      "series error: []\n",
      "QA Error QA_fetch_stock_day_adv parameter code=300876 , start=2018-01-02, end=2019-12-31 call QA_fetch_stock_day return None\n",
      "series error: []\n",
      "QA Error QA_fetch_stock_day_adv parameter code=300877 , start=2018-01-02, end=2019-12-31 call QA_fetch_stock_day return None\n",
      "series error: []\n",
      "QA Error QA_fetch_stock_day_adv parameter code=300878 , start=2018-01-02, end=2019-12-31 call QA_fetch_stock_day return None\n",
      "series error: []\n",
      "QA Error QA_fetch_stock_day_adv parameter code=300879 , start=2018-01-02, end=2019-12-31 call QA_fetch_stock_day return None\n",
      "series error: []\n"
     ]
    },
    {
     "name": "stderr",
     "output_type": "stream",
     "text": [
      "Processing 300905:  54%|█████▍    | 2339/4328 [01:47<00:16, 119.36it/s]"
     ]
    },
    {
     "name": "stdout",
     "output_type": "stream",
     "text": [
      "QA Error QA_fetch_stock_day_adv parameter code=300880 , start=2018-01-02, end=2019-12-31 call QA_fetch_stock_day return None\n",
      "series error: []\n",
      "QA Error QA_fetch_stock_day_adv parameter code=300881 , start=2018-01-02, end=2019-12-31 call QA_fetch_stock_day return None\n",
      "series error: []\n",
      "QA Error QA_fetch_stock_day_adv parameter code=300882 , start=2018-01-02, end=2019-12-31 call QA_fetch_stock_day return None\n",
      "series error: []\n",
      "QA Error QA_fetch_stock_day_adv parameter code=300883 , start=2018-01-02, end=2019-12-31 call QA_fetch_stock_day return None\n",
      "series error: []\n",
      "QA Error QA_fetch_stock_day_adv parameter code=300884 , start=2018-01-02, end=2019-12-31 call QA_fetch_stock_day return None\n",
      "series error: []\n",
      "QA Error QA_fetch_stock_day_adv parameter code=300885 , start=2018-01-02, end=2019-12-31 call QA_fetch_stock_day return None\n",
      "series error: []\n",
      "QA Error QA_fetch_stock_day_adv parameter code=300886 , start=2018-01-02, end=2019-12-31 call QA_fetch_stock_day return None\n",
      "series error: []\n",
      "QA Error QA_fetch_stock_day_adv parameter code=300887 , start=2018-01-02, end=2019-12-31 call QA_fetch_stock_day return None\n",
      "series error: []\n",
      "QA Error QA_fetch_stock_day_adv parameter code=300888 , start=2018-01-02, end=2019-12-31 call QA_fetch_stock_day return None\n",
      "series error: []\n",
      "QA Error QA_fetch_stock_day_adv parameter code=300889 , start=2018-01-02, end=2019-12-31 call QA_fetch_stock_day return None\n",
      "series error: []\n",
      "QA Error QA_fetch_stock_day_adv parameter code=300890 , start=2018-01-02, end=2019-12-31 call QA_fetch_stock_day return None\n",
      "series error: []\n",
      "QA Error QA_fetch_stock_day_adv parameter code=300891 , start=2018-01-02, end=2019-12-31 call QA_fetch_stock_day return None\n",
      "series error: []\n",
      "QA Error QA_fetch_stock_day_adv parameter code=300892 , start=2018-01-02, end=2019-12-31 call QA_fetch_stock_day return None\n",
      "series error: []\n",
      "QA Error QA_fetch_stock_day_adv parameter code=300893 , start=2018-01-02, end=2019-12-31 call QA_fetch_stock_day return None\n",
      "series error: []\n",
      "QA Error QA_fetch_stock_day_adv parameter code=300894 , start=2018-01-02, end=2019-12-31 call QA_fetch_stock_day return None\n",
      "series error: []\n",
      "QA Error QA_fetch_stock_day_adv parameter code=300895 , start=2018-01-02, end=2019-12-31 call QA_fetch_stock_day return None\n",
      "series error: []\n",
      "QA Error QA_fetch_stock_day_adv parameter code=300896 , start=2018-01-02, end=2019-12-31 call QA_fetch_stock_day return None\n",
      "series error: []\n",
      "QA Error QA_fetch_stock_day_adv parameter code=300897 , start=2018-01-02, end=2019-12-31 call QA_fetch_stock_day return None\n",
      "series error: []\n",
      "QA Error QA_fetch_stock_day_adv parameter code=300898 , start=2018-01-02, end=2019-12-31 call QA_fetch_stock_day return None\n",
      "series error: []\n",
      "QA Error QA_fetch_stock_day_adv parameter code=300899 , start=2018-01-02, end=2019-12-31 call QA_fetch_stock_day return None\n",
      "series error: []\n",
      "QA Error QA_fetch_stock_day_adv parameter code=300900 , start=2018-01-02, end=2019-12-31 call QA_fetch_stock_day return None\n",
      "series error: []\n",
      "QA Error QA_fetch_stock_day_adv parameter code=300901 , start=2018-01-02, end=2019-12-31 call QA_fetch_stock_day return None\n",
      "series error: []\n",
      "QA Error QA_fetch_stock_day_adv parameter code=300902 , start=2018-01-02, end=2019-12-31 call QA_fetch_stock_day return None\n",
      "series error: []\n",
      "QA Error QA_fetch_stock_day_adv parameter code=300903 , start=2018-01-02, end=2019-12-31 call QA_fetch_stock_day return None\n",
      "series error: []\n",
      "QA Error QA_fetch_stock_day_adv parameter code=300905 , start=2018-01-02, end=2019-12-31 call QA_fetch_stock_day return None\n",
      "series error: []\n",
      "QA Error QA_fetch_stock_day_adv parameter code=300906 , start=2018-01-02, end=2019-12-31 call QA_fetch_stock_day return None"
     ]
    },
    {
     "name": "stderr",
     "output_type": "stream",
     "text": [
      "Processing 300937:  55%|█████▍    | 2366/4328 [01:48<00:15, 123.38it/s]"
     ]
    },
    {
     "name": "stdout",
     "output_type": "stream",
     "text": [
      "\n",
      "series error: []\n",
      "QA Error QA_fetch_stock_day_adv parameter code=300907 , start=2018-01-02, end=2019-12-31 call QA_fetch_stock_day return None\n",
      "series error: []\n",
      "QA Error QA_fetch_stock_day_adv parameter code=300908 , start=2018-01-02, end=2019-12-31 call QA_fetch_stock_day return None\n",
      "series error: []\n",
      "QA Error QA_fetch_stock_day_adv parameter code=300909 , start=2018-01-02, end=2019-12-31 call QA_fetch_stock_day return None\n",
      "series error: []\n",
      "QA Error QA_fetch_stock_day_adv parameter code=300910 , start=2018-01-02, end=2019-12-31 call QA_fetch_stock_day return None\n",
      "series error: []\n",
      "QA Error QA_fetch_stock_day_adv parameter code=300911 , start=2018-01-02, end=2019-12-31 call QA_fetch_stock_day return None\n",
      "series error: []\n",
      "QA Error QA_fetch_stock_day_adv parameter code=300912 , start=2018-01-02, end=2019-12-31 call QA_fetch_stock_day return None\n",
      "series error: []\n",
      "QA Error QA_fetch_stock_day_adv parameter code=300913 , start=2018-01-02, end=2019-12-31 call QA_fetch_stock_day return None\n",
      "series error: []\n",
      "QA Error QA_fetch_stock_day_adv parameter code=300915 , start=2018-01-02, end=2019-12-31 call QA_fetch_stock_day return None\n",
      "series error: []\n",
      "QA Error QA_fetch_stock_day_adv parameter code=300916 , start=2018-01-02, end=2019-12-31 call QA_fetch_stock_day return None\n",
      "series error: []\n",
      "QA Error QA_fetch_stock_day_adv parameter code=300917 , start=2018-01-02, end=2019-12-31 call QA_fetch_stock_day return None\n",
      "series error: []\n",
      "QA Error QA_fetch_stock_day_adv parameter code=300918 , start=2018-01-02, end=2019-12-31 call QA_fetch_stock_day return None\n",
      "series error: []\n",
      "QA Error QA_fetch_stock_day_adv parameter code=300919 , start=2018-01-02, end=2019-12-31 call QA_fetch_stock_day return None\n",
      "series error: []\n",
      "QA Error QA_fetch_stock_day_adv parameter code=300920 , start=2018-01-02, end=2019-12-31 call QA_fetch_stock_day return None\n",
      "series error: []\n",
      "QA Error QA_fetch_stock_day_adv parameter code=300921 , start=2018-01-02, end=2019-12-31 call QA_fetch_stock_day return None\n",
      "series error: []\n",
      "QA Error QA_fetch_stock_day_adv parameter code=300922 , start=2018-01-02, end=2019-12-31 call QA_fetch_stock_day return None\n",
      "series error: []\n",
      "QA Error QA_fetch_stock_day_adv parameter code=300923 , start=2018-01-02, end=2019-12-31 call QA_fetch_stock_day return None\n",
      "series error: []\n",
      "QA Error QA_fetch_stock_day_adv parameter code=300925 , start=2018-01-02, end=2019-12-31 call QA_fetch_stock_day return None\n",
      "series error: []\n",
      "QA Error QA_fetch_stock_day_adv parameter code=300926 , start=2018-01-02, end=2019-12-31 call QA_fetch_stock_day return None\n",
      "series error: []\n",
      "QA Error QA_fetch_stock_day_adv parameter code=300927 , start=2018-01-02, end=2019-12-31 call QA_fetch_stock_day return None\n",
      "series error: []\n",
      "QA Error QA_fetch_stock_day_adv parameter code=300928 , start=2018-01-02, end=2019-12-31 call QA_fetch_stock_day return None\n",
      "series error: []\n",
      "QA Error QA_fetch_stock_day_adv parameter code=300929 , start=2018-01-02, end=2019-12-31 call QA_fetch_stock_day return None\n",
      "series error: []\n",
      "QA Error QA_fetch_stock_day_adv parameter code=300930 , start=2018-01-02, end=2019-12-31 call QA_fetch_stock_day return None\n",
      "series error: []\n",
      "QA Error QA_fetch_stock_day_adv parameter code=300931 , start=2018-01-02, end=2019-12-31 call QA_fetch_stock_day return None\n",
      "series error: []\n",
      "QA Error QA_fetch_stock_day_adv parameter code=300932 , start=2018-01-02, end=2019-12-31 call QA_fetch_stock_day return None\n",
      "series error: []\n",
      "QA Error QA_fetch_stock_day_adv parameter code=300933 , start=2018-01-02, end=2019-12-31 call QA_fetch_stock_day return None\n",
      "series error: []\n",
      "QA Error QA_fetch_stock_day_adv parameter code=300935 , start=2018-01-02, end=2019-12-31 call QA_fetch_stock_day return None\n",
      "series error: []\n",
      "QA Error QA_fetch_stock_day_adv parameter code=300936 , start=2018-01-02, end=2019-12-31 call QA_fetch_stock_day return None\n",
      "series error: []\n",
      "QA Error QA_fetch_stock_day_adv parameter code=300937 , start=2018-01-02, end=2019-12-31 call QA_fetch_stock_day return None\n",
      "series error: []\n"
     ]
    },
    {
     "name": "stderr",
     "output_type": "stream",
     "text": [
      "Processing 300968:  55%|█████▌    | 2399/4328 [01:48<00:14, 134.16it/s]"
     ]
    },
    {
     "name": "stdout",
     "output_type": "stream",
     "text": [
      "QA Error QA_fetch_stock_day_adv parameter code=300938 , start=2018-01-02, end=2019-12-31 call QA_fetch_stock_day return None\n",
      "series error: []\n",
      "QA Error QA_fetch_stock_day_adv parameter code=300939 , start=2018-01-02, end=2019-12-31 call QA_fetch_stock_day return None\n",
      "series error: []\n",
      "QA Error QA_fetch_stock_day_adv parameter code=300940 , start=2018-01-02, end=2019-12-31 call QA_fetch_stock_day return None\n",
      "series error: []\n",
      "QA Error QA_fetch_stock_day_adv parameter code=300941 , start=2018-01-02, end=2019-12-31 call QA_fetch_stock_day return None\n",
      "series error: []\n",
      "QA Error QA_fetch_stock_day_adv parameter code=300942 , start=2018-01-02, end=2019-12-31 call QA_fetch_stock_day return None\n",
      "series error: []\n",
      "QA Error QA_fetch_stock_day_adv parameter code=300943 , start=2018-01-02, end=2019-12-31 call QA_fetch_stock_day return None\n",
      "series error: []\n",
      "QA Error QA_fetch_stock_day_adv parameter code=300945 , start=2018-01-02, end=2019-12-31 call QA_fetch_stock_day return None\n",
      "series error: []\n",
      "QA Error QA_fetch_stock_day_adv parameter code=300946 , start=2018-01-02, end=2019-12-31 call QA_fetch_stock_day return None\n",
      "series error: []\n",
      "QA Error QA_fetch_stock_day_adv parameter code=300947 , start=2018-01-02, end=2019-12-31 call QA_fetch_stock_day return None\n",
      "series error: []\n",
      "QA Error QA_fetch_stock_day_adv parameter code=300948 , start=2018-01-02, end=2019-12-31 call QA_fetch_stock_day return None\n",
      "series error: []\n",
      "QA Error QA_fetch_stock_day_adv parameter code=300949 , start=2018-01-02, end=2019-12-31 call QA_fetch_stock_day return None\n",
      "series error: []\n",
      "QA Error QA_fetch_stock_day_adv parameter code=300950 , start=2018-01-02, end=2019-12-31 call QA_fetch_stock_day return None\n",
      "series error: []\n",
      "QA Error QA_fetch_stock_day_adv parameter code=300951 , start=2018-01-02, end=2019-12-31 call QA_fetch_stock_day return None\n",
      "series error: []\n",
      "QA Error QA_fetch_stock_day_adv parameter code=300952 , start=2018-01-02, end=2019-12-31 call QA_fetch_stock_day return None\n",
      "series error: []\n",
      "QA Error QA_fetch_stock_day_adv parameter code=300953 , start=2018-01-02, end=2019-12-31 call QA_fetch_stock_day return None\n",
      "series error: []\n",
      "QA Error QA_fetch_stock_day_adv parameter code=300955 , start=2018-01-02, end=2019-12-31 call QA_fetch_stock_day return None\n",
      "series error: []\n",
      "QA Error QA_fetch_stock_day_adv parameter code=300956 , start=2018-01-02, end=2019-12-31 call QA_fetch_stock_day return None\n",
      "series error: []\n",
      "QA Error QA_fetch_stock_day_adv parameter code=300957 , start=2018-01-02, end=2019-12-31 call QA_fetch_stock_day return None\n",
      "series error: []\n",
      "QA Error QA_fetch_stock_day_adv parameter code=300958 , start=2018-01-02, end=2019-12-31 call QA_fetch_stock_day return None\n",
      "series error: []\n",
      "QA Error QA_fetch_stock_day_adv parameter code=300959 , start=2018-01-02, end=2019-12-31 call QA_fetch_stock_day return None\n",
      "series error: []\n",
      "QA Error QA_fetch_stock_day_adv parameter code=300960 , start=2018-01-02, end=2019-12-31 call QA_fetch_stock_day return None\n",
      "series error: []\n",
      "QA Error QA_fetch_stock_day_adv parameter code=300961 , start=2018-01-02, end=2019-12-31 call QA_fetch_stock_day return None\n",
      "series error: []\n",
      "QA Error QA_fetch_stock_day_adv parameter code=300962 , start=2018-01-02, end=2019-12-31 call QA_fetch_stock_day return None\n",
      "series error: []\n",
      "QA Error QA_fetch_stock_day_adv parameter code=300963 , start=2018-01-02, end=2019-12-31 call QA_fetch_stock_day return None\n",
      "series error: []\n",
      "QA Error QA_fetch_stock_day_adv parameter code=300965 , start=2018-01-02, end=2019-12-31 call QA_fetch_stock_day return None\n",
      "series error: []\n",
      "QA Error QA_fetch_stock_day_adv parameter code=300966 , start=2018-01-02, end=2019-12-31 call QA_fetch_stock_day return None\n",
      "series error: []\n",
      "QA Error QA_fetch_stock_day_adv parameter code=300967 , start=2018-01-02, end=2019-12-31 call QA_fetch_stock_day return None\n",
      "series error: []\n",
      "QA Error QA_fetch_stock_day_adv parameter code=300968 , start=2018-01-02, end=2019-12-31 call QA_fetch_stock_day return None\n",
      "series error: []\n"
     ]
    },
    {
     "name": "stderr",
     "output_type": "stream",
     "text": [
      "Processing 300999:  56%|█████▌    | 2428/4328 [01:48<00:13, 136.54it/s]"
     ]
    },
    {
     "name": "stdout",
     "output_type": "stream",
     "text": [
      "QA Error QA_fetch_stock_day_adv parameter code=300969 , start=2018-01-02, end=2019-12-31 call QA_fetch_stock_day return None\n",
      "series error: []\n",
      "QA Error QA_fetch_stock_day_adv parameter code=300970 , start=2018-01-02, end=2019-12-31 call QA_fetch_stock_day return None\n",
      "series error: []\n",
      "QA Error QA_fetch_stock_day_adv parameter code=300971 , start=2018-01-02, end=2019-12-31 call QA_fetch_stock_day return None\n",
      "series error: []\n",
      "QA Error QA_fetch_stock_day_adv parameter code=300972 , start=2018-01-02, end=2019-12-31 call QA_fetch_stock_day return None\n",
      "series error: []\n",
      "QA Error QA_fetch_stock_day_adv parameter code=300973 , start=2018-01-02, end=2019-12-31 call QA_fetch_stock_day return None\n",
      "series error: []\n",
      "QA Error QA_fetch_stock_day_adv parameter code=300975 , start=2018-01-02, end=2019-12-31 call QA_fetch_stock_day return None\n",
      "series error: []\n",
      "QA Error QA_fetch_stock_day_adv parameter code=300976 , start=2018-01-02, end=2019-12-31 call QA_fetch_stock_day return None\n",
      "series error: []\n",
      "QA Error QA_fetch_stock_day_adv parameter code=300977 , start=2018-01-02, end=2019-12-31 call QA_fetch_stock_day return None\n",
      "series error: []\n",
      "QA Error QA_fetch_stock_day_adv parameter code=300978 , start=2018-01-02, end=2019-12-31 call QA_fetch_stock_day return None\n",
      "series error: []\n",
      "QA Error QA_fetch_stock_day_adv parameter code=300979 , start=2018-01-02, end=2019-12-31 call QA_fetch_stock_day return None\n",
      "series error: []\n",
      "QA Error QA_fetch_stock_day_adv parameter code=300980 , start=2018-01-02, end=2019-12-31 call QA_fetch_stock_day return None\n",
      "series error: []\n",
      "QA Error QA_fetch_stock_day_adv parameter code=300981 , start=2018-01-02, end=2019-12-31 call QA_fetch_stock_day return None\n",
      "series error: []\n",
      "QA Error QA_fetch_stock_day_adv parameter code=300982 , start=2018-01-02, end=2019-12-31 call QA_fetch_stock_day return None\n",
      "series error: []\n",
      "QA Error QA_fetch_stock_day_adv parameter code=300983 , start=2018-01-02, end=2019-12-31 call QA_fetch_stock_day return None\n",
      "series error: []\n",
      "QA Error QA_fetch_stock_day_adv parameter code=300985 , start=2018-01-02, end=2019-12-31 call QA_fetch_stock_day return None\n",
      "series error: []\n",
      "QA Error QA_fetch_stock_day_adv parameter code=300986 , start=2018-01-02, end=2019-12-31 call QA_fetch_stock_day return None\n",
      "series error: []\n",
      "QA Error QA_fetch_stock_day_adv parameter code=300987 , start=2018-01-02, end=2019-12-31 call QA_fetch_stock_day return None\n",
      "series error: []\n",
      "QA Error QA_fetch_stock_day_adv parameter code=300988 , start=2018-01-02, end=2019-12-31 call QA_fetch_stock_day return None\n",
      "series error: []\n",
      "QA Error QA_fetch_stock_day_adv parameter code=300989 , start=2018-01-02, end=2019-12-31 call QA_fetch_stock_day return None\n",
      "series error: []\n",
      "QA Error QA_fetch_stock_day_adv parameter code=300990 , start=2018-01-02, end=2019-12-31 call QA_fetch_stock_day return None\n",
      "series error: []\n",
      "QA Error QA_fetch_stock_day_adv parameter code=300991 , start=2018-01-02, end=2019-12-31 call QA_fetch_stock_day return None\n",
      "series error: []\n",
      "QA Error QA_fetch_stock_day_adv parameter code=300992 , start=2018-01-02, end=2019-12-31 call QA_fetch_stock_day return None\n",
      "series error: []\n",
      "QA Error QA_fetch_stock_day_adv parameter code=300993 , start=2018-01-02, end=2019-12-31 call QA_fetch_stock_day return None\n",
      "series error: []\n",
      "QA Error QA_fetch_stock_day_adv parameter code=300995 , start=2018-01-02, end=2019-12-31 call QA_fetch_stock_day return None\n",
      "series error: []\n",
      "QA Error QA_fetch_stock_day_adv parameter code=300999 , start=2018-01-02, end=2019-12-31 call QA_fetch_stock_day return None\n",
      "series error: []\n"
     ]
    },
    {
     "name": "stderr",
     "output_type": "stream",
     "text": [
      "Processing 600037:  57%|█████▋    | 2453/4328 [01:49<00:47, 39.30it/s] "
     ]
    },
    {
     "name": "stdout",
     "output_type": "stream",
     "text": [
      "QA Error QA_fetch_stock_day_adv parameter code=600032 , start=2018-01-02, end=2019-12-31 call QA_fetch_stock_day return None\n",
      "series error: []\n"
     ]
    },
    {
     "name": "stderr",
     "output_type": "stream",
     "text": [
      "Processing 600150:  59%|█████▉    | 2547/4328 [01:54<01:32, 19.18it/s]"
     ]
    },
    {
     "name": "stdout",
     "output_type": "stream",
     "text": [
      "series error: []\n"
     ]
    },
    {
     "name": "stderr",
     "output_type": "stream",
     "text": [
      "Processing 600265:  61%|██████    | 2645/4328 [02:00<01:40, 16.71it/s]"
     ]
    }
   ],
   "source": [
    "# 选出最近3天每天的成交量小于20日成交量均线，最近3天最低价低于20日均线，最高价高于20日均线\n",
    "# 自定义选股回调函数\n",
    "def callback(date, order_book_id, symbol):\n",
    "    print(\"Cool, 在\", date, \"选出\", order_book_id, symbol)\n",
    "\n",
    "    \n",
    "select(\n",
    "    lambda : (EVERY(V < MA(V, 20) / 2, 3) & EVERY(L < MA(C, 20), 3) & EVERY(H > MA(C, 20), 3)),\n",
    "    start_date=20190101,\n",
    "\tend_date=20200101,\n",
    "    callback=callback,\n",
    ")"
   ]
  },
  {
   "cell_type": "code",
   "execution_count": null,
   "metadata": {},
   "outputs": [],
   "source": []
  }
 ],
 "metadata": {
  "anaconda-cloud": {},
  "kernelspec": {
   "display_name": "Python 3",
   "language": "python",
   "name": "python3"
  },
  "language_info": {
   "codemirror_mode": {
    "name": "ipython",
    "version": 3
   },
   "file_extension": ".py",
   "mimetype": "text/x-python",
   "name": "python",
   "nbconvert_exporter": "python",
   "pygments_lexer": "ipython3",
   "version": "3.8.8"
  }
 },
 "nbformat": 4,
 "nbformat_minor": 1
}
